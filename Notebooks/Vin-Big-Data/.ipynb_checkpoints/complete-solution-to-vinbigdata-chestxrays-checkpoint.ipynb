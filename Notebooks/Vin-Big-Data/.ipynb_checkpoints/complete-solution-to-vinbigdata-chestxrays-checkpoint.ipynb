{
 "cells": [
  {
   "cell_type": "code",
   "execution_count": null,
   "metadata": {
    "_cell_guid": "b1076dfc-b9ad-4769-8c92-a6c4dae69d19",
    "_uuid": "8f2839f25d086af736a60e9eeb907d3b93b6e0e5",
    "execution": {
     "iopub.execute_input": "2021-09-13T06:12:13.419837Z",
     "iopub.status.busy": "2021-09-13T06:12:13.419205Z",
     "iopub.status.idle": "2021-09-13T06:12:13.440908Z",
     "shell.execute_reply": "2021-09-13T06:12:13.440117Z",
     "shell.execute_reply.started": "2021-09-13T06:12:13.419735Z"
    }
   },
   "outputs": [],
   "source": [
    "# This Python 3 environment comes with many helpful analytics libraries installed\n",
    "# It is defined by the kaggle/python Docker image: https://github.com/kaggle/docker-python\n",
    "# For example, here's several helpful packages to load\n",
    "\n",
    "import numpy as np # linear algebra\n",
    "import pandas as pd # data processing, CSV file I/O (e.g. pd.read_csv)\n",
    "\n",
    "# Input data files are available in the read-only \"../input/\" directory\n",
    "# For example, running this (by clicking run or pressing Shift+Enter) will list all files under the input directory\n",
    "\n",
    "import os\n",
    "# for dirname, _, filenames in os.walk('/kaggle/input'):\n",
    "#     for filename in filenames:\n",
    "#         print(os.path.join(dirname, filename))\n",
    "\n",
    "# You can write up to 20GB to the current directory (/kaggle/working/) that gets preserved as output when you create a version using \"Save & Run All\" \n",
    "# You can also write temporary files to /kaggle/temp/, but they won't be saved outside of the current session"
   ]
  },
  {
   "cell_type": "code",
   "execution_count": null,
   "metadata": {
    "execution": {
     "iopub.execute_input": "2021-09-13T06:12:13.739476Z",
     "iopub.status.busy": "2021-09-13T06:12:13.739197Z",
     "iopub.status.idle": "2021-09-13T06:12:14.338807Z",
     "shell.execute_reply": "2021-09-13T06:12:14.338123Z",
     "shell.execute_reply.started": "2021-09-13T06:12:13.739447Z"
    }
   },
   "outputs": [],
   "source": [
    "import numpy as np\n",
    "import pandas as pd\n",
    "import os\n",
    "import pydicom\n",
    "from glob import glob\n",
    "from tqdm.notebook import tqdm\n",
    "from pydicom.pixel_data_handlers.util import apply_voi_lut\n",
    "import matplotlib.pyplot as plt\n",
    "from skimage import exposure\n",
    "import cv2\n",
    "import warnings\n",
    "warnings.filterwarnings(\"ignore\")\n",
    "from skimage import exposure"
   ]
  },
  {
   "cell_type": "code",
   "execution_count": null,
   "metadata": {
    "execution": {
     "iopub.execute_input": "2021-09-13T06:12:14.340955Z",
     "iopub.status.busy": "2021-09-13T06:12:14.340261Z",
     "iopub.status.idle": "2021-09-13T06:12:15.84024Z",
     "shell.execute_reply": "2021-09-13T06:12:15.839657Z",
     "shell.execute_reply.started": "2021-09-13T06:12:14.340914Z"
    }
   },
   "outputs": [],
   "source": [
    "import matplotlib.patches as ptc\n",
    "from PIL import Image\n",
    "import albumentations"
   ]
  },
  {
   "cell_type": "code",
   "execution_count": null,
   "metadata": {
    "execution": {
     "iopub.execute_input": "2021-09-13T06:12:15.842977Z",
     "iopub.status.busy": "2021-09-13T06:12:15.842254Z",
     "iopub.status.idle": "2021-09-13T06:12:15.86269Z",
     "shell.execute_reply": "2021-09-13T06:12:15.861597Z",
     "shell.execute_reply.started": "2021-09-13T06:12:15.842932Z"
    }
   },
   "outputs": [],
   "source": [
    "# Helper function for reading a DICOM file. \n",
    "\n",
    "def read_xray(path, voi_lut = True, fix_monochrome = True):\n",
    "    dicom = pydicom.read_file(path)\n",
    "    \n",
    "    # VOI LUT (if available by DICOM device) is used to transform raw DICOM data to \"human-friendly\" view\n",
    "    if voi_lut:\n",
    "        data = apply_voi_lut(dicom.pixel_array, dicom)\n",
    "    else:\n",
    "        data = dicom.pixel_array\n",
    "               \n",
    "    # depending on this value, X-ray may look inverted - fix that:\n",
    "    if fix_monochrome and dicom.PhotometricInterpretation == \"MONOCHROME1\":\n",
    "        data = np.amax(data) - data\n",
    "    \n",
    "    # not sure why this is done? \n",
    "    data = data - np.min(data)\n",
    "    data = data / np.max(data)\n",
    "    data = (data * 255).astype(np.uint8)\n",
    "        \n",
    "    return data\n",
    "\n",
    "def plot_img(img_path, size = (7,7), cmap = 'gray'):\n",
    "    img = read_xray(img_path)\n",
    "    plt.figure(figsize=size)\n",
    "    plt.imshow(img, cmap = cmap)\n",
    "    plt.show()\n",
    "    \n",
    "def view_with_annot(image_name, train_csv, CLAHE = False):\n",
    "    if CLAHE == True:\n",
    "        img = read_xray(f\"../input/vinbigdata-chest-xray-abnormalities-detection/train/{image_name}.dicom\")\n",
    "        img = exposure.equalize_hist(img)\n",
    "    else: \n",
    "        img = read_xray(f\"../input/vinbigdata-chest-xray-abnormalities-detection/train/{image_name}.dicom\")\n",
    "        \n",
    "    fig, ax = plt.subplots(1, figsize = (10,10))\n",
    "    ax.imshow(img, cmap = 'gray')\n",
    "\n",
    "    for i in range(0,len(train_csv[train_csv['image_id']==image_name])):\n",
    "        rect = ptc.Rectangle((train_csv[train_csv['image_id']==image_name].reset_index(drop = True).x_min[i], \n",
    "                              train_csv[train_csv['image_id']==image_name].reset_index(drop = True).y_min[i]), \n",
    "                             train_csv[train_csv['image_id']==image_name].reset_index(drop = True).x_max[i]-train_csv[train_csv['image_id']==image_name].reset_index(drop = True).x_min[i], \n",
    "                             train_csv[train_csv['image_id']==image_name].reset_index(drop = True).y_max[i]-train_csv[train_csv['image_id']==image_name].reset_index(drop = True).y_min[i], \n",
    "                             linewidth = 1, edgecolor = cols[train_csv[train_csv['image_id']==image_name].class_id.reset_index(drop = True)[i]], facecolor = 'none')\n",
    "        ax.add_patch(rect)\n",
    "        ax.annotate(train_csv[train_csv['image_id']==image_name].reset_index(drop = True).class_name[i],\n",
    "                    (train_csv[train_csv['image_id']==image_name].reset_index(drop = True).x_min[i], \n",
    "                    train_csv[train_csv['image_id']==image_name].reset_index(drop = True).y_min[i] - 24) )\n",
    "        \n",
    "cols = ['#e41a1c', '#377eb8','#4daf4a','#984ea3','#ff7f00','#ffff33','#a65628','#f781bf','#999999', '#000000', '#1b9e77', '#d95f02', '#7570b3', '#e7298a']"
   ]
  },
  {
   "cell_type": "code",
   "execution_count": null,
   "metadata": {},
   "outputs": [],
   "source": []
  },
  {
   "cell_type": "code",
   "execution_count": null,
   "metadata": {
    "execution": {
     "iopub.execute_input": "2021-09-13T06:12:15.864639Z",
     "iopub.status.busy": "2021-09-13T06:12:15.864115Z",
     "iopub.status.idle": "2021-09-13T06:12:15.878337Z",
     "shell.execute_reply": "2021-09-13T06:12:15.877573Z",
     "shell.execute_reply.started": "2021-09-13T06:12:15.864598Z"
    }
   },
   "outputs": [],
   "source": [
    "#Paths\n",
    "train_original_data = \"../input/vinbigdata-chest-xray-abnormalities-detection/train\"\n",
    "test_original_data = \"../input/vinbigdata-chest-xray-abnormalities-detection/test\"\n",
    "train_csv_orig_path = \"../input/vinbigdata-chest-xray-abnormalities-detection/train.csv\" "
   ]
  },
  {
   "cell_type": "code",
   "execution_count": null,
   "metadata": {
    "execution": {
     "iopub.execute_input": "2021-09-13T06:12:15.881032Z",
     "iopub.status.busy": "2021-09-13T06:12:15.880616Z",
     "iopub.status.idle": "2021-09-13T06:12:16.314509Z",
     "shell.execute_reply": "2021-09-13T06:12:16.313627Z",
     "shell.execute_reply.started": "2021-09-13T06:12:15.880994Z"
    }
   },
   "outputs": [],
   "source": [
    "print(\"The number of Dicom images in train: \", len(os.listdir(train_original_data)))\n",
    "print(\"The number of Dicom images in test: \", len(os.listdir(test_original_data)))"
   ]
  },
  {
   "cell_type": "code",
   "execution_count": null,
   "metadata": {
    "execution": {
     "iopub.execute_input": "2021-09-13T06:12:16.316079Z",
     "iopub.status.busy": "2021-09-13T06:12:16.31577Z",
     "iopub.status.idle": "2021-09-13T06:12:16.503234Z",
     "shell.execute_reply": "2021-09-13T06:12:16.502483Z",
     "shell.execute_reply.started": "2021-09-13T06:12:16.31605Z"
    }
   },
   "outputs": [],
   "source": [
    "train_csv_orig = pd.read_csv(train_csv_orig_path)\n",
    "train_csv_orig.head()"
   ]
  },
  {
   "cell_type": "code",
   "execution_count": null,
   "metadata": {
    "execution": {
     "iopub.execute_input": "2021-09-13T06:12:16.505259Z",
     "iopub.status.busy": "2021-09-13T06:12:16.505043Z",
     "iopub.status.idle": "2021-09-13T06:12:25.235739Z",
     "shell.execute_reply": "2021-09-13T06:12:25.234843Z",
     "shell.execute_reply.started": "2021-09-13T06:12:16.505235Z"
    }
   },
   "outputs": [],
   "source": [
    "#lets plot images with annotations\n",
    "#one with No findings and other with findings\n",
    "\n",
    "eg_1_path = '21a10246a5ec7af151081d0cd6d65dc9.dicom'\n",
    "eg_2_path = '051132a778e61a86eb147c7c6f564dfe.dicom'\n",
    "eg_1 = read_xray(os.path.join(train_original_data, eg_1_path))\n",
    "eg_2 = read_xray(os.path.join(train_original_data, eg_2_path))\n",
    "\n",
    "\n",
    "f = plt.figure(figsize=(10,10))\n",
    "ax1 = f.add_subplot(121)\n",
    "ax2 = f.add_subplot(122)\n",
    "ax1.imshow(eg_1,cmap = 'gray')\n",
    "ax1.set_title(\"Example_1\")\n",
    "ax2.imshow(eg_2, cmap = 'gray')\n",
    "ax2.set_title(\"Example_2\")\n",
    "\n",
    "\n",
    "f2 = plt.figure(figsize=(10,10))\n",
    "ax1 = f2.add_subplot(121)\n",
    "ax2 = f2.add_subplot(122)\n",
    "ax1.imshow(exposure.equalize_hist(eg_1),cmap = 'gray')\n",
    "ax1.set_title(\"Example_1_CLAHE\")\n",
    "ax2.imshow(exposure.equalize_hist(eg_2), cmap = 'gray')\n",
    "ax2.set_title(\"Example_2_CLAHE\")"
   ]
  },
  {
   "cell_type": "code",
   "execution_count": null,
   "metadata": {
    "execution": {
     "iopub.execute_input": "2021-09-13T06:12:25.237499Z",
     "iopub.status.busy": "2021-09-13T06:12:25.236835Z",
     "iopub.status.idle": "2021-09-13T06:12:31.367525Z",
     "shell.execute_reply": "2021-09-13T06:12:31.366761Z",
     "shell.execute_reply.started": "2021-09-13T06:12:25.237466Z"
    }
   },
   "outputs": [],
   "source": [
    "# Ploting Annotatations\n",
    "view_with_annot(\"9a5094b2563a1ef3ff50dc5c7ff71345\", train_csv=train_csv_orig, CLAHE = False)\n",
    "view_with_annot(\"9a5094b2563a1ef3ff50dc5c7ff71345\", train_csv=train_csv_orig, CLAHE = True)"
   ]
  },
  {
   "cell_type": "code",
   "execution_count": null,
   "metadata": {},
   "outputs": [],
   "source": []
  },
  {
   "cell_type": "markdown",
   "metadata": {},
   "source": [
    "### Finding resizing Approach"
   ]
  },
  {
   "cell_type": "code",
   "execution_count": null,
   "metadata": {
    "execution": {
     "iopub.execute_input": "2021-09-13T06:12:31.370106Z",
     "iopub.status.busy": "2021-09-13T06:12:31.369789Z",
     "iopub.status.idle": "2021-09-13T06:12:31.377256Z",
     "shell.execute_reply": "2021-09-13T06:12:31.37652Z",
     "shell.execute_reply.started": "2021-09-13T06:12:31.37007Z"
    }
   },
   "outputs": [],
   "source": [
    "#Creating a resized image dataset 512X512\n",
    "from PIL import Image \n",
    "def resize(array, size, keep_ratio=False, resample=Image.LANCZOS):\n",
    "    # Original from: https://www.kaggle.com/xhlulu/vinbigdata-process-and-resize-to-image\n",
    "    im = Image.fromarray(array)\n",
    "    \n",
    "    if keep_ratio:\n",
    "        im.thumbnail((size, size), resample)\n",
    "    else:\n",
    "        im = im.resize((size, size), resample)\n",
    "    \n",
    "    return im\n"
   ]
  },
  {
   "cell_type": "code",
   "execution_count": null,
   "metadata": {
    "execution": {
     "iopub.execute_input": "2021-09-13T06:12:31.379229Z",
     "iopub.status.busy": "2021-09-13T06:12:31.378493Z",
     "iopub.status.idle": "2021-09-13T06:12:31.388754Z",
     "shell.execute_reply": "2021-09-13T06:12:31.388057Z",
     "shell.execute_reply.started": "2021-09-13T06:12:31.37919Z"
    }
   },
   "outputs": [],
   "source": [
    "def resize_image(img_arr, bboxes, h, w):\n",
    "    \"\"\"\n",
    "    :param img_arr: original image as a numpy array\n",
    "    :param bboxes: bboxes as numpy array where each row is 'x_min', 'y_min', 'x_max', 'y_max', \"class_id\"\n",
    "    :param h: resized height dimension of image\n",
    "    :param w: resized weight dimension of image\n",
    "    :return: dictionary containing {image:transformed, bboxes:['x_min', 'y_min', 'x_max', 'y_max', \"class_id\"]}\n",
    "    \"\"\"\n",
    "    # create resize transform pipeline\n",
    "    transform = albumentations.Compose(\n",
    "        [albumentations.Resize(height=h, width=w, always_apply=True)],\n",
    "        bbox_params=albumentations.BboxParams(format='pascal_voc'))\n",
    "\n",
    "    transformed = transform(image=img_arr, bboxes=bboxes)\n",
    "\n",
    "    return transformed\n",
    "\n",
    "\n",
    "# transformed_dict = resize_image(sample_arr, bboxes_og, 224, 224)\n",
    "\n",
    "# # contains the image as array\n",
    "# transformed_arr = transformed_dict[\"image\"]\n",
    "\n",
    "# # contains the resized bounding boxes\n",
    "# transformed_info = np.array(list(map(list, transformed_dict[\"bboxes\"]))).astype(float)"
   ]
  },
  {
   "cell_type": "code",
   "execution_count": null,
   "metadata": {
    "execution": {
     "iopub.execute_input": "2021-09-13T06:12:31.390045Z",
     "iopub.status.busy": "2021-09-13T06:12:31.389823Z",
     "iopub.status.idle": "2021-09-13T06:12:31.417694Z",
     "shell.execute_reply": "2021-09-13T06:12:31.416873Z",
     "shell.execute_reply.started": "2021-09-13T06:12:31.390021Z"
    }
   },
   "outputs": [],
   "source": [
    "bboxes_og = train_csv_orig[train_csv_orig.image_id == '051132a778e61a86eb147c7c6f564dfe'][['x_min', 'y_min', 'x_max', 'y_max', 'class_id']].values"
   ]
  },
  {
   "cell_type": "code",
   "execution_count": null,
   "metadata": {
    "execution": {
     "iopub.execute_input": "2021-09-13T06:12:31.419372Z",
     "iopub.status.busy": "2021-09-13T06:12:31.419139Z",
     "iopub.status.idle": "2021-09-13T06:12:31.441246Z",
     "shell.execute_reply": "2021-09-13T06:12:31.440434Z",
     "shell.execute_reply.started": "2021-09-13T06:12:31.419348Z"
    }
   },
   "outputs": [],
   "source": [
    "transformed_dict = resize_image(eg_2, bboxes_og, 512, 512)"
   ]
  },
  {
   "cell_type": "code",
   "execution_count": null,
   "metadata": {
    "execution": {
     "iopub.execute_input": "2021-09-13T06:12:31.443429Z",
     "iopub.status.busy": "2021-09-13T06:12:31.442722Z",
     "iopub.status.idle": "2021-09-13T06:12:31.448159Z",
     "shell.execute_reply": "2021-09-13T06:12:31.447372Z",
     "shell.execute_reply.started": "2021-09-13T06:12:31.443386Z"
    }
   },
   "outputs": [],
   "source": [
    "transformed_info = np.array(list(map(list, transformed_dict[\"bboxes\"]))).astype(float)"
   ]
  },
  {
   "cell_type": "code",
   "execution_count": null,
   "metadata": {
    "execution": {
     "iopub.execute_input": "2021-09-13T06:12:31.450709Z",
     "iopub.status.busy": "2021-09-13T06:12:31.450132Z",
     "iopub.status.idle": "2021-09-13T06:12:31.460057Z",
     "shell.execute_reply": "2021-09-13T06:12:31.459217Z",
     "shell.execute_reply.started": "2021-09-13T06:12:31.450668Z"
    }
   },
   "outputs": [],
   "source": [
    "transformed_info"
   ]
  },
  {
   "cell_type": "code",
   "execution_count": null,
   "metadata": {},
   "outputs": [],
   "source": []
  },
  {
   "cell_type": "code",
   "execution_count": null,
   "metadata": {},
   "outputs": [],
   "source": []
  },
  {
   "cell_type": "code",
   "execution_count": null,
   "metadata": {},
   "outputs": [],
   "source": []
  },
  {
   "cell_type": "code",
   "execution_count": null,
   "metadata": {
    "execution": {
     "iopub.execute_input": "2021-09-13T06:17:34.820571Z",
     "iopub.status.busy": "2021-09-13T06:17:34.819886Z",
     "iopub.status.idle": "2021-09-13T06:17:35.22552Z",
     "shell.execute_reply": "2021-09-13T06:17:35.224617Z",
     "shell.execute_reply.started": "2021-09-13T06:17:34.820533Z"
    }
   },
   "outputs": [],
   "source": [
    "fig, ax = plt.subplots(1, figsize = (10,10))\n",
    "ax.imshow(transformed_dict['image'], cmap = 'gray')\n",
    "for i in transformed_info:\n",
    "    rect = ptc.Rectangle((i[0], i[1]), i[2]-i[0], i[3]-i[1], \n",
    "                        linewidth = 1, edgecolor = cols[int(i[4])], \n",
    "                         facecolor = 'none')\n",
    "    ax.add_patch(rect)\n",
    "    \n",
    "    \n",
    "    "
   ]
  },
  {
   "cell_type": "code",
   "execution_count": null,
   "metadata": {
    "execution": {
     "iopub.execute_input": "2021-09-13T05:12:32.826496Z",
     "iopub.status.busy": "2021-09-13T05:12:32.826248Z",
     "iopub.status.idle": "2021-09-13T05:12:36.762486Z",
     "shell.execute_reply": "2021-09-13T05:12:36.76175Z",
     "shell.execute_reply.started": "2021-09-13T05:12:32.826468Z"
    }
   },
   "outputs": [],
   "source": [
    "view_with_annot('051132a778e61a86eb147c7c6f564dfe', train_csv=train_csv_orig)"
   ]
  },
  {
   "cell_type": "code",
   "execution_count": null,
   "metadata": {},
   "outputs": [],
   "source": []
  },
  {
   "cell_type": "code",
   "execution_count": null,
   "metadata": {
    "execution": {
     "iopub.execute_input": "2021-09-13T05:43:05.836126Z",
     "iopub.status.busy": "2021-09-13T05:43:05.835815Z",
     "iopub.status.idle": "2021-09-13T05:43:05.859734Z",
     "shell.execute_reply": "2021-09-13T05:43:05.858682Z",
     "shell.execute_reply.started": "2021-09-13T05:43:05.836097Z"
    }
   },
   "outputs": [],
   "source": [
    "train_csv_orig[train_csv_orig['image_id']=='051132a778e61a86eb147c7c6f564dfe'].class_id.reset_index(drop = True)[int(i[4])"
   ]
  },
  {
   "cell_type": "code",
   "execution_count": null,
   "metadata": {
    "execution": {
     "iopub.execute_input": "2021-09-13T06:12:40.059788Z",
     "iopub.status.busy": "2021-09-13T06:12:40.059467Z",
     "iopub.status.idle": "2021-09-13T06:12:41.28485Z",
     "shell.execute_reply": "2021-09-13T06:12:41.28242Z",
     "shell.execute_reply.started": "2021-09-13T06:12:40.059756Z"
    }
   },
   "outputs": [],
   "source": [
    "print(eg_2.shape)\n",
    "plt.imshow(eg_2, cmap = 'gray')"
   ]
  },
  {
   "cell_type": "code",
   "execution_count": null,
   "metadata": {
    "execution": {
     "iopub.execute_input": "2021-09-13T06:12:41.287095Z",
     "iopub.status.busy": "2021-09-13T06:12:41.286693Z",
     "iopub.status.idle": "2021-09-13T06:12:41.605764Z",
     "shell.execute_reply": "2021-09-13T06:12:41.604972Z",
     "shell.execute_reply.started": "2021-09-13T06:12:41.287052Z"
    }
   },
   "outputs": [],
   "source": [
    "eg_2_resized = resize(eg_1, size = 512)\n",
    "plt.imshow(eg_2_resized, cmap = 'gray')"
   ]
  },
  {
   "cell_type": "code",
   "execution_count": null,
   "metadata": {
    "execution": {
     "iopub.execute_input": "2021-09-13T06:12:43.214703Z",
     "iopub.status.busy": "2021-09-13T06:12:43.214434Z",
     "iopub.status.idle": "2021-09-13T06:12:43.235998Z",
     "shell.execute_reply": "2021-09-13T06:12:43.235136Z",
     "shell.execute_reply.started": "2021-09-13T06:12:43.214676Z"
    }
   },
   "outputs": [],
   "source": [
    "train_csv_orig[train_csv_orig.image_id == '051132a778e61a86eb147c7c6f564dfe'][['x_min', 'y_min', 'x_max', 'y_max']].values//(2880/512, 2304/512,2880/512, 2304/512)"
   ]
  },
  {
   "cell_type": "code",
   "execution_count": null,
   "metadata": {
    "execution": {
     "iopub.execute_input": "2021-09-13T06:12:43.629622Z",
     "iopub.status.busy": "2021-09-13T06:12:43.629328Z",
     "iopub.status.idle": "2021-09-13T06:12:44.786941Z",
     "shell.execute_reply": "2021-09-13T06:12:44.786036Z",
     "shell.execute_reply.started": "2021-09-13T06:12:43.629592Z"
    }
   },
   "outputs": [],
   "source": [
    "fig, ax = plt.subplots(1)\n",
    "ax.imshow(eg_2_resized, cmap = 'gray')\n",
    "image_name = '051132a778e61a86eb147c7c6f564dfe'\n",
    "for i in range(0,len(train_csv_orig[train_csv_orig['image_id']==image_name])):\n",
    "    rect = ptc.Rectangle((train_csv_orig[train_csv_orig['image_id']==image_name].reset_index(drop = True).x_min[i]//(2880/512), \n",
    "                          train_csv_orig[train_csv_orig['image_id']==image_name].reset_index(drop = True).y_min[i]//(2304/512)), \n",
    "                         train_csv_orig[train_csv_orig['image_id']==image_name].reset_index(drop = True).x_max[i]//(2880/512)-train_csv_orig[train_csv_orig['image_id']==image_name].reset_index(drop = True).x_min[i]//(2880/512), \n",
    "                         train_csv_orig[train_csv_orig['image_id']==image_name].reset_index(drop = True).y_max[i]//(2304/512)-train_csv_orig[train_csv_orig['image_id']==image_name].reset_index(drop = True).y_min[i]//(2304/512), \n",
    "                         linewidth = 1, edgecolor = cols[train_csv_orig[train_csv_orig['image_id']==image_name].class_id.reset_index(drop = True)[i]], facecolor = 'none')\n",
    "    ax.add_patch(rect)\n",
    "    ax.annotate(train_csv_orig[train_csv_orig['image_id']==image_name].reset_index(drop = True).class_name[i],\n",
    "                (train_csv_orig[train_csv_orig['image_id']==image_name].reset_index(drop = True).x_min[i]//(2880/512), \n",
    "                train_csv_orig[train_csv_orig['image_id']==image_name].reset_index(drop = True).y_min[i]//(2304/512) - 24) )"
   ]
  },
  {
   "cell_type": "code",
   "execution_count": null,
   "metadata": {
    "execution": {
     "iopub.execute_input": "2021-09-13T05:12:32.826496Z",
     "iopub.status.busy": "2021-09-13T05:12:32.826248Z",
     "iopub.status.idle": "2021-09-13T05:12:36.762486Z",
     "shell.execute_reply": "2021-09-13T05:12:36.76175Z",
     "shell.execute_reply.started": "2021-09-13T05:12:32.826468Z"
    }
   },
   "outputs": [],
   "source": [
    "\n"
   ]
  },
  {
   "cell_type": "code",
   "execution_count": null,
   "metadata": {
    "execution": {
     "iopub.execute_input": "2021-09-13T06:12:58.706079Z",
     "iopub.status.busy": "2021-09-13T06:12:58.705154Z",
     "iopub.status.idle": "2021-09-13T06:12:58.712422Z",
     "shell.execute_reply": "2021-09-13T06:12:58.711398Z",
     "shell.execute_reply.started": "2021-09-13T06:12:58.706026Z"
    }
   },
   "outputs": [],
   "source": [
    "transformed_dict['image']"
   ]
  },
  {
   "cell_type": "code",
   "execution_count": null,
   "metadata": {
    "execution": {
     "iopub.execute_input": "2021-09-13T06:14:58.895537Z",
     "iopub.status.busy": "2021-09-13T06:14:58.894762Z",
     "iopub.status.idle": "2021-09-13T06:14:58.90102Z",
     "shell.execute_reply": "2021-09-13T06:14:58.90045Z",
     "shell.execute_reply.started": "2021-09-13T06:14:58.8955Z"
    }
   },
   "outputs": [],
   "source": [
    "np.array(eg_2_resized)"
   ]
  },
  {
   "cell_type": "code",
   "execution_count": null,
   "metadata": {},
   "outputs": [],
   "source": []
  }
 ],
 "metadata": {
  "kernelspec": {
   "display_name": "Python 3",
   "language": "python",
   "name": "python3"
  },
  "language_info": {
   "codemirror_mode": {
    "name": "ipython",
    "version": 3
   },
   "file_extension": ".py",
   "mimetype": "text/x-python",
   "name": "python",
   "nbconvert_exporter": "python",
   "pygments_lexer": "ipython3",
   "version": "3.8.8"
  },
  "toc": {
   "base_numbering": 1,
   "nav_menu": {},
   "number_sections": true,
   "sideBar": true,
   "skip_h1_title": false,
   "title_cell": "Table of Contents",
   "title_sidebar": "Contents",
   "toc_cell": false,
   "toc_position": {},
   "toc_section_display": true,
   "toc_window_display": false
  },
  "varInspector": {
   "cols": {
    "lenName": 16,
    "lenType": 16,
    "lenVar": 40
   },
   "kernels_config": {
    "python": {
     "delete_cmd_postfix": "",
     "delete_cmd_prefix": "del ",
     "library": "var_list.py",
     "varRefreshCmd": "print(var_dic_list())"
    },
    "r": {
     "delete_cmd_postfix": ") ",
     "delete_cmd_prefix": "rm(",
     "library": "var_list.r",
     "varRefreshCmd": "cat(var_dic_list()) "
    }
   },
   "types_to_exclude": [
    "module",
    "function",
    "builtin_function_or_method",
    "instance",
    "_Feature"
   ],
   "window_display": false
  }
 },
 "nbformat": 4,
 "nbformat_minor": 4
}
