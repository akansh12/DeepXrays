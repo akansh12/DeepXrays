{
 "cells": [
  {
   "cell_type": "code",
   "execution_count": 1,
   "id": "0b00cac8",
   "metadata": {},
   "outputs": [],
   "source": [
    "import torch\n",
    "import numpy as np\n",
    "import matplotlib.pyplot as plt\n",
    "import os\n",
    "from tqdm.autonotebook import tqdm\n",
    "import matplotlib.pyplot as plt \n",
    "import torch.nn.functional as F \n",
    "import torch \n",
    "import numpy as np \n"
   ]
  },
  {
   "cell_type": "code",
   "execution_count": null,
   "id": "8dc23585",
   "metadata": {},
   "outputs": [],
   "source": [
    "import numpy as np\n",
    "meanRGB=[np.mean(x.numpy(),axis=(1,2)) for x,_ in train_ds]\n",
    "stdRGB=[np.std(x.numpy(),axis=(1,2)) for x,_ in train_ds]\n",
    "meanR=np.mean([m[0] for m in meanRGB])\n",
    "meanG=np.mean([m[1] for m in meanRGB])\n",
    "meanB=np.mean([m[2] for m in meanRGB])"
   ]
  },
  {
   "cell_type": "code",
   "execution_count": null,
   "id": "a46889d0",
   "metadata": {},
   "outputs": [],
   "source": []
  }
 ],
 "metadata": {
  "kernelspec": {
   "display_name": "Python 3",
   "language": "python",
   "name": "python3"
  },
  "language_info": {
   "codemirror_mode": {
    "name": "ipython",
    "version": 3
   },
   "file_extension": ".py",
   "mimetype": "text/x-python",
   "name": "python",
   "nbconvert_exporter": "python",
   "pygments_lexer": "ipython3",
   "version": "3.7.10"
  }
 },
 "nbformat": 4,
 "nbformat_minor": 5
}
