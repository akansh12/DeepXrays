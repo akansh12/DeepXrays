{
 "cells": [
  {
   "cell_type": "code",
   "execution_count": 13,
   "metadata": {
    "ExecuteTime": {
     "end_time": "2021-10-13T19:52:40.264365Z",
     "start_time": "2021-10-13T19:52:40.261753Z"
    }
   },
   "outputs": [],
   "source": [
    "import numpy as np\n",
    "import pandas as pd\n",
    "from sklearn.metrics import roc_auc_score, roc_curve, accuracy_score, f1_score "
   ]
  },
  {
   "cell_type": "code",
   "execution_count": 20,
   "metadata": {
    "ExecuteTime": {
     "end_time": "2021-10-13T19:59:21.174921Z",
     "start_time": "2021-10-13T19:59:21.149461Z"
    }
   },
   "outputs": [
    {
     "name": "stdout",
     "output_type": "stream",
     "text": [
      "Accuracy score: 98.21249582358837\n",
      "F1 score: 97.99912732331379\n",
      "Accuracy score: 95.65850815850816\n",
      "F1 score: 95.20240093532388\n"
     ]
    }
   ],
   "source": [
    "# DenseNet\n",
    "#train\n",
    "denseNet_train = np.load(\"./Train_probab/denseNet_train.npy\")\n",
    "y_train_pred= np.argmax(denseNet_train,axis=1)\n",
    "train_csv = pd.read_csv(\"/media/brats/DRIVE1/akansh/DeepXrays/Data/processed/train_labels.csv\")\n",
    "\n",
    "print(f\"Accuracy score: {accuracy_score(train_csv[' class'].values, y_train_pred)*100}\")\n",
    "print(f\"F1 score: {f1_score(train_csv[' class'].values, y_train_pred, average = 'macro')*100}\")\n",
    "\n",
    "#valid\n",
    "denseNet_valid = np.load(\"./Validation_probab/denseNet_valid.npy\")\n",
    "y_valid_pred= np.argmax(denseNet_valid,axis=1)\n",
    "valid_csv = pd.read_csv(\"/media/brats/DRIVE1/akansh/DeepXrays/Data/processed/validation_labels.csv\")\n",
    "\n",
    "print(f\"Accuracy score: {accuracy_score(valid_csv[' class'].values, y_valid_pred)*100}\")\n",
    "print(f\"F1 score: {f1_score(valid_csv[' class'].values, y_valid_pred, average = 'macro')*100}\")\n",
    "\n"
   ]
  },
  {
   "cell_type": "code",
   "execution_count": 21,
   "metadata": {
    "ExecuteTime": {
     "end_time": "2021-10-13T20:02:20.870876Z",
     "start_time": "2021-10-13T20:02:20.846037Z"
    }
   },
   "outputs": [
    {
     "name": "stdout",
     "output_type": "stream",
     "text": [
      "Accuracy score: 98.00645951664995\n",
      "F1 score: 97.80284778284377\n",
      "Accuracy score: 95.97902097902097\n",
      "F1 score: 95.54684988627363\n"
     ]
    }
   ],
   "source": [
    "# Efficent Net B4: Simple\n",
    "\n",
    "#train\n",
    "y_train = np.load(\"./Train_probab/efficientNet_best_loss_Train.npy\")\n",
    "y_train_pred= np.argmax(y_train,axis=1)\n",
    "train_csv = pd.read_csv(\"/media/brats/DRIVE1/akansh/DeepXrays/Data/processed/train_labels.csv\")\n",
    "\n",
    "print(f\"Accuracy score: {accuracy_score(train_csv[' class'].values, y_train_pred)*100}\")\n",
    "print(f\"F1 score: {f1_score(train_csv[' class'].values, y_train_pred, average = 'macro')*100}\")\n",
    "\n",
    "#valid\n",
    "y_valid = np.load(\"./Validation_probab/efficientNet_best_loss_Valid.npy\")\n",
    "y_valid_pred= np.argmax(y_valid,axis=1)\n",
    "valid_csv = pd.read_csv(\"/media/brats/DRIVE1/akansh/DeepXrays/Data/processed/validation_labels.csv\")\n",
    "\n",
    "print(f\"Accuracy score: {accuracy_score(valid_csv[' class'].values, y_valid_pred)*100}\")\n",
    "print(f\"F1 score: {f1_score(valid_csv[' class'].values, y_valid_pred, average = 'macro')*100}\")"
   ]
  },
  {
   "cell_type": "code",
   "execution_count": 22,
   "metadata": {
    "ExecuteTime": {
     "end_time": "2021-10-13T20:11:38.224912Z",
     "start_time": "2021-10-13T20:11:38.199065Z"
    }
   },
   "outputs": [
    {
     "name": "stdout",
     "output_type": "stream",
     "text": [
      "Accuracy score: 97.23243122842187\n",
      "F1 score: 96.97288500523372\n",
      "Accuracy score: 95.54195804195804\n",
      "F1 score: 95.06607450019217\n"
     ]
    }
   ],
   "source": [
    "# Efficent Net B4: 1422, Weighted CEL\n",
    "\n",
    "#train\n",
    "y_train = np.load(\"./Train_probab/efficientNet_1422_Train.npy\")\n",
    "y_train_pred= np.argmax(y_train,axis=1)\n",
    "train_csv = pd.read_csv(\"/media/brats/DRIVE1/akansh/DeepXrays/Data/processed/train_labels.csv\")\n",
    "\n",
    "print(f\"Accuracy score: {accuracy_score(train_csv[' class'].values, y_train_pred)*100}\")\n",
    "print(f\"F1 score: {f1_score(train_csv[' class'].values, y_train_pred, average = 'macro')*100}\")\n",
    "\n",
    "#valid\n",
    "y_valid = np.load(\"./Validation_probab/efficientNet_1422_Valid.npy\")\n",
    "y_valid_pred= np.argmax(y_valid,axis=1)\n",
    "valid_csv = pd.read_csv(\"/media/brats/DRIVE1/akansh/DeepXrays/Data/processed/validation_labels.csv\")\n",
    "\n",
    "print(f\"Accuracy score: {accuracy_score(valid_csv[' class'].values, y_valid_pred)*100}\")\n",
    "print(f\"F1 score: {f1_score(valid_csv[' class'].values, y_valid_pred, average = 'macro')*100}\")"
   ]
  },
  {
   "cell_type": "code",
   "execution_count": 23,
   "metadata": {
    "ExecuteTime": {
     "end_time": "2021-10-13T20:19:05.786109Z",
     "start_time": "2021-10-13T20:19:05.761690Z"
    }
   },
   "outputs": [
    {
     "name": "stdout",
     "output_type": "stream",
     "text": [
      "Accuracy score: 97.58881835393697\n",
      "F1 score: 97.34072764962004\n",
      "Accuracy score: 95.6002331002331\n",
      "F1 score: 95.11631898306936\n"
     ]
    }
   ],
   "source": [
    "# Efficent Net B4: 1422, Smapler\n",
    "\n",
    "#train\n",
    "y_train = np.load(\"./Train_probab/effNet-kaggleModelTrain.npy\")\n",
    "y_train_pred= np.argmax(y_train,axis=1)\n",
    "train_csv = pd.read_csv(\"/media/brats/DRIVE1/akansh/DeepXrays/Data/processed/train_labels.csv\")\n",
    "\n",
    "print(f\"Accuracy score: {accuracy_score(train_csv[' class'].values, y_train_pred)*100}\")\n",
    "print(f\"F1 score: {f1_score(train_csv[' class'].values, y_train_pred, average = 'macro')*100}\")\n",
    "\n",
    "#valid\n",
    "y_valid = np.load(\"./Validation_probab/effNet-kaggleModelValid.npy\")\n",
    "y_valid_pred= np.argmax(y_valid,axis=1)\n",
    "valid_csv = pd.read_csv(\"/media/brats/DRIVE1/akansh/DeepXrays/Data/processed/validation_labels.csv\")\n",
    "\n",
    "print(f\"Accuracy score: {accuracy_score(valid_csv[' class'].values, y_valid_pred)*100}\")\n",
    "print(f\"F1 score: {f1_score(valid_csv[' class'].values, y_valid_pred, average = 'macro')*100}\")"
   ]
  },
  {
   "cell_type": "code",
   "execution_count": null,
   "metadata": {},
   "outputs": [],
   "source": []
  }
 ],
 "metadata": {
  "kernelspec": {
   "display_name": "Python 3",
   "language": "python",
   "name": "python3"
  },
  "language_info": {
   "codemirror_mode": {
    "name": "ipython",
    "version": 3
   },
   "file_extension": ".py",
   "mimetype": "text/x-python",
   "name": "python",
   "nbconvert_exporter": "python",
   "pygments_lexer": "ipython3",
   "version": "3.8.8"
  },
  "toc": {
   "base_numbering": 1,
   "nav_menu": {},
   "number_sections": true,
   "sideBar": true,
   "skip_h1_title": false,
   "title_cell": "Table of Contents",
   "title_sidebar": "Contents",
   "toc_cell": false,
   "toc_position": {},
   "toc_section_display": true,
   "toc_window_display": false
  },
  "varInspector": {
   "cols": {
    "lenName": 16,
    "lenType": 16,
    "lenVar": 40
   },
   "kernels_config": {
    "python": {
     "delete_cmd_postfix": "",
     "delete_cmd_prefix": "del ",
     "library": "var_list.py",
     "varRefreshCmd": "print(var_dic_list())"
    },
    "r": {
     "delete_cmd_postfix": ") ",
     "delete_cmd_prefix": "rm(",
     "library": "var_list.r",
     "varRefreshCmd": "cat(var_dic_list()) "
    }
   },
   "types_to_exclude": [
    "module",
    "function",
    "builtin_function_or_method",
    "instance",
    "_Feature"
   ],
   "window_display": false
  }
 },
 "nbformat": 4,
 "nbformat_minor": 2
}
