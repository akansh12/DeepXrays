{
 "cells": [
  {
   "cell_type": "code",
   "execution_count": 2,
   "id": "090cae42",
   "metadata": {
    "ExecuteTime": {
     "end_time": "2021-10-03T05:45:33.796949Z",
     "start_time": "2021-10-03T05:45:33.411630Z"
    }
   },
   "outputs": [],
   "source": [
    "import pandas as pd\n",
    "import numpy as np\n",
    "import matplotlib.pyplot as plt\n",
    "from tqdm.notebook import tqdm\n",
    "import os"
   ]
  },
  {
   "cell_type": "code",
   "execution_count": 3,
   "id": "9855bcd7",
   "metadata": {
    "ExecuteTime": {
     "end_time": "2021-10-03T05:45:33.804623Z",
     "start_time": "2021-10-03T05:45:33.802459Z"
    }
   },
   "outputs": [],
   "source": [
    "from glob import glob"
   ]
  },
  {
   "cell_type": "code",
   "execution_count": 4,
   "id": "6464406c",
   "metadata": {
    "ExecuteTime": {
     "end_time": "2021-10-03T05:45:33.983782Z",
     "start_time": "2021-10-03T05:45:33.981389Z"
    }
   },
   "outputs": [],
   "source": [
    "labels = {'covid':0,\n",
    "         'normal':1,\n",
    "         'pneumonia': 2}"
   ]
  },
  {
   "cell_type": "code",
   "execution_count": 65,
   "id": "f74bd1a5",
   "metadata": {
    "ExecuteTime": {
     "end_time": "2021-10-03T06:30:06.412906Z",
     "start_time": "2021-10-03T06:30:06.203215Z"
    }
   },
   "outputs": [],
   "source": [
    "loc = \"/media/brats/DRIVE1/akansh/DeepXrays/Data/raw/Chest XR covid/train/\"\n",
    "len(glob(\"/media/brats/DRIVE1/akansh/DeepXrays/Data/raw/Chest XR covid/train/*/*.jpg\"))\n",
    "labels = {'covid':0,\n",
    "         'normal':1,\n",
    "         'pneumonia': 2}\n",
    "# A = pd.DataFrame(np.zeros((len(glob(\"/media/brats/DRIVE1/akansh/DeepXrays/Data/raw/Chest XR covid/train/*/*.jpg\")),2)))\n",
    "A = pd.DataFrame()\n",
    "for i in os.listdir(loc):\n",
    "    B = pd.DataFrame(np.zeros((len(os.listdir(os.path.join(loc,i))),2)))\n",
    "    B[0] = np.array(os.listdir(os.path.join(loc, i)))\n",
    "    B[1] = labels[i]\n",
    "    \n",
    "    A = A.append(B)\n",
    "    \n",
    "    \n",
    "A.to_csv(os.path.join(\"/media/brats/DRIVE1/akansh/DeepXrays/Data/processed/\",'train_labels.csv'),index=False)   "
   ]
  },
  {
   "cell_type": "code",
   "execution_count": null,
   "id": "2981d21b",
   "metadata": {},
   "outputs": [],
   "source": [
    "loc = \"/media/brats/DRIVE1/akansh/DeepXrays/Data/raw/Chest XR covid/validation/\"\n",
    "len(glob(\"/media/brats/DRIVE1/akansh/DeepXrays/Data/raw/Chest XR covid/validation/*/*.jpg\"))\n",
    "labels = {'covid':0,\n",
    "         'normal':1,\n",
    "         'pneumonia': 2}\n",
    "# A = pd.DataFrame(np.zeros((len(glob(\"/media/brats/DRIVE1/akansh/DeepXrays/Data/raw/Chest XR covid/train/*/*.jpg\")),2)))\n",
    "A = pd.DataFrame()\n",
    "for i in os.listdir(loc):\n",
    "    B = pd.DataFrame(np.zeros((len(os.listdir(os.path.join(loc,i))),2)))\n",
    "    B[0] = np.array(os.listdir(os.path.join(loc, i)))\n",
    "    B[1] = labels[i]\n",
    "    \n",
    "    A = A.append(B)\n",
    "    \n",
    "    \n",
    "A.to_csv(os.path.join(\"/media/brats/DRIVE1/akansh/DeepXrays/Data/processed/\",'train_labels.csv'),index=False)"
   ]
  },
  {
   "cell_type": "code",
   "execution_count": null,
   "id": "515baba7",
   "metadata": {},
   "outputs": [],
   "source": []
  }
 ],
 "metadata": {
  "kernelspec": {
   "display_name": "Python 3",
   "language": "python",
   "name": "python3"
  },
  "language_info": {
   "codemirror_mode": {
    "name": "ipython",
    "version": 3
   },
   "file_extension": ".py",
   "mimetype": "text/x-python",
   "name": "python",
   "nbconvert_exporter": "python",
   "pygments_lexer": "ipython3",
   "version": "3.8.8"
  },
  "toc": {
   "base_numbering": 1,
   "nav_menu": {},
   "number_sections": true,
   "sideBar": true,
   "skip_h1_title": false,
   "title_cell": "Table of Contents",
   "title_sidebar": "Contents",
   "toc_cell": false,
   "toc_position": {},
   "toc_section_display": true,
   "toc_window_display": false
  },
  "varInspector": {
   "cols": {
    "lenName": 16,
    "lenType": 16,
    "lenVar": 40
   },
   "kernels_config": {
    "python": {
     "delete_cmd_postfix": "",
     "delete_cmd_prefix": "del ",
     "library": "var_list.py",
     "varRefreshCmd": "print(var_dic_list())"
    },
    "r": {
     "delete_cmd_postfix": ") ",
     "delete_cmd_prefix": "rm(",
     "library": "var_list.r",
     "varRefreshCmd": "cat(var_dic_list()) "
    }
   },
   "types_to_exclude": [
    "module",
    "function",
    "builtin_function_or_method",
    "instance",
    "_Feature"
   ],
   "window_display": false
  }
 },
 "nbformat": 4,
 "nbformat_minor": 5
}
