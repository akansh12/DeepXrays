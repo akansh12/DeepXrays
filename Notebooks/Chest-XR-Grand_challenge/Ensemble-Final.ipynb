{
 "cells": [
  {
   "cell_type": "code",
   "execution_count": 6,
   "id": "a3634900",
   "metadata": {
    "ExecuteTime": {
     "end_time": "2021-10-07T02:42:50.247940Z",
     "start_time": "2021-10-07T02:42:50.245838Z"
    }
   },
   "outputs": [],
   "source": [
    "### In this notebook I ll be experimenting with different weights for ensembling the model."
   ]
  },
  {
   "cell_type": "code",
   "execution_count": 2,
   "id": "f0ef676f",
   "metadata": {
    "ExecuteTime": {
     "end_time": "2021-10-07T02:36:14.303397Z",
     "start_time": "2021-10-07T02:36:13.923330Z"
    }
   },
   "outputs": [],
   "source": [
    "import numpy as np\n",
    "import pandas as pd \n",
    "import os\n",
    "import matplotlib.pyplot as plt\n",
    "import torch\n",
    "from torch.utils.data import Dataset,DataLoader\n",
    "import torchvision \n",
    "from torchvision import transforms, models\n",
    "from tqdm.notebook import tqdm\n",
    "from PIL import Image\n",
    "import seaborn as sns\n",
    "from collections import OrderedDict"
   ]
  },
  {
   "cell_type": "code",
   "execution_count": 3,
   "id": "ba7f356b",
   "metadata": {
    "ExecuteTime": {
     "end_time": "2021-10-07T02:36:14.311537Z",
     "start_time": "2021-10-07T02:36:14.309231Z"
    }
   },
   "outputs": [],
   "source": [
    "from glob import glob\n",
    "import torch.nn.functional as F\n",
    "from torch import nn, optim"
   ]
  },
  {
   "cell_type": "code",
   "execution_count": null,
   "id": "c067e9be",
   "metadata": {},
   "outputs": [],
   "source": []
  },
  {
   "cell_type": "markdown",
   "id": "934fc208",
   "metadata": {},
   "source": [
    "### Data Locations"
   ]
  },
  {
   "cell_type": "code",
   "execution_count": 4,
   "id": "f1caa86b",
   "metadata": {
    "ExecuteTime": {
     "end_time": "2021-10-07T02:36:44.816458Z",
     "start_time": "2021-10-07T02:36:44.813754Z"
    }
   },
   "outputs": [],
   "source": [
    "data_dir = {\n",
    "    \"train\" : \"/media/brats/DRIVE1/akansh/DeepXrays/Data/raw/Chest XR covid/train/\",\n",
    "    \"valid\": \"/media/brats/DRIVE1/akansh/DeepXrays/Data/raw/Chest XR covid/validation/\",\n",
    "    \"test\" : \"/media/brats/DRIVE1/akansh/DeepXrays/Data/raw/Chest XR covid/test/\"\n",
    "}\n",
    "label_csv = {\"train\": '/media/brats/DRIVE1/akansh/DeepXrays/Data/processed/train_labels.csv',\n",
    "            \"valid\": \"/media/brats/DRIVE1/akansh/DeepXrays/Data/processed/validation_labels.csv\",\n",
    "            \"test\": \"/media/brats/DRIVE1/akansh/DeepXrays/Data/raw/submission.csv\"}"
   ]
  },
  {
   "cell_type": "markdown",
   "id": "a63abad5",
   "metadata": {},
   "source": [
    "### Dataset"
   ]
  },
  {
   "cell_type": "code",
   "execution_count": 5,
   "id": "05d4113c",
   "metadata": {
    "ExecuteTime": {
     "end_time": "2021-10-07T02:37:57.685399Z",
     "start_time": "2021-10-07T02:37:57.679047Z"
    },
    "code_folding": [
     0
    ]
   },
   "outputs": [],
   "source": [
    "### Dataloader\n",
    "class covid_dataset(Dataset):\n",
    "    def __init__(self, image_loc, label_loc, transform, data_type = 'train'):\n",
    "        filenames = []\n",
    "        for root, dirs, files in os.walk(image_loc):\n",
    "            for file in files:\n",
    "                if file.endswith('.jpg') == True or file.endswith('.png') == True :\n",
    "                    filenames.append(file)\n",
    "#         print(len(filenames))\n",
    "        if data_type == 'train' or data_type == 'valid':\n",
    "            self.full_filenames = glob(image_loc+'*/*.*')\n",
    "        else:\n",
    "            self.full_filenames = glob(image_loc+'*.*')\n",
    "#         print(len(self.full_filenames))\n",
    "            \n",
    "            \n",
    "        label_df = pd.read_csv(label_loc)\n",
    "        label_df.set_index(\"case\", inplace = True)\n",
    "        self.labels = [label_df.loc[filename].values[0] for filename in filenames]\n",
    "        \n",
    "        self.transform = transform\n",
    "        \n",
    "    def __len__(self):\n",
    "        return len(self.full_filenames)\n",
    "    \n",
    "    def __getitem__(self,idx):\n",
    "        image = Image.open(self.full_filenames[idx])\n",
    "        image = image.convert('RGB')        \n",
    "        image = self.transform(image)\n",
    "        return image, self.labels[idx]"
   ]
  },
  {
   "cell_type": "code",
   "execution_count": 7,
   "id": "470eb5a0",
   "metadata": {
    "ExecuteTime": {
     "end_time": "2021-10-07T02:49:44.848444Z",
     "start_time": "2021-10-07T02:49:41.523838Z"
    },
    "code_folding": [
     0
    ]
   },
   "outputs": [],
   "source": [
    "data_transforms = {\n",
    "    \n",
    "    'train': transforms.Compose([\n",
    "#         transforms.Resize((256,256)),\n",
    "#         transforms.CenterCrop((224,224)),\n",
    "#         transforms.RandomVerticalFlip(p =.5),\n",
    "#         transforms.RandomHorizontalFlip(p = 0.5),\n",
    "#         transforms.ColorJitter((0.85,1.05)),\n",
    "#         transforms.RandomRotation((-30,30)),\n",
    "        transforms.ToTensor(),\n",
    "#         transforms.Normalize([0.5027,0.5027,0.5027],[0.2466, 0.2466, 0.2466])\n",
    "        \n",
    "    ]),\n",
    "    \n",
    "    'valid' : transforms.Compose([\n",
    "#         transforms.Resize((224,224)),\n",
    "        transforms.ToTensor(),\n",
    "#         transforms.Normalize([0.5027,0.5027,0.5027],[0.2466, 0.2466, 0.2466])\n",
    "    ])\n",
    "    \n",
    "    \n",
    "}\n",
    "\n",
    "valid_data = covid_dataset(image_loc = data_dir['valid'],\n",
    "                          label_loc = label_csv['valid'],\n",
    "                          transform = data_transforms['valid'],\n",
    "                          data_type = 'valid')\n",
    "\n",
    "train_data = covid_dataset(image_loc = data_dir['train'],\n",
    "                          label_loc = label_csv['train'],\n",
    "                          transform = data_transforms['train'],\n",
    "                          data_type = 'train')\n",
    "\n",
    "trainloader = DataLoader(train_data,batch_size = 64,shuffle = True)\n",
    "validloader = DataLoader(valid_data,batch_size = 32,shuffle = False)"
   ]
  },
  {
   "cell_type": "code",
   "execution_count": null,
   "id": "1b82da14",
   "metadata": {},
   "outputs": [],
   "source": []
  },
  {
   "cell_type": "markdown",
   "id": "bb5ed73c",
   "metadata": {},
   "source": [
    "### Loading the Numpy array of different model"
   ]
  },
  {
   "cell_type": "code",
   "execution_count": 71,
   "id": "c823519b",
   "metadata": {
    "ExecuteTime": {
     "end_time": "2021-10-07T03:34:58.067844Z",
     "start_time": "2021-10-07T03:34:58.065165Z"
    }
   },
   "outputs": [],
   "source": [
    "from torch.nn import functional as F\n",
    "from sklearn.metrics import accuracy_score\n",
    "from sklearn.metrics import confusion_matrix, ConfusionMatrixDisplay\n",
    "import matplotlib.pyplot as plt"
   ]
  },
  {
   "cell_type": "code",
   "execution_count": 154,
   "id": "f6fb0346",
   "metadata": {
    "ExecuteTime": {
     "end_time": "2021-10-07T06:59:53.002466Z",
     "start_time": "2021-10-07T06:59:52.993860Z"
    }
   },
   "outputs": [],
   "source": [
    "def ensemble_model(array_list, weights, true_labels,en_type = 'val' ):\n",
    "    ensemble = np.sum(np.array(array_list)*np.array(weights).reshape(len(weights),1,1), axis = 0)\n",
    "    y_pred_ensemble  = F.softmax(torch.from_numpy(ensemble), dim = 1).numpy()\n",
    "    y_pred_ensemble = np.argmax(y_pred_ensemble, axis=1)\n",
    "    print(np.unique(y_pred_ensemble, return_counts=True))\n",
    "    \n",
    "    if en_type == 'val':\n",
    "        print(f\"Accuracy Score: {accuracy_score(true_labels,y_pred_ensemble)*100}\")\n",
    "    \n",
    "        cm = confusion_matrix(true_labels,y_pred_ensemble, labels = [0,1,2])\n",
    "        disp = ConfusionMatrixDisplay(confusion_matrix=cm,display_labels = [0,1,2])\n",
    "    \n",
    "        disp.plot()\n",
    "        plt.show()\n",
    "    elif en_type == 'test':\n",
    "        test_csv = pd.read_csv(\"/media/brats/DRIVE1/akansh/DeepXrays/Data/raw/submission.csv\")\n",
    "        test_csv[' class'] = y_pred_ensemble\n",
    "        name = input(\"Enter the name\")\n",
    "        test_csv.to_csv(str(name)+'.csv', index = False)\n",
    "    else:\n",
    "        pass"
   ]
  },
  {
   "cell_type": "code",
   "execution_count": 133,
   "id": "6eb175af",
   "metadata": {
    "ExecuteTime": {
     "end_time": "2021-10-07T06:47:31.013897Z",
     "start_time": "2021-10-07T06:47:31.008915Z"
    }
   },
   "outputs": [],
   "source": [
    "denseNet_valid = np.load(\"./Validation_probab/denseNet_valid.npy\")\n",
    "denseNet_valid_bl = np.load(\"./Validation_probab/denseNet_valid_Bl.npy\")\n",
    "efficientNet_1422_valid = np.load('Validation_probab/efficientNet_1422_Valid.npy')\n",
    "efficient_Net_best_loss_valid = np.load('Validation_probab/efficientNet_best_loss_Valid.npy')\n",
    "efficientNet_orig_valid = np.load('Validation_probab/effNet-kaggleModelValid.npy')"
   ]
  },
  {
   "cell_type": "code",
   "execution_count": 134,
   "id": "43aa44b5",
   "metadata": {
    "ExecuteTime": {
     "end_time": "2021-10-07T06:47:31.611273Z",
     "start_time": "2021-10-07T06:47:31.608818Z"
    }
   },
   "outputs": [],
   "source": [
    "A = [denseNet_valid,\n",
    "     denseNet_valid_bl,\n",
    "     efficientNet_1422_valid,\n",
    "     efficient_Net_best_loss_valid,\n",
    "     efficientNet_orig_valid]"
   ]
  },
  {
   "cell_type": "code",
   "execution_count": 149,
   "id": "8a94374f",
   "metadata": {
    "ExecuteTime": {
     "end_time": "2021-10-07T06:56:18.960105Z",
     "start_time": "2021-10-07T06:56:18.952743Z"
    }
   },
   "outputs": [],
   "source": [
    "denseNet_test = np.load(\"./Test_probab/denseNet_test.npy\")\n",
    "denseNet_test_bl = np.load(\"./Test_probab/denseNet_test_Bl.npy\")\n",
    "efficientNet_1422_test = np.load('Test_probab/efficientNet_1422_Test.npy')\n",
    "efficient_Net_best_loss_test = np.load('Test_probab/efficientNet_best_loss_Test.npy')\n",
    "efficientNet_orig_test = np.load('Test_probab/effNet-kaggleModelTest.npy')\n",
    "\n",
    "B = [denseNet_test,\n",
    "     denseNet_test_bl,\n",
    "     efficientNet_1422_test,\n",
    "     efficient_Net_best_loss_test,\n",
    "     efficientNet_orig_test]"
   ]
  },
  {
   "cell_type": "code",
   "execution_count": 124,
   "id": "f444a8ef",
   "metadata": {
    "ExecuteTime": {
     "end_time": "2021-10-07T06:25:40.916102Z",
     "start_time": "2021-10-07T06:25:39.846008Z"
    }
   },
   "outputs": [
    {
     "name": "stdout",
     "output_type": "stream",
     "text": [
      "(array([0, 1, 2]), array([1415, 1049,  968]))\n",
      "Accuracy Score: 95.65850815850816\n"
     ]
    },
    {
     "data": {
      "image/png": "[encoded data removed]",
      "text/plain": [
       "<Figure size 432x288 with 2 Axes>"
      ]
     },
     "metadata": {
      "needs_background": "light"
     },
     "output_type": "display_data"
    },
    {
     "name": "stdout",
     "output_type": "stream",
     "text": [
      "(array([0, 1, 2]), array([1406, 1039,  987]))\n",
      "Accuracy Score: 95.22144522144522\n"
     ]
    },
    {
     "data": {
      "image/png": "[encoded data removed]",
      "text/plain": [
       "<Figure size 432x288 with 2 Axes>"
      ]
     },
     "metadata": {
      "needs_background": "light"
     },
     "output_type": "display_data"
    },
    {
     "name": "stdout",
     "output_type": "stream",
     "text": [
      "(array([0, 1, 2]), array([1448,  975, 1009]))\n",
      "Accuracy Score: 95.54195804195804\n"
     ]
    },
    {
     "data": {
      "image/png": "[encoded data removed]",
      "text/plain": [
       "<Figure size 432x288 with 2 Axes>"
      ]
     },
     "metadata": {
      "needs_background": "light"
     },
     "output_type": "display_data"
    },
    {
     "name": "stdout",
     "output_type": "stream",
     "text": [
      "(array([0, 1, 2]), array([1414, 1016, 1002]))\n",
      "Accuracy Score: 95.97902097902097\n"
     ]
    },
    {
     "data": {
      "image/png": "[encoded data removed]",
      "text/plain": [
       "<Figure size 432x288 with 2 Axes>"
      ]
     },
     "metadata": {
      "needs_background": "light"
     },
     "output_type": "display_data"
    },
    {
     "name": "stdout",
     "output_type": "stream",
     "text": [
      "(array([0, 1, 2]), array([1419,  996, 1017]))\n",
      "Accuracy Score: 95.6002331002331\n"
     ]
    },
    {
     "data": {
      "image/png": "[encoded data removed]",
      "text/plain": [
       "<Figure size 432x288 with 2 Axes>"
      ]
     },
     "metadata": {
      "needs_background": "light"
     },
     "output_type": "display_data"
    }
   ],
   "source": [
    "ensemble_model(denseNet_valid, [1], valid_data.labels ) #Accuracy Score: 95.65850815850816 \n",
    "ensemble_model(denseNet_valid_bl, [1], valid_data.labels) #Accuracy Score: 95.22144522144522\n",
    "ensemble_model(efficientNet_1422_valid, [1], valid_data.labels) #Accuracy Score: 95.54195804195804\n",
    "ensemble_model(efficient_Net_best_loss_valid, [1], valid_data.labels) #Accuracy Score: 95.97902097902097\n",
    "ensemble_model(efficientNet_orig_valid, [1], valid_data.labels) #Accuracy Score: 95.6002331002331"
   ]
  },
  {
   "cell_type": "code",
   "execution_count": 177,
   "id": "6809b872",
   "metadata": {
    "ExecuteTime": {
     "end_time": "2021-10-07T07:37:33.833224Z",
     "start_time": "2021-10-07T07:37:33.432631Z"
    }
   },
   "outputs": [
    {
     "name": "stdout",
     "output_type": "stream",
     "text": [
      "(array([0, 1, 2]), array([1417, 1017,  998]))\n",
      "Accuracy Score: 96.0081585081585\n"
     ]
    },
    {
     "data": {
      "image/png": "[encoded data removed]",
      "text/plain": [
       "<Figure size 432x288 with 2 Axes>"
      ]
     },
     "metadata": {
      "needs_background": "light"
     },
     "output_type": "display_data"
    },
    {
     "name": "stdout",
     "output_type": "stream",
     "text": [
      "(array([0, 1, 2]), array([397, 422, 381]))\n"
     ]
    }
   ],
   "source": [
    "#Average\n",
    "A = [denseNet_valid,denseNet_valid_bl,efficientNet_1422_valid,efficient_Net_best_loss_valid,efficientNet_orig_valid]\n",
    "ensemble_model(A, len(A)*[1], valid_data.labels)\n",
    "ensemble_model(B, [1,1,1,1,1], None, en_type=None)"
   ]
  },
  {
   "cell_type": "code",
   "execution_count": 125,
   "id": "3c770f84",
   "metadata": {
    "ExecuteTime": {
     "end_time": "2021-10-07T06:27:24.712439Z",
     "start_time": "2021-10-07T06:27:24.431670Z"
    }
   },
   "outputs": [
    {
     "name": "stdout",
     "output_type": "stream",
     "text": [
      "(array([0, 1, 2]), array([1420, 1014,  998]))\n",
      "Accuracy Score: 96.0955710955711\n"
     ]
    },
    {
     "data": {
      "image/png": "[encoded data removed]",
      "text/plain": [
       "<Figure size 432x288 with 2 Axes>"
      ]
     },
     "metadata": {
      "needs_background": "light"
     },
     "output_type": "display_data"
    }
   ],
   "source": [
    "ensemble_model(A, [1,0,0,1,1], valid_data.labels)"
   ]
  },
  {
   "cell_type": "code",
   "execution_count": 137,
   "id": "785a0585",
   "metadata": {
    "ExecuteTime": {
     "end_time": "2021-10-07T06:48:13.053509Z",
     "start_time": "2021-10-07T06:48:12.869045Z"
    }
   },
   "outputs": [
    {
     "name": "stdout",
     "output_type": "stream",
     "text": [
      "(array([0, 1, 2]), array([1420, 1017,  995]))\n",
      "Accuracy Score: 96.27039627039628\n"
     ]
    },
    {
     "data": {
      "image/png": "[encoded data removed]",
      "text/plain": [
       "<Figure size 432x288 with 2 Axes>"
      ]
     },
     "metadata": {
      "needs_background": "light"
     },
     "output_type": "display_data"
    }
   ],
   "source": [
    "ensemble_model(A, [.3,0,0,.5,.2], valid_data.labels)"
   ]
  },
  {
   "cell_type": "code",
   "execution_count": 213,
   "id": "8fca39f2",
   "metadata": {
    "ExecuteTime": {
     "end_time": "2021-10-07T07:57:29.159046Z",
     "start_time": "2021-10-07T07:56:44.330074Z"
    }
   },
   "outputs": [
    {
     "name": "stdout",
     "output_type": "stream",
     "text": [
      "(array([0, 1, 2]), array([1426, 1011,  995]))\n",
      "Accuracy Score: 96.35780885780886\n"
     ]
    },
    {
     "data": {
      "image/png": "[encoded data removed]",
      "text/plain": [
       "<Figure size 432x288 with 2 Axes>"
      ]
     },
     "metadata": {
      "needs_background": "light"
     },
     "output_type": "display_data"
    },
    {
     "name": "stdout",
     "output_type": "stream",
     "text": [
      "(array([0, 1, 2]), array([399, 415, 386]))\n",
      "Enter the nameeidth_0_0_.4_.5_.1\n"
     ]
    }
   ],
   "source": [
    "ensemble_model(A, [0,0,.4,.5,.1], valid_data.labels) #Maybe??\n",
    "ensemble_model(B, [0,0,.4,.5,0], None, en_type='test') #Yes it worked giving probab"
   ]
  },
  {
   "cell_type": "code",
   "execution_count": null,
   "id": "87fa4f3e",
   "metadata": {},
   "outputs": [],
   "source": []
  },
  {
   "cell_type": "code",
   "execution_count": 212,
   "id": "d26c9d23",
   "metadata": {
    "ExecuteTime": {
     "end_time": "2021-10-07T07:55:46.811505Z",
     "start_time": "2021-10-07T07:55:46.539757Z"
    }
   },
   "outputs": [
    {
     "name": "stdout",
     "output_type": "stream",
     "text": [
      "(array([0, 1, 2]), array([1419, 1009, 1004]))\n",
      "Accuracy Score: 96.0955710955711\n"
     ]
    },
    {
     "data": {
      "image/png": "[encoded data removed]",
      "text/plain": [
       "<Figure size 432x288 with 2 Axes>"
      ]
     },
     "metadata": {
      "needs_background": "light"
     },
     "output_type": "display_data"
    },
    {
     "name": "stdout",
     "output_type": "stream",
     "text": [
      "(array([0, 1, 2]), array([401, 412, 387]))\n"
     ]
    }
   ],
   "source": [
    "ensemble_model(A, [0,0,0,1,1.2], valid_data.labels) #\n",
    "ensemble_model(B, [0,0,0,1,1.2], None, en_type=None)"
   ]
  },
  {
   "cell_type": "code",
   "execution_count": 210,
   "id": "25bdef70",
   "metadata": {
    "ExecuteTime": {
     "end_time": "2021-10-07T07:55:20.913622Z",
     "start_time": "2021-10-07T07:55:20.909531Z"
    }
   },
   "outputs": [
    {
     "data": {
      "text/plain": [
       "26"
      ]
     },
     "execution_count": 210,
     "metadata": {},
     "output_type": "execute_result"
    }
   ],
   "source": [
    "1+12+13"
   ]
  },
  {
   "cell_type": "code",
   "execution_count": null,
   "id": "f8d9f503",
   "metadata": {},
   "outputs": [],
   "source": []
  }
 ],
 "metadata": {
  "kernelspec": {
   "display_name": "Python 3",
   "language": "python",
   "name": "python3"
  },
  "language_info": {
   "codemirror_mode": {
    "name": "ipython",
    "version": 3
   },
   "file_extension": ".py",
   "mimetype": "text/x-python",
   "name": "python",
   "nbconvert_exporter": "python",
   "pygments_lexer": "ipython3",
   "version": "3.8.8"
  },
  "toc": {
   "base_numbering": 1,
   "nav_menu": {},
   "number_sections": true,
   "sideBar": true,
   "skip_h1_title": false,
   "title_cell": "Table of Contents",
   "title_sidebar": "Contents",
   "toc_cell": false,
   "toc_position": {},
   "toc_section_display": true,
   "toc_window_display": false
  },
  "varInspector": {
   "cols": {
    "lenName": 16,
    "lenType": 16,
    "lenVar": 40
   },
   "kernels_config": {
    "python": {
     "delete_cmd_postfix": "",
     "delete_cmd_prefix": "del ",
     "library": "var_list.py",
     "varRefreshCmd": "print(var_dic_list())"
    },
    "r": {
     "delete_cmd_postfix": ") ",
     "delete_cmd_prefix": "rm(",
     "library": "var_list.r",
     "varRefreshCmd": "cat(var_dic_list()) "
    }
   },
   "types_to_exclude": [
    "module",
    "function",
    "builtin_function_or_method",
    "instance",
    "_Feature"
   ],
   "window_display": false
  }
 },
 "nbformat": 4,
 "nbformat_minor": 5
}
