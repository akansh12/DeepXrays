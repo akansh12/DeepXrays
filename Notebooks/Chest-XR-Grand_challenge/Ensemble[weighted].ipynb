{
 "cells": [
  {
   "cell_type": "code",
   "execution_count": 1,
   "id": "b377df2b",
   "metadata": {
    "ExecuteTime": {
     "end_time": "2021-10-09T02:08:07.805458Z",
     "start_time": "2021-10-09T02:08:07.802877Z"
    }
   },
   "outputs": [],
   "source": [
    "### In this notebook I ll be experimenting with different weights for ensembling the model."
   ]
  },
  {
   "cell_type": "code",
   "execution_count": 1,
   "id": "f0373bbb",
   "metadata": {
    "ExecuteTime": {
     "end_time": "2021-10-13T20:45:11.586799Z",
     "start_time": "2021-10-13T20:45:10.356031Z"
    }
   },
   "outputs": [],
   "source": [
    "import numpy as np\n",
    "import pandas as pd \n",
    "import os\n",
    "import matplotlib.pyplot as plt\n",
    "import torch\n",
    "from torch.utils.data import Dataset,DataLoader\n",
    "import torchvision \n",
    "from torchvision import transforms, models\n",
    "from tqdm.notebook import tqdm\n",
    "from PIL import Image\n",
    "import seaborn as sns\n",
    "from collections import OrderedDict"
   ]
  },
  {
   "cell_type": "code",
   "execution_count": 2,
   "id": "7db5307b",
   "metadata": {
    "ExecuteTime": {
     "end_time": "2021-10-13T20:45:11.597631Z",
     "start_time": "2021-10-13T20:45:11.594566Z"
    }
   },
   "outputs": [],
   "source": [
    "from glob import glob\n",
    "import torch.nn.functional as F\n",
    "from torch import nn, optim"
   ]
  },
  {
   "cell_type": "code",
   "execution_count": 3,
   "id": "9100e1f9",
   "metadata": {
    "ExecuteTime": {
     "end_time": "2021-10-13T20:45:11.615279Z",
     "start_time": "2021-10-13T20:45:11.604665Z"
    }
   },
   "outputs": [],
   "source": [
    "import warnings\n",
    "warnings.filterwarnings('ignore')"
   ]
  },
  {
   "cell_type": "markdown",
   "id": "7ed6d790",
   "metadata": {},
   "source": [
    "### Data Locations"
   ]
  },
  {
   "cell_type": "code",
   "execution_count": 4,
   "id": "ebcb3130",
   "metadata": {
    "ExecuteTime": {
     "end_time": "2021-10-13T20:45:11.863824Z",
     "start_time": "2021-10-13T20:45:11.861195Z"
    }
   },
   "outputs": [],
   "source": [
    "data_dir = {\n",
    "    \"train\" : \"/media/brats/DRIVE1/akansh/DeepXrays/Data/raw/Chest XR covid/train/\",\n",
    "    \"valid\": \"/media/brats/DRIVE1/akansh/DeepXrays/Data/raw/Chest XR covid/validation/\",\n",
    "    \"test\" : \"/media/brats/DRIVE1/akansh/DeepXrays/Data/raw/Chest XR covid/test/\"\n",
    "}\n",
    "label_csv = {\"train\": '/media/brats/DRIVE1/akansh/DeepXrays/Data/processed/train_labels.csv',\n",
    "            \"valid\": \"/media/brats/DRIVE1/akansh/DeepXrays/Data/processed/validation_labels.csv\",\n",
    "            \"test\": \"/media/brats/DRIVE1/akansh/DeepXrays/Data/raw/submission.csv\"}"
   ]
  },
  {
   "cell_type": "markdown",
   "id": "66e20092",
   "metadata": {},
   "source": [
    "### Dataset"
   ]
  },
  {
   "cell_type": "code",
   "execution_count": 5,
   "id": "6de94d00",
   "metadata": {
    "ExecuteTime": {
     "end_time": "2021-10-13T20:45:12.657439Z",
     "start_time": "2021-10-13T20:45:12.651580Z"
    },
    "code_folding": [
     0
    ]
   },
   "outputs": [],
   "source": [
    "### Dataloader\n",
    "class covid_dataset(Dataset):\n",
    "    def __init__(self, image_loc, label_loc, transform, data_type = 'train'):\n",
    "        filenames = []\n",
    "        for root, dirs, files in os.walk(image_loc):\n",
    "            for file in files:\n",
    "                if file.endswith('.jpg') == True or file.endswith('.png') == True :\n",
    "                    filenames.append(file)\n",
    "#         print(len(filenames))\n",
    "        if data_type == 'train' or data_type == 'valid':\n",
    "            self.full_filenames = glob(image_loc+'*/*.*')\n",
    "        else:\n",
    "            self.full_filenames = glob(image_loc+'*.*')\n",
    "#         print(len(self.full_filenames))\n",
    "            \n",
    "            \n",
    "        label_df = pd.read_csv(label_loc)\n",
    "        label_df.set_index(\"case\", inplace = True)\n",
    "        self.labels = [label_df.loc[filename].values[0] for filename in filenames]\n",
    "        \n",
    "        self.transform = transform\n",
    "        \n",
    "    def __len__(self):\n",
    "        return len(self.full_filenames)\n",
    "    \n",
    "    def __getitem__(self,idx):\n",
    "        image = Image.open(self.full_filenames[idx])\n",
    "        image = image.convert('RGB')        \n",
    "        image = self.transform(image)\n",
    "        return image, self.labels[idx]"
   ]
  },
  {
   "cell_type": "code",
   "execution_count": 6,
   "id": "502a75fa",
   "metadata": {
    "ExecuteTime": {
     "end_time": "2021-10-13T20:45:17.239878Z",
     "start_time": "2021-10-13T20:45:13.316259Z"
    },
    "code_folding": [
     0
    ]
   },
   "outputs": [],
   "source": [
    "data_transforms = {\n",
    "    \n",
    "    'train': transforms.Compose([\n",
    "#         transforms.Resize((256,256)),\n",
    "#         transforms.CenterCrop((224,224)),\n",
    "#         transforms.RandomVerticalFlip(p =.5),\n",
    "#         transforms.RandomHorizontalFlip(p = 0.5),\n",
    "#         transforms.ColorJitter((0.85,1.05)),\n",
    "#         transforms.RandomRotation((-30,30)),\n",
    "        transforms.ToTensor(),\n",
    "#         transforms.Normalize([0.5027,0.5027,0.5027],[0.2466, 0.2466, 0.2466])\n",
    "        \n",
    "    ]),\n",
    "    \n",
    "    'valid' : transforms.Compose([\n",
    "#         transforms.Resize((224,224)),\n",
    "        transforms.ToTensor(),\n",
    "#         transforms.Normalize([0.5027,0.5027,0.5027],[0.2466, 0.2466, 0.2466])\n",
    "    ])\n",
    "    \n",
    "    \n",
    "}\n",
    "\n",
    "valid_data = covid_dataset(image_loc = data_dir['valid'],\n",
    "                          label_loc = label_csv['valid'],\n",
    "                          transform = data_transforms['valid'],\n",
    "                          data_type = 'valid')\n",
    "\n",
    "train_data = covid_dataset(image_loc = data_dir['train'],\n",
    "                          label_loc = label_csv['train'],\n",
    "                          transform = data_transforms['train'],\n",
    "                          data_type = 'train')\n",
    "\n",
    "trainloader = DataLoader(train_data,batch_size = 64,shuffle = True)\n",
    "validloader = DataLoader(valid_data,batch_size = 32,shuffle = False)"
   ]
  },
  {
   "cell_type": "code",
   "execution_count": null,
   "id": "8345ff75",
   "metadata": {},
   "outputs": [],
   "source": []
  },
  {
   "cell_type": "markdown",
   "id": "fe0a5baa",
   "metadata": {},
   "source": [
    "### Loading the Numpy array of different model"
   ]
  },
  {
   "cell_type": "code",
   "execution_count": 12,
   "id": "ea99c57b",
   "metadata": {
    "ExecuteTime": {
     "end_time": "2021-10-13T20:47:31.865051Z",
     "start_time": "2021-10-13T20:47:31.862031Z"
    }
   },
   "outputs": [],
   "source": [
    "from torch.nn import functional as F\n",
    "from sklearn.metrics import accuracy_score\n",
    "from sklearn.metrics import confusion_matrix, ConfusionMatrixDisplay\n",
    "import matplotlib.pyplot as plt\n",
    "from sklearn.metrics import roc_auc_score, roc_curve, accuracy_score, f1_score "
   ]
  },
  {
   "cell_type": "code",
   "execution_count": 8,
   "id": "1ac1740a",
   "metadata": {
    "ExecuteTime": {
     "end_time": "2021-10-13T20:46:21.037420Z",
     "start_time": "2021-10-13T20:46:21.031593Z"
    },
    "code_folding": []
   },
   "outputs": [],
   "source": [
    "def ensemble_model(array_list, weights, true_labels,en_type = 'val' ):\n",
    "    ensemble = np.sum(np.array(array_list)*np.array(weights).reshape(len(weights),1,1), axis = 0)\n",
    "    y_pred_ensemble  = F.softmax(torch.from_numpy(ensemble), dim = 1).numpy()\n",
    "    y_pred_ensemble = np.argmax(y_pred_ensemble, axis=1)\n",
    "    print(np.unique(y_pred_ensemble, return_counts=True))\n",
    "    \n",
    "    if en_type == 'val':\n",
    "        print(f\"Accuracy Score: {accuracy_score(true_labels,y_pred_ensemble)*100}\")\n",
    "        print(f\"F1 score: {f1_score(true_labels, y_pred_ensemble, average = 'macro')*100}\")\n",
    "    \n",
    "        cm = confusion_matrix(true_labels,y_pred_ensemble, labels = [0,1,2])\n",
    "        disp = ConfusionMatrixDisplay(confusion_matrix=cm,display_labels = [0,1,2])\n",
    "    \n",
    "        disp.plot()\n",
    "        plt.show()\n",
    "    elif en_type == 'test':\n",
    "        test_csv = pd.read_csv(\"/media/brats/DRIVE1/akansh/DeepXrays/Data/raw/submission.csv\")\n",
    "        test_csv[' class'] = y_pred_ensemble\n",
    "        name = input(\"Enter the name\")\n",
    "        test_csv.to_csv(str(name)+'.csv', index = False)\n",
    "    else:\n",
    "        pass"
   ]
  },
  {
   "cell_type": "code",
   "execution_count": 9,
   "id": "c7d2d2a5",
   "metadata": {
    "ExecuteTime": {
     "end_time": "2021-10-13T20:46:48.937986Z",
     "start_time": "2021-10-13T20:46:48.931730Z"
    }
   },
   "outputs": [],
   "source": [
    "denseNet_train = np.load(\"./Train_probab/denseNet_train.npy\")\n",
    "denseNet_train_bl = np.load(\"./Train_probab/denseNet_train_Bl.npy\")\n",
    "efficientNet_1422_train = np.load('Train_probab/efficientNet_1422_Train.npy')\n",
    "efficient_Net_best_loss_train = np.load('Train_probab/efficientNet_best_loss_Train.npy')\n",
    "efficientNet_orig_train = np.load('Train_probab/effNet-kaggleModelTrain.npy')\n",
    "# efficientNet_96_25_train = np.load('Train_probab/efficientNet_96.25_Train.npy')\n",
    "# train = [denseNet_train,\n",
    "#      denseNet_train_bl,\n",
    "#      efficientNet_1422_train,\n",
    "#      efficient_Net_best_loss_train,\n",
    "#      efficientNet_orig_train,\n",
    "#         efficientNet_96_25_train]\n",
    "train = [denseNet_train,\n",
    "     denseNet_train_bl,\n",
    "     efficientNet_1422_train,\n",
    "     efficient_Net_best_loss_train,\n",
    "     efficientNet_orig_train]"
   ]
  },
  {
   "cell_type": "code",
   "execution_count": 10,
   "id": "2596bbfe",
   "metadata": {
    "ExecuteTime": {
     "end_time": "2021-10-13T20:47:00.607418Z",
     "start_time": "2021-10-13T20:47:00.601725Z"
    }
   },
   "outputs": [],
   "source": [
    "denseNet_valid = np.load(\"./Validation_probab/denseNet_valid.npy\")\n",
    "denseNet_valid_bl = np.load(\"./Validation_probab/denseNet_valid_Bl.npy\")\n",
    "efficientNet_1422_valid = np.load('Validation_probab/efficientNet_1422_Valid.npy')\n",
    "efficient_Net_best_loss_valid = np.load('Validation_probab/efficientNet_best_loss_Valid.npy')\n",
    "efficientNet_orig_valid = np.load('Validation_probab/effNet-kaggleModelValid.npy')\n",
    "efficientNet_96_25 = np.load('./Validation_probab/efficientNet_96.25_Valid.npy')\n",
    "# valid = [denseNet_valid,\n",
    "#      denseNet_valid_bl,\n",
    "#      efficientNet_1422_valid,\n",
    "#      efficient_Net_best_loss_valid,\n",
    "#      efficientNet_orig_valid,\n",
    "#     efficientNet_96_25]\n",
    "valid = [denseNet_valid,\n",
    "     denseNet_valid_bl,\n",
    "     efficientNet_1422_valid,\n",
    "     efficient_Net_best_loss_valid,\n",
    "     efficientNet_orig_valid,]"
   ]
  },
  {
   "cell_type": "code",
   "execution_count": 11,
   "id": "aade7511",
   "metadata": {
    "ExecuteTime": {
     "end_time": "2021-10-13T14:03:07.760037Z",
     "start_time": "2021-10-13T14:03:07.752853Z"
    }
   },
   "outputs": [],
   "source": [
    "denseNet_test = np.load(\"./Test_probab/denseNet_test.npy\")\n",
    "denseNet_test_bl = np.load(\"./Test_probab/denseNet_test_Bl.npy\")\n",
    "efficientNet_1422_test = np.load('Test_probab/efficientNet_1422_Test.npy')\n",
    "efficient_Net_best_loss_test = np.load('Test_probab/efficientNet_best_loss_Test.npy')\n",
    "efficientNet_orig_test = np.load('Test_probab/effNet-kaggleModelTest.npy')\n",
    "efficientNet_96_25 = np.load('./Test_probab/efficientNet_96.25_Test.npy')\n",
    "test = [denseNet_test,\n",
    "     denseNet_test_bl,\n",
    "     efficientNet_1422_test,\n",
    "     efficient_Net_best_loss_test,\n",
    "     efficientNet_orig_test,\n",
    "    efficientNet_96_25]"
   ]
  },
  {
   "cell_type": "code",
   "execution_count": 18,
   "id": "d2daad63",
   "metadata": {
    "ExecuteTime": {
     "end_time": "2021-10-11T07:49:14.010391Z",
     "start_time": "2021-10-11T07:49:12.319640Z"
    },
    "scrolled": true
   },
   "outputs": [
    {
     "name": "stdout",
     "output_type": "stream",
     "text": [
      "(array([0, 1, 2]), array([1415, 1049,  968]))\n",
      "Accuracy Score: 95.65850815850816\n"
     ]
    },
    {
     "data": {
      "image/png": "[encoded data removed]",
      "text/plain": [
       "<Figure size 432x288 with 2 Axes>"
      ]
     },
     "metadata": {
      "needs_background": "light"
     },
     "output_type": "display_data"
    },
    {
     "name": "stdout",
     "output_type": "stream",
     "text": [
      "(array([0, 1, 2]), array([1406, 1039,  987]))\n",
      "Accuracy Score: 95.22144522144522\n"
     ]
    },
    {
     "data": {
      "image/png": "[encoded data removed]",
      "text/plain": [
       "<Figure size 432x288 with 2 Axes>"
      ]
     },
     "metadata": {
      "needs_background": "light"
     },
     "output_type": "display_data"
    },
    {
     "name": "stdout",
     "output_type": "stream",
     "text": [
      "(array([0, 1, 2]), array([1448,  975, 1009]))\n",
      "Accuracy Score: 95.54195804195804\n"
     ]
    },
    {
     "data": {
      "image/png": "[encoded data removed]",
      "text/plain": [
       "<Figure size 432x288 with 2 Axes>"
      ]
     },
     "metadata": {
      "needs_background": "light"
     },
     "output_type": "display_data"
    },
    {
     "name": "stdout",
     "output_type": "stream",
     "text": [
      "(array([0, 1, 2]), array([1414, 1016, 1002]))\n",
      "Accuracy Score: 95.97902097902097\n"
     ]
    },
    {
     "data": {
      "image/png": "[encoded data removed]",
      "text/plain": [
       "<Figure size 432x288 with 2 Axes>"
      ]
     },
     "metadata": {
      "needs_background": "light"
     },
     "output_type": "display_data"
    },
    {
     "name": "stdout",
     "output_type": "stream",
     "text": [
      "(array([0, 1, 2]), array([1419,  996, 1017]))\n",
      "Accuracy Score: 95.6002331002331\n"
     ]
    },
    {
     "data": {
      "image/png": "[encoded data removed]",
      "text/plain": [
       "<Figure size 432x288 with 2 Axes>"
      ]
     },
     "metadata": {
      "needs_background": "light"
     },
     "output_type": "display_data"
    },
    {
     "name": "stdout",
     "output_type": "stream",
     "text": [
      "(array([0, 1, 2]), array([1425, 1039,  968]))\n",
      "Accuracy Score: 96.5034965034965\n"
     ]
    },
    {
     "data": {
      "image/png": "[encoded data removed]",
      "text/plain": [
       "<Figure size 432x288 with 2 Axes>"
      ]
     },
     "metadata": {
      "needs_background": "light"
     },
     "output_type": "display_data"
    }
   ],
   "source": [
    "ensemble_model(denseNet_valid, [1], valid_data.labels ) #Accuracy Score: 95.65850815850816 \n",
    "ensemble_model(denseNet_valid_bl, [1], valid_data.labels) #Accuracy Score: 95.22144522144522\n",
    "ensemble_model(efficientNet_1422_valid, [1], valid_data.labels) #Accuracy Score: 95.54195804195804\n",
    "ensemble_model(efficient_Net_best_loss_valid, [1], valid_data.labels) #Accuracy Score: 95.97902097902097\n",
    "ensemble_model(efficientNet_orig_valid, [1], valid_data.labels) #Accuracy Score: 95.6002331002331\n",
    "ensemble_model(efficientNet_96_25, [1], valid_data.labels)"
   ]
  },
  {
   "cell_type": "code",
   "execution_count": 13,
   "id": "97d00aee",
   "metadata": {
    "ExecuteTime": {
     "end_time": "2021-10-13T20:47:41.393344Z",
     "start_time": "2021-10-13T20:47:41.131984Z"
    }
   },
   "outputs": [
    {
     "name": "stdout",
     "output_type": "stream",
     "text": [
      "(array([0, 1, 2]), array([1417, 1017,  998]))\n",
      "Accuracy Score: 96.0081585081585\n",
      "F1 score: 95.54340433533956\n"
     ]
    },
    {
     "data": {
      "image/png": "[encoded data removed]",
      "text/plain": [
       "<Figure size 432x288 with 2 Axes>"
      ]
     },
     "metadata": {
      "needs_background": "light"
     },
     "output_type": "display_data"
    }
   ],
   "source": [
    "#Average\n",
    "A = [denseNet_valid,denseNet_valid_bl,efficientNet_1422_valid,efficient_Net_best_loss_valid,efficientNet_orig_valid]\n",
    "ensemble_model(A, len(A)*[1], valid_data.labels)\n",
    "# ensemble_model(B, [1,1,1,1,1], None, en_type=None)"
   ]
  },
  {
   "cell_type": "code",
   "execution_count": 14,
   "id": "f1b65287",
   "metadata": {
    "ExecuteTime": {
     "end_time": "2021-10-13T20:49:11.962043Z",
     "start_time": "2021-10-13T20:49:11.692754Z"
    }
   },
   "outputs": [
    {
     "name": "stdout",
     "output_type": "stream",
     "text": [
      "(array([0, 1, 2]), array([6531, 7172, 4255]))\n",
      "Accuracy Score: 98.5410402049226\n",
      "F1 score: 98.37365236722074\n"
     ]
    },
    {
     "data": {
      "image/png": "[encoded data removed]",
      "text/plain": [
       "<Figure size 432x288 with 2 Axes>"
      ]
     },
     "metadata": {
      "needs_background": "light"
     },
     "output_type": "display_data"
    }
   ],
   "source": [
    "ensemble_model(train, len(train)*[1], train_data.labels)"
   ]
  },
  {
   "cell_type": "code",
   "execution_count": 17,
   "id": "fdad1489",
   "metadata": {
    "ExecuteTime": {
     "end_time": "2021-10-13T20:53:25.151752Z",
     "start_time": "2021-10-13T20:53:24.654355Z"
    }
   },
   "outputs": [
    {
     "name": "stdout",
     "output_type": "stream",
     "text": [
      "(array([0, 1, 2]), array([1426, 1011,  995]))\n",
      "Accuracy Score: 96.35780885780886\n",
      "F1 score: 95.93881776842017\n"
     ]
    },
    {
     "data": {
      "image/png": "[encoded data removed]",
      "text/plain": [
       "<Figure size 432x288 with 2 Axes>"
      ]
     },
     "metadata": {
      "needs_background": "light"
     },
     "output_type": "display_data"
    },
    {
     "name": "stdout",
     "output_type": "stream",
     "text": [
      "(array([0, 1, 2]), array([6522, 7099, 4337]))\n",
      "Accuracy Score: 98.29602405613097\n",
      "F1 score: 98.11935180041208\n"
     ]
    },
    {
     "data": {
      "image/png": "[encoded data removed]",
      "text/plain": [
       "<Figure size 432x288 with 2 Axes>"
      ]
     },
     "metadata": {
      "needs_background": "light"
     },
     "output_type": "display_data"
    }
   ],
   "source": [
    "#Old\n",
    "ensemble_model(valid, [0,0,.4,.5,.1], valid_data.labels) #Maybe??\n",
    "ensemble_model(train, [0,0,.4,.5,.1], train_data.labels) #Yes it worked giving best score probab"
   ]
  },
  {
   "cell_type": "code",
   "execution_count": 13,
   "id": "7bfa0f1f",
   "metadata": {
    "ExecuteTime": {
     "end_time": "2021-10-13T14:03:51.849911Z",
     "start_time": "2021-10-13T14:03:51.605077Z"
    }
   },
   "outputs": [
    {
     "name": "stdout",
     "output_type": "stream",
     "text": [
      "(array([0, 1, 2]), array([1420, 1020,  992]))\n",
      "Accuracy Score: 96.12470862470862\n"
     ]
    },
    {
     "data": {
      "image/png": "[encoded data removed]",
      "text/plain": [
       "<Figure size 432x288 with 2 Axes>"
      ]
     },
     "metadata": {
      "needs_background": "light"
     },
     "output_type": "display_data"
    },
    {
     "name": "stdout",
     "output_type": "stream",
     "text": [
      "(array([0, 1, 2]), array([399, 417, 384]))\n"
     ]
    }
   ],
   "source": [
    "ensemble_model(valid, [0,0,.3,.6,0.0,0], valid_data.labels)\n",
    "ensemble_model(test, [0,0,.3,.6,0.0,0], None, None) #Yes it worked giving best score probab"
   ]
  },
  {
   "cell_type": "code",
   "execution_count": 106,
   "id": "375ae07c",
   "metadata": {
    "ExecuteTime": {
     "end_time": "2021-10-11T09:14:31.593417Z",
     "start_time": "2021-10-11T09:14:27.936545Z"
    }
   },
   "outputs": [
    {
     "name": "stdout",
     "output_type": "stream",
     "text": [
      "(array([0, 1, 2]), array([400, 406, 394]))\n",
      "Enter the namedelete\n"
     ]
    }
   ],
   "source": [
    "ensemble_model(test, [0,0,0.1,0.1,.8,0], None, 'test')"
   ]
  },
  {
   "cell_type": "code",
   "execution_count": 108,
   "id": "bf4421c6",
   "metadata": {
    "ExecuteTime": {
     "end_time": "2021-10-11T09:15:21.697558Z",
     "start_time": "2021-10-11T09:15:21.496897Z"
    }
   },
   "outputs": [
    {
     "name": "stdout",
     "output_type": "stream",
     "text": [
      "0356.jpg\n",
      "0574.jpg\n",
      "0752.jpg\n",
      "0967.jpg\n"
     ]
    }
   ],
   "source": [
    "#Jugad\n",
    "from PIL import Image\n",
    "import matplotlib.pyplot as plt\n",
    "\n",
    "label = pd.read_csv(\"./delete.csv\")\n",
    "\n",
    "covid_img = []\n",
    "for i in os.listdir(\"/media/brats/DRIVE1/akansh/DeepXrays/Data/raw/Chest XR covid/test/\"):\n",
    "    if plt.imread(\"/media/brats/DRIVE1/akansh/DeepXrays/Data/raw/Chest XR covid/test/\"+i).shape[0] == 512:\n",
    "        covid_img.append(i)\n",
    "\n",
    "\n",
    "\n",
    "\n",
    "for i in covid_img:\n",
    "    if label[label['case'] == i][' class'].values[0] != 0:\n",
    "        print(i)"
   ]
  },
  {
   "cell_type": "markdown",
   "id": "0867a739",
   "metadata": {},
   "source": [
    "### Weight search"
   ]
  },
  {
   "cell_type": "code",
   "execution_count": 21,
   "id": "b64a13f5",
   "metadata": {
    "ExecuteTime": {
     "end_time": "2021-10-11T07:54:43.118957Z",
     "start_time": "2021-10-11T07:54:43.113769Z"
    }
   },
   "outputs": [],
   "source": [
    "def find_ensemble_model_weights(array_list, weights, true_labels):\n",
    "    ensemble = np.sum(np.array(array_list)*np.array(weights).reshape(len(weights),1,1), axis = 0)\n",
    "    y_pred_ensemble  = F.softmax(torch.from_numpy(ensemble), dim = 1).numpy()\n",
    "    y_pred_ensemble = np.argmax(y_pred_ensemble, axis=1)\n",
    "    \n",
    "    return accuracy_score(true_labels,y_pred_ensemble)*100"
   ]
  },
  {
   "cell_type": "code",
   "execution_count": 62,
   "id": "9f2e29ec",
   "metadata": {
    "ExecuteTime": {
     "end_time": "2021-10-11T08:40:04.790850Z",
     "start_time": "2021-10-11T08:39:53.983973Z"
    },
    "collapsed": true
   },
   "outputs": [
    {
     "data": {
      "application/vnd.jupyter.widget-view+json": {
       "model_id": "f8ec26ea71944dce802cdbea5b2be668",
       "version_major": 2,
       "version_minor": 0
      },
      "text/plain": [
       "  0%|          | 0/21 [00:00<?, ?it/s]"
      ]
     },
     "metadata": {},
     "output_type": "display_data"
    },
    {
     "name": "stdout",
     "output_type": "stream",
     "text": [
      "train: 99.23154026060809\n",
      "val:  96.5034965034965\n",
      "[0, 0, 0.0, 0.0, 0.0, 1.0]\n",
      "train: 99.23154026060809\n",
      "val:  96.67832167832168\n",
      "[0, 0, 0.0, 0.0, 0.35000000000000003, 0.65]\n",
      "train: 99.23154026060809\n",
      "val:  96.76573426573427\n",
      "[0, 0, 0.0, 0.0, 0.4, 0.6000000000000001]\n",
      "train: 99.23154026060809\n",
      "val:  96.7948717948718\n",
      "[0, 0, 0.0, 0.0, 0.45, 0.55]\n",
      "train: 99.23154026060809\n",
      "val:  96.5909090909091\n",
      "[0, 0, 0.0, 0.05, 0.25, 0.7000000000000001]\n",
      "train: 99.23154026060809\n",
      "val:  96.5909090909091\n",
      "[0, 0, 0.0, 0.05, 0.30000000000000004, 0.65]\n",
      "train: 99.23154026060809\n",
      "val:  96.64918414918415\n",
      "[0, 0, 0.0, 0.05, 0.35000000000000003, 0.6000000000000001]\n",
      "train: 99.23154026060809\n",
      "val:  96.70745920745921\n",
      "[0, 0, 0.0, 0.05, 0.4, 0.55]\n",
      "train: 99.23154026060809\n",
      "val:  96.53263403263404\n",
      "[0, 0, 0.0, 0.1, 0.2, 0.7000000000000001]\n",
      "train: 99.23154026060809\n",
      "val:  96.53263403263404\n",
      "[0, 0, 0.0, 0.1, 0.25, 0.65]\n",
      "train: 99.23154026060809\n",
      "val:  96.62004662004662\n",
      "[0, 0, 0.0, 0.1, 0.30000000000000004, 0.6000000000000001]\n",
      "train: 99.23154026060809\n",
      "val:  96.70745920745921\n",
      "[0, 0, 0.0, 0.1, 0.35000000000000003, 0.55]\n",
      "train: 99.23154026060809\n",
      "val:  96.70745920745921\n",
      "[0, 0, 0.0, 0.1, 0.4, 0.5]\n",
      "train: 99.23154026060809\n",
      "val:  96.56177156177156\n",
      "[0, 0, 0.0, 0.15000000000000002, 0.2, 0.65]\n",
      "train: 99.23154026060809\n",
      "val:  96.56177156177156\n",
      "[0, 0, 0.0, 0.15000000000000002, 0.25, 0.6000000000000001]\n",
      "train: 99.23154026060809\n",
      "val:  96.67832167832168\n",
      "[0, 0, 0.0, 0.15000000000000002, 0.30000000000000004, 0.55]\n",
      "train: 99.23154026060809\n",
      "val:  96.70745920745921\n",
      "[0, 0, 0.0, 0.15000000000000002, 0.35000000000000003, 0.5]\n",
      "train: 99.23154026060809\n",
      "val:  96.56177156177156\n",
      "[0, 0, 0.0, 0.2, 0.15000000000000002, 0.65]\n",
      "train: 99.23154026060809\n",
      "val:  96.56177156177156\n",
      "[0, 0, 0.0, 0.2, 0.2, 0.6000000000000001]\n",
      "train: 99.23154026060809\n",
      "val:  96.62004662004662\n",
      "[0, 0, 0.0, 0.2, 0.25, 0.55]\n",
      "train: 99.23154026060809\n",
      "val:  96.67832167832168\n",
      "[0, 0, 0.0, 0.2, 0.30000000000000004, 0.5]\n",
      "train: 99.23154026060809\n",
      "val:  96.5034965034965\n",
      "[0, 0, 0.0, 0.25, 0.1, 0.65]\n",
      "train: 99.23154026060809\n",
      "val:  96.56177156177156\n",
      "[0, 0, 0.0, 0.25, 0.15000000000000002, 0.6000000000000001]\n",
      "train: 99.23154026060809\n",
      "val:  96.64918414918415\n",
      "[0, 0, 0.0, 0.25, 0.2, 0.55]\n",
      "train: 99.23154026060809\n",
      "val:  96.56177156177156\n",
      "[0, 0, 0.0, 0.30000000000000004, 0.0, 0.7000000000000001]\n",
      "train: 99.23154026060809\n",
      "val:  96.56177156177156\n",
      "[0, 0, 0.0, 0.30000000000000004, 0.1, 0.6000000000000001]\n",
      "train: 99.23154026060809\n",
      "val:  96.62004662004662\n",
      "[0, 0, 0.0, 0.30000000000000004, 0.15000000000000002, 0.55]\n",
      "train: 99.23154026060809\n",
      "val:  96.5909090909091\n",
      "[0, 0, 0.0, 0.35000000000000003, 0.05, 0.6000000000000001]\n",
      "train: 99.23154026060809\n",
      "val:  96.64918414918415\n",
      "[0, 0, 0.0, 0.35000000000000003, 0.1, 0.55]\n",
      "train: 99.23154026060809\n",
      "val:  96.62004662004662\n",
      "[0, 0, 0.0, 0.4, 0.0, 0.6000000000000001]\n",
      "train: 99.23154026060809\n",
      "val:  96.64918414918415\n",
      "[0, 0, 0.0, 0.4, 0.05, 0.55]\n",
      "train: 99.23154026060809\n",
      "val:  96.56177156177156\n",
      "[0, 0, 0.05, 0.0, 0.25, 0.7000000000000001]\n",
      "train: 99.23154026060809\n",
      "val:  96.62004662004662\n",
      "[0, 0, 0.05, 0.0, 0.30000000000000004, 0.65]\n",
      "train: 99.23154026060809\n",
      "val:  96.64918414918415\n",
      "[0, 0, 0.05, 0.0, 0.35000000000000003, 0.6000000000000001]\n",
      "train: 99.23154026060809\n",
      "val:  96.73659673659674\n",
      "[0, 0, 0.05, 0.0, 0.4, 0.55]\n",
      "train: 99.23154026060809\n",
      "val:  96.5034965034965\n",
      "[0, 0, 0.05, 0.05, 0.2, 0.7000000000000001]\n",
      "train: 99.23154026060809\n",
      "val:  96.56177156177156\n",
      "[0, 0, 0.05, 0.05, 0.25, 0.65]\n",
      "train: 99.23154026060809\n",
      "val:  96.62004662004662\n",
      "[0, 0, 0.05, 0.05, 0.30000000000000004, 0.6000000000000001]\n",
      "train: 99.23154026060809\n",
      "val:  96.70745920745921\n",
      "[0, 0, 0.05, 0.05, 0.35000000000000003, 0.55]\n",
      "train: 99.23154026060809\n",
      "val:  96.67832167832168\n",
      "[0, 0, 0.05, 0.05, 0.4, 0.5]\n",
      "train: 99.23154026060809\n",
      "val:  96.5034965034965\n",
      "[0, 0, 0.05, 0.1, 0.15000000000000002, 0.7000000000000001]\n",
      "train: 99.23154026060809\n",
      "val:  96.53263403263404\n",
      "[0, 0, 0.05, 0.1, 0.2, 0.65]\n",
      "train: 99.23154026060809\n",
      "val:  96.5909090909091\n",
      "[0, 0, 0.05, 0.1, 0.25, 0.6000000000000001]\n",
      "train: 99.23154026060809\n",
      "val:  96.70745920745921\n",
      "[0, 0, 0.05, 0.1, 0.30000000000000004, 0.55]\n",
      "train: 99.23154026060809\n",
      "val:  96.67832167832168\n",
      "[0, 0, 0.05, 0.1, 0.35000000000000003, 0.5]\n",
      "train: 99.23154026060809\n",
      "val:  96.53263403263404\n",
      "[0, 0, 0.05, 0.15000000000000002, 0.1, 0.7000000000000001]\n",
      "train: 99.23154026060809\n",
      "val:  96.53263403263404\n",
      "[0, 0, 0.05, 0.15000000000000002, 0.15000000000000002, 0.65]\n",
      "train: 99.23154026060809\n",
      "val:  96.5909090909091\n",
      "[0, 0, 0.05, 0.15000000000000002, 0.2, 0.6000000000000001]\n",
      "train: 99.23154026060809\n",
      "val:  96.64918414918415\n",
      "[0, 0, 0.05, 0.15000000000000002, 0.25, 0.55]\n",
      "train: 99.23154026060809\n",
      "val:  96.70745920745921\n",
      "[0, 0, 0.05, 0.15000000000000002, 0.30000000000000004, 0.5]\n",
      "train: 99.23154026060809\n",
      "val:  96.53263403263404\n",
      "[0, 0, 0.05, 0.2, 0.05, 0.7000000000000001]\n",
      "train: 99.23154026060809\n",
      "val:  96.53263403263404\n",
      "[0, 0, 0.05, 0.2, 0.1, 0.65]\n",
      "train: 99.23154026060809\n",
      "val:  96.56177156177156\n",
      "[0, 0, 0.05, 0.2, 0.15000000000000002, 0.6000000000000001]\n",
      "train: 99.23154026060809\n",
      "val:  96.64918414918415\n",
      "[0, 0, 0.05, 0.2, 0.2, 0.55]\n",
      "train: 99.23154026060809\n",
      "val:  96.70745920745921\n",
      "[0, 0, 0.05, 0.2, 0.25, 0.5]\n",
      "train: 99.23154026060809\n",
      "val:  96.5034965034965\n",
      "[0, 0, 0.05, 0.25, 0.05, 0.65]\n",
      "train: 99.23154026060809\n",
      "val:  96.5909090909091\n",
      "[0, 0, 0.05, 0.25, 0.1, 0.6000000000000001]\n",
      "train: 99.23154026060809\n",
      "val:  96.70745920745921\n",
      "[0, 0, 0.05, 0.25, 0.15000000000000002, 0.55]\n",
      "train: 99.23154026060809\n",
      "val:  96.73659673659674\n",
      "[0, 0, 0.05, 0.25, 0.2, 0.5]\n",
      "train: 99.23154026060809\n",
      "val:  96.56177156177156\n",
      "[0, 0, 0.05, 0.30000000000000004, 0.0, 0.65]\n",
      "train: 99.23154026060809\n",
      "val:  96.62004662004662\n",
      "[0, 0, 0.05, 0.30000000000000004, 0.05, 0.6000000000000001]\n",
      "train: 99.23154026060809\n",
      "val:  96.64918414918415\n",
      "[0, 0, 0.05, 0.30000000000000004, 0.1, 0.55]\n",
      "train: 99.23154026060809\n",
      "val:  96.62004662004662\n",
      "[0, 0, 0.05, 0.35000000000000003, 0.0, 0.6000000000000001]\n",
      "train: 99.23154026060809\n",
      "val:  96.64918414918415\n",
      "[0, 0, 0.05, 0.35000000000000003, 0.05, 0.55]\n",
      "train: 99.23154026060809\n",
      "val:  96.62004662004662\n",
      "[0, 0, 0.05, 0.4, 0.0, 0.55]\n",
      "train: 99.23154026060809\n",
      "val:  96.5909090909091\n",
      "[0, 0, 0.1, 0.0, 0.1, 0.8]\n",
      "train: 99.23154026060809\n",
      "val:  96.53263403263404\n",
      "[0, 0, 0.1, 0.0, 0.15000000000000002, 0.75]\n",
      "train: 99.23154026060809\n",
      "val:  96.56177156177156\n",
      "[0, 0, 0.1, 0.0, 0.2, 0.7000000000000001]\n",
      "train: 99.23154026060809\n",
      "val:  96.5909090909091\n",
      "[0, 0, 0.1, 0.0, 0.25, 0.65]\n",
      "train: 99.23154026060809\n",
      "val:  96.62004662004662\n",
      "[0, 0, 0.1, 0.0, 0.30000000000000004, 0.6000000000000001]\n",
      "train: 99.23154026060809\n",
      "val:  96.67832167832168\n",
      "[0, 0, 0.1, 0.0, 0.35000000000000003, 0.55]\n",
      "train: 99.23154026060809\n",
      "val:  96.64918414918415\n",
      "[0, 0, 0.1, 0.0, 0.4, 0.5]\n",
      "train: 99.23154026060809\n",
      "val:  96.56177156177156\n",
      "[0, 0, 0.1, 0.05, 0.1, 0.75]\n",
      "train: 99.23154026060809\n",
      "val:  96.5034965034965\n",
      "[0, 0, 0.1, 0.05, 0.15000000000000002, 0.7000000000000001]\n",
      "train: 99.23154026060809\n",
      "val:  96.56177156177156\n",
      "[0, 0, 0.1, 0.05, 0.2, 0.65]\n",
      "train: 99.23154026060809\n",
      "val:  96.5909090909091\n",
      "[0, 0, 0.1, 0.05, 0.25, 0.6000000000000001]\n",
      "train: 99.23154026060809\n",
      "val:  96.64918414918415\n",
      "[0, 0, 0.1, 0.05, 0.30000000000000004, 0.55]\n",
      "train: 99.23154026060809\n",
      "val:  96.70745920745921\n",
      "[0, 0, 0.1, 0.05, 0.35000000000000003, 0.5]\n",
      "train: 99.23154026060809\n",
      "val:  96.56177156177156\n",
      "[0, 0, 0.1, 0.1, 0.1, 0.7000000000000001]\n",
      "train: 99.23154026060809\n",
      "val:  96.56177156177156\n",
      "[0, 0, 0.1, 0.1, 0.15000000000000002, 0.65]\n",
      "train: 99.23154026060809\n",
      "val:  96.53263403263404\n",
      "[0, 0, 0.1, 0.1, 0.2, 0.6000000000000001]\n",
      "train: 99.23154026060809\n",
      "val:  96.62004662004662\n",
      "[0, 0, 0.1, 0.1, 0.25, 0.55]\n",
      "train: 99.23154026060809\n",
      "val:  96.64918414918415\n",
      "[0, 0, 0.1, 0.1, 0.30000000000000004, 0.5]\n",
      "train: 99.23154026060809\n",
      "val:  96.62004662004662\n",
      "[0, 0, 0.1, 0.15000000000000002, 0.05, 0.7000000000000001]\n",
      "train: 99.23154026060809\n",
      "val:  96.56177156177156\n",
      "[0, 0, 0.1, 0.15000000000000002, 0.1, 0.65]\n",
      "train: 99.23154026060809\n",
      "val:  96.56177156177156\n",
      "[0, 0, 0.1, 0.15000000000000002, 0.15000000000000002, 0.6000000000000001]\n",
      "train: 99.23154026060809\n",
      "val:  96.64918414918415\n",
      "[0, 0, 0.1, 0.15000000000000002, 0.2, 0.55]\n",
      "train: 99.23154026060809\n",
      "val:  96.67832167832168\n",
      "[0, 0, 0.1, 0.15000000000000002, 0.25, 0.5]\n",
      "train: 99.23154026060809\n",
      "val:  96.5909090909091\n",
      "[0, 0, 0.1, 0.15000000000000002, 0.30000000000000004, 0.45]\n",
      "train: 99.23154026060809\n",
      "val:  96.56177156177156\n",
      "[0, 0, 0.1, 0.2, 0.05, 0.65]\n",
      "train: 99.23154026060809\n",
      "val:  96.56177156177156\n",
      "[0, 0, 0.1, 0.2, 0.1, 0.6000000000000001]\n",
      "train: 99.23154026060809\n",
      "val:  96.64918414918415\n",
      "[0, 0, 0.1, 0.2, 0.15000000000000002, 0.55]\n",
      "train: 99.23154026060809\n",
      "val:  96.70745920745921\n",
      "[0, 0, 0.1, 0.2, 0.2, 0.5]\n"
     ]
    },
    {
     "name": "stdout",
     "output_type": "stream",
     "text": [
      "train: 99.23154026060809\n",
      "val:  96.62004662004662\n",
      "[0, 0, 0.1, 0.25, 0.05, 0.6000000000000001]\n",
      "train: 99.23154026060809\n",
      "val:  96.64918414918415\n",
      "[0, 0, 0.1, 0.25, 0.1, 0.55]\n",
      "train: 99.23154026060809\n",
      "val:  96.73659673659674\n",
      "[0, 0, 0.1, 0.25, 0.15000000000000002, 0.5]\n",
      "train: 99.23154026060809\n",
      "val:  96.62004662004662\n",
      "[0, 0, 0.1, 0.30000000000000004, 0.0, 0.6000000000000001]\n",
      "train: 99.23154026060809\n",
      "val:  96.64918414918415\n",
      "[0, 0, 0.1, 0.30000000000000004, 0.05, 0.55]\n",
      "train: 99.23154026060809\n",
      "val:  96.67832167832168\n",
      "[0, 0, 0.1, 0.35000000000000003, 0.0, 0.55]\n",
      "train: 99.23154026060809\n",
      "val:  96.67832167832168\n",
      "[0, 0, 0.1, 0.35000000000000003, 0.05, 0.5]\n",
      "train: 99.23154026060809\n",
      "val:  96.5909090909091\n",
      "[0, 0, 0.15000000000000002, 0.0, 0.1, 0.75]\n",
      "train: 99.23154026060809\n",
      "val:  96.53263403263404\n",
      "[0, 0, 0.15000000000000002, 0.0, 0.15000000000000002, 0.7000000000000001]\n",
      "train: 99.23154026060809\n",
      "val:  96.62004662004662\n",
      "[0, 0, 0.15000000000000002, 0.0, 0.2, 0.65]\n",
      "train: 99.23154026060809\n",
      "val:  96.53263403263404\n",
      "[0, 0, 0.15000000000000002, 0.0, 0.25, 0.6000000000000001]\n",
      "train: 99.23154026060809\n",
      "val:  96.67832167832168\n",
      "[0, 0, 0.15000000000000002, 0.0, 0.30000000000000004, 0.55]\n",
      "train: 99.23154026060809\n",
      "val:  96.64918414918415\n",
      "[0, 0, 0.15000000000000002, 0.0, 0.35000000000000003, 0.5]\n",
      "train: 99.23154026060809\n",
      "val:  96.5909090909091\n",
      "[0, 0, 0.15000000000000002, 0.05, 0.05, 0.75]\n",
      "train: 99.23154026060809\n",
      "val:  96.56177156177156\n",
      "[0, 0, 0.15000000000000002, 0.05, 0.1, 0.7000000000000001]\n",
      "train: 99.23154026060809\n",
      "val:  96.5909090909091\n",
      "[0, 0, 0.15000000000000002, 0.05, 0.15000000000000002, 0.65]\n",
      "train: 99.23154026060809\n",
      "val:  96.53263403263404\n",
      "[0, 0, 0.15000000000000002, 0.05, 0.2, 0.6000000000000001]\n",
      "train: 99.23154026060809\n",
      "val:  96.64918414918415\n",
      "[0, 0, 0.15000000000000002, 0.05, 0.25, 0.55]\n",
      "train: 99.23154026060809\n",
      "val:  96.64918414918415\n",
      "[0, 0, 0.15000000000000002, 0.05, 0.30000000000000004, 0.5]\n",
      "train: 99.23154026060809\n",
      "val:  96.64918414918415\n",
      "[0, 0, 0.15000000000000002, 0.1, 0.0, 0.75]\n",
      "train: 99.23154026060809\n",
      "val:  96.5909090909091\n",
      "[0, 0, 0.15000000000000002, 0.1, 0.05, 0.7000000000000001]\n",
      "train: 99.23154026060809\n",
      "val:  96.56177156177156\n",
      "[0, 0, 0.15000000000000002, 0.1, 0.1, 0.65]\n",
      "train: 99.23154026060809\n",
      "val:  96.56177156177156\n",
      "[0, 0, 0.15000000000000002, 0.1, 0.15000000000000002, 0.6000000000000001]\n",
      "train: 99.23154026060809\n",
      "val:  96.64918414918415\n",
      "[0, 0, 0.15000000000000002, 0.1, 0.2, 0.55]\n",
      "train: 99.23154026060809\n",
      "val:  96.64918414918415\n",
      "[0, 0, 0.15000000000000002, 0.1, 0.25, 0.5]\n",
      "train: 99.23154026060809\n",
      "val:  96.62004662004662\n",
      "[0, 0, 0.15000000000000002, 0.1, 0.30000000000000004, 0.45]\n",
      "train: 99.23154026060809\n",
      "val:  96.5909090909091\n",
      "[0, 0, 0.15000000000000002, 0.15000000000000002, 0.0, 0.7000000000000001]\n",
      "train: 99.23154026060809\n",
      "val:  96.62004662004662\n",
      "[0, 0, 0.15000000000000002, 0.15000000000000002, 0.05, 0.65]\n",
      "train: 99.23154026060809\n",
      "val:  96.62004662004662\n",
      "[0, 0, 0.15000000000000002, 0.15000000000000002, 0.1, 0.6000000000000001]\n",
      "train: 99.23154026060809\n",
      "val:  96.62004662004662\n",
      "[0, 0, 0.15000000000000002, 0.15000000000000002, 0.15000000000000002, 0.55]\n",
      "train: 99.23154026060809\n",
      "val:  96.64918414918415\n",
      "[0, 0, 0.15000000000000002, 0.15000000000000002, 0.2, 0.5]\n",
      "train: 99.23154026060809\n",
      "val:  96.62004662004662\n",
      "[0, 0, 0.15000000000000002, 0.2, 0.0, 0.65]\n",
      "train: 99.23154026060809\n",
      "val:  96.5909090909091\n",
      "[0, 0, 0.15000000000000002, 0.2, 0.05, 0.6000000000000001]\n",
      "train: 99.23154026060809\n",
      "val:  96.64918414918415\n",
      "[0, 0, 0.15000000000000002, 0.2, 0.1, 0.55]\n",
      "train: 99.23154026060809\n",
      "val:  96.67832167832168\n",
      "[0, 0, 0.15000000000000002, 0.2, 0.15000000000000002, 0.5]\n",
      "train: 99.23154026060809\n",
      "val:  96.67832167832168\n",
      "[0, 0, 0.15000000000000002, 0.2, 0.2, 0.45]\n",
      "train: 99.23154026060809\n",
      "val:  96.5909090909091\n",
      "[0, 0, 0.15000000000000002, 0.25, 0.0, 0.6000000000000001]\n",
      "train: 99.23154026060809\n",
      "val:  96.67832167832168\n",
      "[0, 0, 0.15000000000000002, 0.25, 0.05, 0.55]\n",
      "train: 99.23154026060809\n",
      "val:  96.70745920745921\n",
      "[0, 0, 0.15000000000000002, 0.25, 0.1, 0.5]\n",
      "train: 99.23154026060809\n",
      "val:  96.64918414918415\n",
      "[0, 0, 0.15000000000000002, 0.30000000000000004, 0.0, 0.55]\n",
      "train: 99.23154026060809\n",
      "val:  96.70745920745921\n",
      "[0, 0, 0.15000000000000002, 0.30000000000000004, 0.05, 0.5]\n",
      "train: 99.23154026060809\n",
      "val:  96.67832167832168\n",
      "[0, 0, 0.15000000000000002, 0.30000000000000004, 0.1, 0.45]\n",
      "train: 99.23154026060809\n",
      "val:  96.64918414918415\n",
      "[0, 0, 0.2, 0.0, 0.05, 0.75]\n",
      "train: 99.23154026060809\n",
      "val:  96.62004662004662\n",
      "[0, 0, 0.2, 0.0, 0.1, 0.7000000000000001]\n",
      "train: 99.23154026060809\n",
      "val:  96.5909090909091\n",
      "[0, 0, 0.2, 0.0, 0.15000000000000002, 0.65]\n",
      "train: 99.23154026060809\n",
      "val:  96.5909090909091\n",
      "[0, 0, 0.2, 0.0, 0.2, 0.6000000000000001]\n",
      "train: 99.23154026060809\n",
      "val:  96.70745920745921\n",
      "[0, 0, 0.2, 0.0, 0.25, 0.55]\n",
      "train: 99.23154026060809\n",
      "val:  96.73659673659674\n",
      "[0, 0, 0.2, 0.0, 0.30000000000000004, 0.5]\n",
      "train: 99.23154026060809\n",
      "val:  96.70745920745921\n",
      "[0, 0, 0.2, 0.05, 0.0, 0.75]\n",
      "train: 99.23154026060809\n",
      "val:  96.64918414918415\n",
      "[0, 0, 0.2, 0.05, 0.05, 0.7000000000000001]\n",
      "train: 99.23154026060809\n",
      "val:  96.56177156177156\n",
      "[0, 0, 0.2, 0.05, 0.1, 0.65]\n",
      "train: 99.23154026060809\n",
      "val:  96.62004662004662\n",
      "[0, 0, 0.2, 0.05, 0.15000000000000002, 0.6000000000000001]\n",
      "train: 99.23154026060809\n",
      "val:  96.67832167832168\n",
      "[0, 0, 0.2, 0.05, 0.2, 0.55]\n",
      "train: 99.23154026060809\n",
      "val:  96.70745920745921\n",
      "[0, 0, 0.2, 0.05, 0.25, 0.5]\n",
      "train: 99.23154026060809\n",
      "val:  96.64918414918415\n",
      "[0, 0, 0.2, 0.05, 0.30000000000000004, 0.45]\n",
      "train: 99.23154026060809\n",
      "val:  96.64918414918415\n",
      "[0, 0, 0.2, 0.1, 0.0, 0.7000000000000001]\n",
      "train: 99.23154026060809\n",
      "val:  96.62004662004662\n",
      "[0, 0, 0.2, 0.1, 0.05, 0.65]\n",
      "train: 99.23154026060809\n",
      "val:  96.64918414918415\n",
      "[0, 0, 0.2, 0.1, 0.1, 0.6000000000000001]\n",
      "train: 99.23154026060809\n",
      "val:  96.73659673659674\n",
      "[0, 0, 0.2, 0.1, 0.15000000000000002, 0.55]\n",
      "train: 99.23154026060809\n",
      "val:  96.70745920745921\n",
      "[0, 0, 0.2, 0.1, 0.2, 0.5]\n",
      "train: 99.23154026060809\n",
      "val:  96.64918414918415\n",
      "[0, 0, 0.2, 0.1, 0.25, 0.45]\n",
      "train: 99.23154026060809\n",
      "val:  96.64918414918415\n",
      "[0, 0, 0.2, 0.15000000000000002, 0.0, 0.65]\n",
      "train: 99.23154026060809\n",
      "val:  96.64918414918415\n",
      "[0, 0, 0.2, 0.15000000000000002, 0.05, 0.6000000000000001]\n",
      "train: 99.23154026060809\n",
      "val:  96.64918414918415\n",
      "[0, 0, 0.2, 0.15000000000000002, 0.1, 0.55]\n",
      "train: 99.23154026060809\n",
      "val:  96.64918414918415\n",
      "[0, 0, 0.2, 0.15000000000000002, 0.15000000000000002, 0.5]\n",
      "train: 99.23154026060809\n",
      "val:  96.70745920745921\n",
      "[0, 0, 0.2, 0.15000000000000002, 0.2, 0.45]\n",
      "train: 99.23154026060809\n",
      "val:  96.70745920745921\n",
      "[0, 0, 0.2, 0.2, 0.0, 0.6000000000000001]\n",
      "train: 99.23154026060809\n",
      "val:  96.70745920745921\n",
      "[0, 0, 0.2, 0.2, 0.05, 0.55]\n",
      "train: 99.23154026060809\n",
      "val:  96.67832167832168\n",
      "[0, 0, 0.2, 0.2, 0.1, 0.5]\n",
      "train: 99.23154026060809\n",
      "val:  96.67832167832168\n",
      "[0, 0, 0.2, 0.2, 0.15000000000000002, 0.45]\n",
      "train: 99.23154026060809\n",
      "val:  96.70745920745921\n",
      "[0, 0, 0.2, 0.25, 0.0, 0.55]\n",
      "train: 99.23154026060809\n",
      "val:  96.67832167832168\n",
      "[0, 0, 0.2, 0.25, 0.05, 0.5]\n",
      "train: 99.23154026060809\n",
      "val:  96.67832167832168\n",
      "[0, 0, 0.2, 0.25, 0.1, 0.45]\n",
      "train: 99.23154026060809\n",
      "val:  96.67832167832168\n",
      "[0, 0, 0.25, 0.0, 0.0, 0.75]\n",
      "train: 99.23154026060809\n",
      "val:  96.64918414918415\n",
      "[0, 0, 0.25, 0.0, 0.05, 0.7000000000000001]\n",
      "train: 99.23154026060809\n",
      "val:  96.62004662004662\n",
      "[0, 0, 0.25, 0.0, 0.1, 0.65]\n",
      "train: 99.23154026060809\n",
      "val:  96.53263403263404\n",
      "[0, 0, 0.25, 0.0, 0.15000000000000002, 0.6000000000000001]\n",
      "train: 99.23154026060809\n",
      "val:  96.76573426573427\n",
      "[0, 0, 0.25, 0.0, 0.2, 0.55]\n",
      "train: 99.23154026060809\n",
      "val:  96.73659673659674\n",
      "[0, 0, 0.25, 0.0, 0.25, 0.5]\n",
      "train: 99.23154026060809\n",
      "val:  96.5909090909091\n",
      "[0, 0, 0.25, 0.0, 0.30000000000000004, 0.45]\n",
      "train: 99.23154026060809\n",
      "val:  96.67832167832168\n",
      "[0, 0, 0.25, 0.05, 0.0, 0.7000000000000001]\n",
      "train: 99.23154026060809\n",
      "val:  96.64918414918415\n",
      "[0, 0, 0.25, 0.05, 0.05, 0.65]\n",
      "train: 99.23154026060809\n",
      "val:  96.64918414918415\n",
      "[0, 0, 0.25, 0.05, 0.1, 0.6000000000000001]\n",
      "train: 99.23154026060809\n",
      "val:  96.76573426573427\n",
      "[0, 0, 0.25, 0.05, 0.15000000000000002, 0.55]\n",
      "train: 99.23154026060809\n",
      "val:  96.76573426573427\n",
      "[0, 0, 0.25, 0.05, 0.2, 0.5]\n",
      "train: 99.23154026060809\n",
      "val:  96.67832167832168\n",
      "[0, 0, 0.25, 0.05, 0.25, 0.45]\n",
      "train: 99.23154026060809\n",
      "val:  96.62004662004662\n",
      "[0, 0, 0.25, 0.1, 0.0, 0.65]\n",
      "train: 99.23154026060809\n",
      "val:  96.67832167832168\n",
      "[0, 0, 0.25, 0.1, 0.05, 0.6000000000000001]\n",
      "train: 99.23154026060809\n",
      "val:  96.70745920745921\n",
      "[0, 0, 0.25, 0.1, 0.1, 0.55]\n",
      "train: 99.23154026060809\n",
      "val:  96.70745920745921\n",
      "[0, 0, 0.25, 0.1, 0.15000000000000002, 0.5]\n",
      "train: 99.23154026060809\n",
      "val:  96.70745920745921\n",
      "[0, 0, 0.25, 0.1, 0.2, 0.45]\n",
      "train: 99.23154026060809\n",
      "val:  96.70745920745921\n",
      "[0, 0, 0.25, 0.15000000000000002, 0.0, 0.6000000000000001]\n",
      "train: 99.23154026060809\n",
      "val:  96.70745920745921\n",
      "[0, 0, 0.25, 0.15000000000000002, 0.05, 0.55]\n",
      "train: 99.23154026060809\n",
      "val:  96.70745920745921\n",
      "[0, 0, 0.25, 0.15000000000000002, 0.1, 0.5]\n",
      "train: 99.23154026060809\n",
      "val:  96.73659673659674\n",
      "[0, 0, 0.25, 0.15000000000000002, 0.15000000000000002, 0.45]\n"
     ]
    },
    {
     "name": "stdout",
     "output_type": "stream",
     "text": [
      "train: 99.23154026060809\n",
      "val:  96.73659673659674\n",
      "[0, 0, 0.25, 0.2, 0.0, 0.55]\n",
      "train: 99.23154026060809\n",
      "val:  96.70745920745921\n",
      "[0, 0, 0.25, 0.2, 0.05, 0.5]\n",
      "train: 99.23154026060809\n",
      "val:  96.64918414918415\n",
      "[0, 0, 0.25, 0.2, 0.1, 0.45]\n",
      "train: 99.23154026060809\n",
      "val:  96.67832167832168\n",
      "[0, 0, 0.25, 0.25, 0.0, 0.5]\n",
      "train: 99.23154026060809\n",
      "val:  96.62004662004662\n",
      "[0, 0, 0.25, 0.25, 0.05, 0.45]\n",
      "train: 99.23154026060809\n",
      "val:  96.64918414918415\n",
      "[0, 0, 0.30000000000000004, 0.0, 0.0, 0.7000000000000001]\n",
      "train: 99.23154026060809\n",
      "val:  96.73659673659674\n",
      "[0, 0, 0.30000000000000004, 0.0, 0.05, 0.65]\n",
      "train: 99.23154026060809\n",
      "val:  96.5909090909091\n",
      "[0, 0, 0.30000000000000004, 0.0, 0.1, 0.6000000000000001]\n",
      "train: 99.23154026060809\n",
      "val:  96.76573426573427\n",
      "[0, 0, 0.30000000000000004, 0.0, 0.15000000000000002, 0.55]\n",
      "train: 99.23154026060809\n",
      "val:  96.82400932400932\n",
      "[0, 0, 0.30000000000000004, 0.0, 0.2, 0.5]\n",
      "train: 99.23154026060809\n",
      "val:  96.67832167832168\n",
      "[0, 0, 0.30000000000000004, 0.0, 0.25, 0.45]\n",
      "train: 99.23154026060809\n",
      "val:  96.67832167832168\n",
      "[0, 0, 0.30000000000000004, 0.05, 0.0, 0.65]\n",
      "train: 99.23154026060809\n",
      "val:  96.5909090909091\n",
      "[0, 0, 0.30000000000000004, 0.05, 0.05, 0.6000000000000001]\n",
      "train: 99.23154026060809\n",
      "val:  96.73659673659674\n",
      "[0, 0, 0.30000000000000004, 0.05, 0.1, 0.55]\n",
      "train: 99.23154026060809\n",
      "val:  96.7948717948718\n",
      "[0, 0, 0.30000000000000004, 0.05, 0.15000000000000002, 0.5]\n",
      "train: 99.23154026060809\n",
      "val:  96.76573426573427\n",
      "[0, 0, 0.30000000000000004, 0.05, 0.2, 0.45]\n",
      "train: 99.23154026060809\n",
      "val:  96.62004662004662\n",
      "[0, 0, 0.30000000000000004, 0.1, 0.0, 0.6000000000000001]\n",
      "train: 99.23154026060809\n",
      "val:  96.73659673659674\n",
      "[0, 0, 0.30000000000000004, 0.1, 0.05, 0.55]\n",
      "train: 99.23154026060809\n",
      "val:  96.76573426573427\n",
      "[0, 0, 0.30000000000000004, 0.1, 0.1, 0.5]\n",
      "train: 99.23154026060809\n",
      "val:  96.82400932400932\n",
      "[0, 0, 0.30000000000000004, 0.1, 0.15000000000000002, 0.45]\n",
      "train: 99.23154026060809\n",
      "val:  96.70745920745921\n",
      "[0, 0, 0.30000000000000004, 0.15000000000000002, 0.0, 0.55]\n",
      "train: 99.23154026060809\n",
      "val:  96.70745920745921\n",
      "[0, 0, 0.30000000000000004, 0.15000000000000002, 0.05, 0.5]\n",
      "train: 99.23154026060809\n",
      "val:  96.64918414918415\n",
      "[0, 0, 0.30000000000000004, 0.15000000000000002, 0.1, 0.45]\n",
      "train: 99.23154026060809\n",
      "val:  96.67832167832168\n",
      "[0, 0, 0.30000000000000004, 0.2, 0.0, 0.5]\n",
      "train: 99.23154026060809\n",
      "val:  96.64918414918415\n",
      "[0, 0, 0.30000000000000004, 0.2, 0.05, 0.45]\n",
      "train: 99.23154026060809\n",
      "val:  96.67832167832168\n",
      "[0, 0, 0.35000000000000003, 0.0, 0.0, 0.65]\n",
      "train: 99.23154026060809\n",
      "val:  96.62004662004662\n",
      "[0, 0, 0.35000000000000003, 0.0, 0.05, 0.6000000000000001]\n",
      "train: 99.23154026060809\n",
      "val:  96.76573426573427\n",
      "[0, 0, 0.35000000000000003, 0.0, 0.1, 0.55]\n",
      "train: 99.23154026060809\n",
      "val:  96.73659673659674\n",
      "[0, 0, 0.35000000000000003, 0.0, 0.15000000000000002, 0.5]\n",
      "train: 99.23154026060809\n",
      "val:  96.5909090909091\n",
      "[0, 0, 0.35000000000000003, 0.05, 0.0, 0.6000000000000001]\n",
      "train: 99.23154026060809\n",
      "val:  96.73659673659674\n",
      "[0, 0, 0.35000000000000003, 0.05, 0.05, 0.55]\n",
      "train: 99.23154026060809\n",
      "val:  96.7948717948718\n",
      "[0, 0, 0.35000000000000003, 0.05, 0.1, 0.5]\n",
      "train: 99.23154026060809\n",
      "val:  96.82400932400932\n",
      "[0, 0, 0.35000000000000003, 0.05, 0.15000000000000002, 0.45]\n",
      "train: 99.23154026060809\n",
      "val:  96.64918414918415\n",
      "[0, 0, 0.35000000000000003, 0.1, 0.0, 0.55]\n",
      "train: 99.23154026060809\n",
      "val:  96.70745920745921\n",
      "[0, 0, 0.35000000000000003, 0.1, 0.05, 0.5]\n",
      "train: 99.23154026060809\n",
      "val:  96.76573426573427\n",
      "[0, 0, 0.35000000000000003, 0.1, 0.1, 0.45]\n",
      "train: 99.23154026060809\n",
      "val:  96.67832167832168\n",
      "[0, 0, 0.35000000000000003, 0.1, 0.15000000000000002, 0.4]\n",
      "train: 99.23154026060809\n",
      "val:  96.73659673659674\n",
      "[0, 0, 0.35000000000000003, 0.15000000000000002, 0.0, 0.5]\n",
      "train: 99.23154026060809\n",
      "val:  96.64918414918415\n",
      "[0, 0, 0.35000000000000003, 0.15000000000000002, 0.05, 0.45]\n",
      "train: 99.23154026060809\n",
      "val:  96.64918414918415\n",
      "[0, 0, 0.4, 0.0, 0.0, 0.6000000000000001]\n",
      "train: 99.23154026060809\n",
      "val:  96.7948717948718\n",
      "[0, 0, 0.4, 0.0, 0.05, 0.55]\n",
      "train: 99.23154026060809\n",
      "val:  96.70745920745921\n",
      "[0, 0, 0.4, 0.0, 0.1, 0.5]\n",
      "train: 99.23154026060809\n",
      "val:  96.73659673659674\n",
      "[0, 0, 0.4, 0.05, 0.0, 0.55]\n",
      "train: 99.23154026060809\n",
      "val:  96.76573426573427\n",
      "[0, 0, 0.4, 0.05, 0.05, 0.5]\n",
      "train: 99.23154026060809\n",
      "val:  96.67832167832168\n",
      "[0, 0, 0.4, 0.05, 0.1, 0.45]\n",
      "train: 99.23154026060809\n",
      "val:  96.73659673659674\n",
      "[0, 0, 0.4, 0.1, 0.0, 0.5]\n",
      "train: 99.23154026060809\n",
      "val:  96.73659673659674\n",
      "[0, 0, 0.4, 0.1, 0.05, 0.45]\n",
      "train: 99.23154026060809\n",
      "val:  96.70745920745921\n",
      "[0, 0, 0.45, 0.0, 0.0, 0.55]\n",
      "train: 99.23154026060809\n",
      "val:  96.70745920745921\n",
      "[0, 0, 0.45, 0.0, 0.05, 0.5]\n",
      "train: 99.23154026060809\n",
      "val:  96.64918414918415\n",
      "[0, 0, 0.45, 0.0, 0.1, 0.45]\n",
      "train: 99.23154026060809\n",
      "val:  96.70745920745921\n",
      "[0, 0, 0.45, 0.05, 0.0, 0.5]\n",
      "train: 99.23154026060809\n",
      "val:  96.67832167832168\n",
      "[0, 0, 0.45, 0.05, 0.05, 0.45]\n",
      "train: 99.23154026060809\n",
      "val:  96.64918414918415\n",
      "[0, 0, 0.5, 0.0, 0.0, 0.5]\n"
     ]
    }
   ],
   "source": [
    "weights = np.arange(0,1.05,0.05)\n",
    "Accuracy_score = 0\n",
    "W = []\n",
    "[w1,w2,w3,w4,w5, w6] = [0,0,0,0,0,0]\n",
    "\n",
    "# for w1 in tqdm(weights):\n",
    "#     for w2 in (weights):\n",
    "for w3 in tqdm(weights):\n",
    "    for w4 in (weights):\n",
    "        for w5 in weights:\n",
    "            for w6 in weights:\n",
    "                if w1+w2+w3+w4+w5+w6 == 1:\n",
    "                    acc_train = find_ensemble_model_weights(train, [w1,w2,w3,w4,w5,w6], train_data.labels)\n",
    "                    acc_val = find_ensemble_model_weights(valid, [w1,w2,w3,w4,w5,w6], valid_data.labels)\n",
    "                    if acc_train >= Accuracy_score:\n",
    "                        Accuracy_score = acc\n",
    "                        print(\"train:\", Accuracy_score)\n",
    "                        print(\"val: \", acc_val)\n",
    "                        W = [w1,w2,w3,w4,w5,w6]\n",
    "                        print(W)\n",
    "\n",
    "            "
   ]
  },
  {
   "cell_type": "code",
   "execution_count": null,
   "id": "eb26b851",
   "metadata": {
    "ExecuteTime": {
     "end_time": "2021-10-11T08:40:45.138693Z",
     "start_time": "2021-10-11T08:40:45.134475Z"
    }
   },
   "outputs": [],
   "source": []
  },
  {
   "cell_type": "code",
   "execution_count": 64,
   "id": "1a269901",
   "metadata": {
    "ExecuteTime": {
     "end_time": "2021-10-11T08:40:48.402887Z",
     "start_time": "2021-10-11T08:40:48.154264Z"
    }
   },
   "outputs": [
    {
     "name": "stdout",
     "output_type": "stream",
     "text": [
      "(array([0, 1, 2]), array([1434, 1011,  987]))\n",
      "Accuracy Score: 96.64918414918415\n"
     ]
    },
    {
     "data": {
      "image/png": "[encoded data removed]",
      "text/plain": [
       "<Figure size 432x288 with 2 Axes>"
      ]
     },
     "metadata": {
      "needs_background": "light"
     },
     "output_type": "display_data"
    },
    {
     "name": "stdout",
     "output_type": "stream",
     "text": [
      "(array([0, 1, 2]), array([402, 424, 374]))\n"
     ]
    }
   ],
   "source": [
    "ensemble_model(valid, W, valid_data.labels) #\n",
    "ensemble_model(test, W, None, en_type=None) "
   ]
  },
  {
   "cell_type": "code",
   "execution_count": 49,
   "id": "54b5374d",
   "metadata": {
    "ExecuteTime": {
     "end_time": "2021-10-11T08:14:02.702957Z",
     "start_time": "2021-10-11T08:14:02.699316Z"
    }
   },
   "outputs": [
    {
     "data": {
      "text/plain": [
       "42"
      ]
     },
     "execution_count": 49,
     "metadata": {},
     "output_type": "execute_result"
    }
   ],
   "source": [
    "1+20+21"
   ]
  },
  {
   "cell_type": "code",
   "execution_count": 46,
   "id": "01b80033",
   "metadata": {
    "ExecuteTime": {
     "end_time": "2021-10-11T08:08:57.226121Z",
     "start_time": "2021-10-11T08:08:57.039472Z"
    }
   },
   "outputs": [
    {
     "name": "stdout",
     "output_type": "stream",
     "text": [
      "(array([0, 1, 2]), array([1427, 1032,  973]))\n",
      "Accuracy Score: 96.91142191142191\n"
     ]
    },
    {
     "data": {
      "image/png": "[encoded data removed]",
      "text/plain": [
       "<Figure size 432x288 with 2 Axes>"
      ]
     },
     "metadata": {
      "needs_background": "light"
     },
     "output_type": "display_data"
    },
    {
     "name": "stdout",
     "output_type": "stream",
     "text": [
      "(array([0, 1, 2]), array([401, 427, 372]))\n"
     ]
    }
   ],
   "source": [
    "W = [0, 0, 0.15000000000000002, 0.0, 0.0, 0.5]\n",
    "ensemble_model(A, W, valid_data.labels) #\n",
    "ensemble_model(B, W, None, en_type=None)"
   ]
  },
  {
   "cell_type": "markdown",
   "id": "b6d7c91f",
   "metadata": {},
   "source": [
    "### SVM based classifier"
   ]
  },
  {
   "cell_type": "code",
   "execution_count": 14,
   "id": "f6c049ec",
   "metadata": {
    "ExecuteTime": {
     "end_time": "2021-10-13T14:04:06.798388Z",
     "start_time": "2021-10-13T14:04:06.795379Z"
    }
   },
   "outputs": [],
   "source": [
    "import pandas as pd"
   ]
  },
  {
   "cell_type": "code",
   "execution_count": 15,
   "id": "57603a92",
   "metadata": {
    "ExecuteTime": {
     "end_time": "2021-10-13T14:04:07.386013Z",
     "start_time": "2021-10-13T14:04:07.290005Z"
    }
   },
   "outputs": [],
   "source": [
    "from sklearn.metrics import confusion_matrix\n",
    "from sklearn.model_selection import train_test_split\n",
    "from sklearn import svm, ensemble\n",
    "import matplotlib.pyplot as plt\n",
    "import numpy as np"
   ]
  },
  {
   "cell_type": "code",
   "execution_count": 16,
   "id": "5f464966",
   "metadata": {
    "ExecuteTime": {
     "end_time": "2021-10-13T14:04:07.697175Z",
     "start_time": "2021-10-13T14:04:07.695026Z"
    }
   },
   "outputs": [],
   "source": [
    "from sklearn import metrics"
   ]
  },
  {
   "cell_type": "code",
   "execution_count": 17,
   "id": "826595f6",
   "metadata": {
    "ExecuteTime": {
     "end_time": "2021-10-13T14:04:08.012280Z",
     "start_time": "2021-10-13T14:04:08.010113Z"
    }
   },
   "outputs": [],
   "source": [
    "from sklearn.preprocessing import StandardScaler"
   ]
  },
  {
   "cell_type": "code",
   "execution_count": 18,
   "id": "036c99ef",
   "metadata": {
    "ExecuteTime": {
     "end_time": "2021-10-13T14:04:08.387395Z",
     "start_time": "2021-10-13T14:04:08.385167Z"
    }
   },
   "outputs": [],
   "source": [
    "from sklearn.utils import shuffle"
   ]
  },
  {
   "cell_type": "code",
   "execution_count": 20,
   "id": "d1a82456",
   "metadata": {
    "ExecuteTime": {
     "end_time": "2021-10-13T14:06:12.400703Z",
     "start_time": "2021-10-13T14:06:12.391112Z"
    }
   },
   "outputs": [],
   "source": [
    "# ensemble_train = pd.concat([pd.DataFrame(C[0]),pd.DataFrame(C[1]),pd.DataFrame(C[2]),pd.DataFrame(C[3]),pd.DataFrame(C[4]),pd.DataFrame(train_data.labels)], axis=1, ignore_index=True)\n",
    "\n",
    "ensemble_train = pd.concat([pd.DataFrame(train[2]),pd.DataFrame(train[3]),pd.DataFrame(train[4]),pd.DataFrame(train[5]),pd.DataFrame(train_data.labels)], axis=1, ignore_index=True)"
   ]
  },
  {
   "cell_type": "code",
   "execution_count": 21,
   "id": "9d51e233",
   "metadata": {
    "ExecuteTime": {
     "end_time": "2021-10-13T14:06:13.686882Z",
     "start_time": "2021-10-13T14:06:13.680959Z"
    }
   },
   "outputs": [],
   "source": [
    "ensemble_train = shuffle(ensemble_train, random_state= 49)"
   ]
  },
  {
   "cell_type": "code",
   "execution_count": 22,
   "id": "2dffe58a",
   "metadata": {
    "ExecuteTime": {
     "end_time": "2021-10-13T14:06:14.987860Z",
     "start_time": "2021-10-13T14:06:14.970950Z"
    }
   },
   "outputs": [
    {
     "data": {
      "text/html": [
       "<div>\n",
       "<style scoped>\n",
       "    .dataframe tbody tr th:only-of-type {\n",
       "        vertical-align: middle;\n",
       "    }\n",
       "\n",
       "    .dataframe tbody tr th {\n",
       "        vertical-align: top;\n",
       "    }\n",
       "\n",
       "    .dataframe thead th {\n",
       "        text-align: right;\n",
       "    }\n",
       "</style>\n",
       "<table border=\"1\" class=\"dataframe\">\n",
       "  <thead>\n",
       "    <tr style=\"text-align: right;\">\n",
       "      <th></th>\n",
       "      <th>0</th>\n",
       "      <th>1</th>\n",
       "      <th>2</th>\n",
       "      <th>3</th>\n",
       "      <th>4</th>\n",
       "      <th>5</th>\n",
       "      <th>6</th>\n",
       "      <th>7</th>\n",
       "      <th>8</th>\n",
       "      <th>9</th>\n",
       "      <th>10</th>\n",
       "      <th>11</th>\n",
       "      <th>12</th>\n",
       "    </tr>\n",
       "  </thead>\n",
       "  <tbody>\n",
       "    <tr>\n",
       "      <th>2456</th>\n",
       "      <td>1.000000</td>\n",
       "      <td>9.543369e-10</td>\n",
       "      <td>2.829389e-10</td>\n",
       "      <td>9.999983e-01</td>\n",
       "      <td>1.119079e-06</td>\n",
       "      <td>5.939984e-07</td>\n",
       "      <td>0.999949</td>\n",
       "      <td>2.436494e-05</td>\n",
       "      <td>2.648556e-05</td>\n",
       "      <td>1.000000</td>\n",
       "      <td>5.574708e-09</td>\n",
       "      <td>4.300465e-11</td>\n",
       "      <td>0</td>\n",
       "    </tr>\n",
       "    <tr>\n",
       "      <th>14305</th>\n",
       "      <td>0.014844</td>\n",
       "      <td>4.327028e-03</td>\n",
       "      <td>9.808286e-01</td>\n",
       "      <td>6.338168e-07</td>\n",
       "      <td>2.082625e-05</td>\n",
       "      <td>9.999785e-01</td>\n",
       "      <td>0.000206</td>\n",
       "      <td>2.864461e-03</td>\n",
       "      <td>9.969293e-01</td>\n",
       "      <td>0.000010</td>\n",
       "      <td>1.150285e-04</td>\n",
       "      <td>9.998747e-01</td>\n",
       "      <td>2</td>\n",
       "    </tr>\n",
       "    <tr>\n",
       "      <th>7737</th>\n",
       "      <td>0.000064</td>\n",
       "      <td>9.990911e-01</td>\n",
       "      <td>8.452102e-04</td>\n",
       "      <td>7.155446e-06</td>\n",
       "      <td>9.978265e-01</td>\n",
       "      <td>2.166283e-03</td>\n",
       "      <td>0.000160</td>\n",
       "      <td>9.970812e-01</td>\n",
       "      <td>2.758316e-03</td>\n",
       "      <td>0.006914</td>\n",
       "      <td>9.928833e-01</td>\n",
       "      <td>2.029546e-04</td>\n",
       "      <td>1</td>\n",
       "    </tr>\n",
       "    <tr>\n",
       "      <th>3721</th>\n",
       "      <td>1.000000</td>\n",
       "      <td>2.094083e-09</td>\n",
       "      <td>1.394429e-07</td>\n",
       "      <td>9.999996e-01</td>\n",
       "      <td>2.017405e-08</td>\n",
       "      <td>3.194834e-07</td>\n",
       "      <td>1.000000</td>\n",
       "      <td>1.922444e-14</td>\n",
       "      <td>7.262505e-12</td>\n",
       "      <td>1.000000</td>\n",
       "      <td>4.245791e-27</td>\n",
       "      <td>6.503412e-28</td>\n",
       "      <td>0</td>\n",
       "    </tr>\n",
       "    <tr>\n",
       "      <th>15151</th>\n",
       "      <td>0.000887</td>\n",
       "      <td>2.989691e-01</td>\n",
       "      <td>7.001442e-01</td>\n",
       "      <td>3.581026e-02</td>\n",
       "      <td>3.280129e-01</td>\n",
       "      <td>6.361769e-01</td>\n",
       "      <td>0.010597</td>\n",
       "      <td>6.733640e-01</td>\n",
       "      <td>3.160390e-01</td>\n",
       "      <td>0.000342</td>\n",
       "      <td>6.503152e-01</td>\n",
       "      <td>3.493431e-01</td>\n",
       "      <td>2</td>\n",
       "    </tr>\n",
       "  </tbody>\n",
       "</table>\n",
       "</div>"
      ],
      "text/plain": [
       "             0             1             2             3             4   \\\n",
       "2456   1.000000  9.543369e-10  2.829389e-10  9.999983e-01  1.119079e-06   \n",
       "14305  0.014844  4.327028e-03  9.808286e-01  6.338168e-07  2.082625e-05   \n",
       "7737   0.000064  9.990911e-01  8.452102e-04  7.155446e-06  9.978265e-01   \n",
       "3721   1.000000  2.094083e-09  1.394429e-07  9.999996e-01  2.017405e-08   \n",
       "15151  0.000887  2.989691e-01  7.001442e-01  3.581026e-02  3.280129e-01   \n",
       "\n",
       "                 5         6             7             8         9   \\\n",
       "2456   5.939984e-07  0.999949  2.436494e-05  2.648556e-05  1.000000   \n",
       "14305  9.999785e-01  0.000206  2.864461e-03  9.969293e-01  0.000010   \n",
       "7737   2.166283e-03  0.000160  9.970812e-01  2.758316e-03  0.006914   \n",
       "3721   3.194834e-07  1.000000  1.922444e-14  7.262505e-12  1.000000   \n",
       "15151  6.361769e-01  0.010597  6.733640e-01  3.160390e-01  0.000342   \n",
       "\n",
       "                 10            11  12  \n",
       "2456   5.574708e-09  4.300465e-11   0  \n",
       "14305  1.150285e-04  9.998747e-01   2  \n",
       "7737   9.928833e-01  2.029546e-04   1  \n",
       "3721   4.245791e-27  6.503412e-28   0  \n",
       "15151  6.503152e-01  3.493431e-01   2  "
      ]
     },
     "execution_count": 22,
     "metadata": {},
     "output_type": "execute_result"
    }
   ],
   "source": [
    "ensemble_train.head(5)"
   ]
  },
  {
   "cell_type": "code",
   "execution_count": 23,
   "id": "ebe139c0",
   "metadata": {
    "ExecuteTime": {
     "end_time": "2021-10-13T14:07:32.605297Z",
     "start_time": "2021-10-13T14:07:32.581756Z"
    }
   },
   "outputs": [],
   "source": [
    "scaler = StandardScaler()\n",
    "\n",
    "#train\n",
    "scaler.fit(ensemble_train.iloc[:,:-1])\n",
    "X_train = pd.DataFrame(scaler.fit_transform(ensemble_train.iloc[:,:-1]))\n",
    "y_train = ensemble_train.iloc[:,-1]\n",
    "\n",
    "#valid\n",
    "ensemble_valid = pd.concat([pd.DataFrame(valid[2]),pd.DataFrame(valid[3]),pd.DataFrame(valid[4]),pd.DataFrame(valid[5]),pd.DataFrame(valid_data.labels)], axis=1, ignore_index=True)\n",
    "X_valid = pd.DataFrame(scaler.transform(ensemble_valid.iloc[:,:-1]))\n",
    "y_valid = ensemble_valid.iloc[:,-1]\n",
    "\n",
    "#test\n",
    "ensemble_test = pd.concat([pd.DataFrame(test[2]),pd.DataFrame(test[3]),pd.DataFrame(test[4]),pd.DataFrame(test[5])], axis=1, ignore_index=True)\n",
    "X_real_test = pd.DataFrame(scaler.transform(ensemble_test))\n"
   ]
  },
  {
   "cell_type": "code",
   "execution_count": 24,
   "id": "aa2ed1eb",
   "metadata": {
    "ExecuteTime": {
     "end_time": "2021-10-13T14:07:35.332586Z",
     "start_time": "2021-10-13T14:07:34.841687Z"
    }
   },
   "outputs": [
    {
     "name": "stdout",
     "output_type": "stream",
     "text": [
      "0.9937632253034859\n",
      "0.9662004662004662\n"
     ]
    }
   ],
   "source": [
    "model = svm.SVC()\n",
    "model.fit(X_train,y_train)\n",
    "print(metrics.accuracy_score(y_train, model.predict(X_train)))\n",
    "print(metrics.accuracy_score(y_valid, model.predict(X_valid)))\n"
   ]
  },
  {
   "cell_type": "code",
   "execution_count": null,
   "id": "4df24a67",
   "metadata": {},
   "outputs": [],
   "source": []
  },
  {
   "cell_type": "code",
   "execution_count": 25,
   "id": "cc42f6b1",
   "metadata": {
    "ExecuteTime": {
     "end_time": "2021-10-13T14:07:43.287943Z",
     "start_time": "2021-10-13T14:07:41.451682Z"
    }
   },
   "outputs": [
    {
     "name": "stdout",
     "output_type": "stream",
     "text": [
      "Linear\n",
      "0.9934291123733155\n",
      "0.9673659673659674\n",
      "(array([0, 1, 2]), array([403, 427, 370]))\n",
      "RBF\n",
      "0.9942087092103797\n",
      "0.9662004662004662\n",
      "(array([0, 1, 2]), array([403, 428, 369]))\n",
      "Poly\n",
      "0.9932063704198686\n",
      "0.9670745920745921\n",
      "(array([0, 1, 2]), array([402, 430, 368]))\n",
      "SIGmoid\n",
      "0.9920369751642721\n",
      "0.9664918414918415\n",
      "(array([0, 1, 2]), array([402, 414, 384]))\n"
     ]
    }
   ],
   "source": [
    "model = svm.SVC(kernel='linear', C=1, decision_function_shape='ovo').fit(X_train, y_train)\n",
    "print('Linear')\n",
    "print(metrics.accuracy_score(y_train, model.predict(X_train)))\n",
    "print(metrics.accuracy_score(y_valid, model.predict(X_valid)))\n",
    "print(np.unique(model.predict(X_real_test), return_counts=True))\n",
    "model = svm.SVC(kernel='rbf', gamma='scale', C=10, decision_function_shape='ovo').fit(X_train, y_train)\n",
    "print('RBF')\n",
    "print(metrics.accuracy_score(y_train, model.predict(X_train)))\n",
    "print(metrics.accuracy_score(y_valid, model.predict(X_valid)))\n",
    "print(np.unique(model.predict(X_real_test), return_counts=True))\n",
    "\n",
    "model = svm.SVC(kernel='poly', degree=3, C=1, decision_function_shape='ovo').fit(X_train, y_train)\n",
    "print('Poly')\n",
    "print(metrics.accuracy_score(y_train, model.predict(X_train)))\n",
    "print(metrics.accuracy_score(y_valid, model.predict(X_valid)))\n",
    "print(np.unique(model.predict(X_real_test), return_counts=True))\n",
    "\n",
    "model = svm.SVC(kernel='sigmoid', C=1, decision_function_shape='ovo').fit(X_train, y_train)\n",
    "print('SIGmoid')\n",
    "print(metrics.accuracy_score(y_train, model.predict(X_train)))\n",
    "print(metrics.accuracy_score(y_valid, model.predict(X_valid)))\n",
    "print(np.unique(model.predict(X_real_test), return_counts=True))\n",
    "\n"
   ]
  },
  {
   "cell_type": "code",
   "execution_count": 26,
   "id": "6151d40e",
   "metadata": {
    "ExecuteTime": {
     "end_time": "2021-10-13T14:08:04.022183Z",
     "start_time": "2021-10-13T14:08:04.001908Z"
    }
   },
   "outputs": [],
   "source": [
    "y_pred_ensemble = model.predict(X_real_test)"
   ]
  },
  {
   "cell_type": "code",
   "execution_count": 27,
   "id": "b41de0e5",
   "metadata": {
    "ExecuteTime": {
     "end_time": "2021-10-13T14:08:45.736949Z",
     "start_time": "2021-10-13T14:08:45.732220Z"
    }
   },
   "outputs": [],
   "source": [
    "test_csv = pd.read_csv(\"/media/brats/DRIVE1/akansh/DeepXrays/Data/raw/submission.csv\")\n",
    "test_csv[' class'] = y_pred_ensemble"
   ]
  },
  {
   "cell_type": "code",
   "execution_count": 28,
   "id": "1652a9d1",
   "metadata": {
    "ExecuteTime": {
     "end_time": "2021-10-13T14:08:46.416373Z",
     "start_time": "2021-10-13T14:08:46.402068Z"
    }
   },
   "outputs": [],
   "source": [
    "test_csv.to_csv('SVM_sigmoind_three.csv', index = False)"
   ]
  },
  {
   "cell_type": "code",
   "execution_count": null,
   "id": "9a910ae2",
   "metadata": {
    "ExecuteTime": {
     "end_time": "2021-10-08T21:13:42.111856Z",
     "start_time": "2021-10-08T21:13:42.108567Z"
    }
   },
   "outputs": [],
   "source": []
  },
  {
   "cell_type": "code",
   "execution_count": null,
   "id": "aa5aa89b",
   "metadata": {},
   "outputs": [],
   "source": []
  }
 ],
 "metadata": {
  "kernelspec": {
   "display_name": "Python 3",
   "language": "python",
   "name": "python3"
  },
  "language_info": {
   "codemirror_mode": {
    "name": "ipython",
    "version": 3
   },
   "file_extension": ".py",
   "mimetype": "text/x-python",
   "name": "python",
   "nbconvert_exporter": "python",
   "pygments_lexer": "ipython3",
   "version": "3.8.8"
  },
  "toc": {
   "base_numbering": 1,
   "nav_menu": {},
   "number_sections": true,
   "sideBar": true,
   "skip_h1_title": false,
   "title_cell": "Table of Contents",
   "title_sidebar": "Contents",
   "toc_cell": false,
   "toc_position": {},
   "toc_section_display": true,
   "toc_window_display": false
  },
  "varInspector": {
   "cols": {
    "lenName": 16,
    "lenType": 16,
    "lenVar": 40
   },
   "kernels_config": {
    "python": {
     "delete_cmd_postfix": "",
     "delete_cmd_prefix": "del ",
     "library": "var_list.py",
     "varRefreshCmd": "print(var_dic_list())"
    },
    "r": {
     "delete_cmd_postfix": ") ",
     "delete_cmd_prefix": "rm(",
     "library": "var_list.r",
     "varRefreshCmd": "cat(var_dic_list()) "
    }
   },
   "types_to_exclude": [
    "module",
    "function",
    "builtin_function_or_method",
    "instance",
    "_Feature"
   ],
   "window_display": false
  }
 },
 "nbformat": 4,
 "nbformat_minor": 5
}
