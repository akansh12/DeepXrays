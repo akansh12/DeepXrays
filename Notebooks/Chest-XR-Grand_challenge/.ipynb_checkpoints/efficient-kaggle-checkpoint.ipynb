{
 "cells": [
  {
   "cell_type": "code",
   "execution_count": 1,
   "metadata": {
    "ExecuteTime": {
     "end_time": "2021-10-04T23:38:00.639682Z",
     "start_time": "2021-10-04T23:37:59.803620Z"
    },
    "execution": {
     "iopub.execute_input": "2021-10-04T19:54:54.619622Z",
     "iopub.status.busy": "2021-10-04T19:54:54.619386Z",
     "iopub.status.idle": "2021-10-04T19:54:59.010322Z",
     "shell.execute_reply": "2021-10-04T19:54:59.009418Z",
     "shell.execute_reply.started": "2021-10-04T19:54:54.619554Z"
    },
    "id": "Z0t_d9PQmnCR"
   },
   "outputs": [],
   "source": [
    "import torch\n",
    "import numpy as np\n",
    "import matplotlib.pyplot as plt\n",
    "import os\n",
    "from tqdm.notebook import tqdm"
   ]
  },
  {
   "cell_type": "markdown",
   "metadata": {
    "id": "-TyDkC1cWVvx"
   },
   "source": [
    "[Data Scorce](https://www.kaggle.com/paultimothymooney/chest-xray-pneumonia)"
   ]
  },
  {
   "cell_type": "code",
   "execution_count": 2,
   "metadata": {
    "ExecuteTime": {
     "end_time": "2021-10-04T23:38:07.880156Z",
     "start_time": "2021-10-04T23:38:07.868536Z"
    },
    "execution": {
     "iopub.execute_input": "2021-10-04T19:54:59.013179Z",
     "iopub.status.busy": "2021-10-04T19:54:59.012789Z",
     "iopub.status.idle": "2021-10-04T19:54:59.028783Z",
     "shell.execute_reply": "2021-10-04T19:54:59.027998Z",
     "shell.execute_reply.started": "2021-10-04T19:54:59.013139Z"
    },
    "id": "nj5GMy2v6I1L"
   },
   "outputs": [],
   "source": [
    "import matplotlib.pyplot as plt \n",
    "import torch.nn.functional as F \n",
    "import torch \n",
    "import numpy as np \n",
    "\n",
    "def show_image(image,label,get_denormalize = True):\n",
    "    \n",
    "    image = image.permute(1,2,0)\n",
    "    mean = torch.FloatTensor([0.485, 0.456, 0.406])\n",
    "    std = torch.FloatTensor([0.229, 0.224, 0.225])\n",
    "    \n",
    "    if get_denormalize == True:\n",
    "        image = image*std + mean\n",
    "        image = np.clip(image,0,1)\n",
    "        plt.imshow(image)\n",
    "        plt.title(label)\n",
    "        \n",
    "    else: \n",
    "        plt.imshow(image)\n",
    "        plt.title(label)\n",
    "\n",
    "def show_grid(image,title = None):\n",
    "    \n",
    "    image = image.permute(1,2,0)\n",
    "    mean = torch.FloatTensor([0.485, 0.456, 0.406])\n",
    "    std = torch.FloatTensor([0.229, 0.224, 0.225])\n",
    "    \n",
    "    image = image*std + mean\n",
    "    image = np.clip(image,0,1)\n",
    "    \n",
    "    plt.figure(figsize=[15, 15])\n",
    "    plt.imshow(image)\n",
    "    if title != None:\n",
    "        plt.title(title)\n",
    "\n",
    "\n",
    "def accuracy(y_pred,y_true):\n",
    "    y_pred = F.softmax(y_pred,dim = 1)\n",
    "    top_p,top_class = y_pred.topk(1,dim = 1)\n",
    "    equals = top_class == y_true.view(*top_class.shape)\n",
    "    return torch.mean(equals.type(torch.FloatTensor))\n",
    "\n",
    "\n",
    "def view_classify(image,ps,label):\n",
    "    \n",
    "    class_name = ['NORMAL', 'PNEUMONIA']\n",
    "    classes = np.array(class_name)\n",
    "\n",
    "    ps = ps.cpu().data.numpy().squeeze()\n",
    "    \n",
    "    image = image.permute(1,2,0)\n",
    "    mean = torch.FloatTensor([0.485, 0.456, 0.406])\n",
    "    std = torch.FloatTensor([0.229, 0.224, 0.225])\n",
    "    \n",
    "    \n",
    "    image = image*std + mean\n",
    "    img = np.clip(image,0,1)\n",
    "    \n",
    "    fig, (ax1, ax2) = plt.subplots(figsize=(8,12), ncols=2)\n",
    "    ax1.imshow(img)\n",
    "    ax1.set_title('Ground Truth : {}'.format(class_name[label]))\n",
    "    ax1.axis('off')\n",
    "    ax2.barh(classes, ps)\n",
    "    ax2.set_aspect(0.1)\n",
    "    ax2.set_yticks(classes)\n",
    "    ax2.set_yticklabels(classes)\n",
    "    ax2.set_title('Predicted Class')\n",
    "    ax2.set_xlim(0, 1.1)\n",
    "\n",
    "    plt.tight_layout()\n",
    "\n",
    "    return None"
   ]
  },
  {
   "cell_type": "code",
   "execution_count": 24,
   "metadata": {
    "execution": {
     "iopub.execute_input": "2021-10-04T19:57:37.935579Z",
     "iopub.status.busy": "2021-10-04T19:57:37.934844Z",
     "iopub.status.idle": "2021-10-04T19:57:37.941536Z",
     "shell.execute_reply": "2021-10-04T19:57:37.940850Z",
     "shell.execute_reply.started": "2021-10-04T19:57:37.935543Z"
    },
    "id": "7dEg609uq6rl",
    "outputId": "35fdde53-2ffb-48fd-d52f-22d59bbab80e"
   },
   "outputs": [],
   "source": [
    "class CFG:\n",
    "    epochs =20                              # No. of epochs for training the model\n",
    "    lr = 0.001                              # Learning rate\n",
    "    batch_size = 16                         # Batch Size for Dataset\n",
    "\n",
    "    model_name = 'tf_efficientnet_b4_ns'    # Model name (we are going to import model from timm)\n",
    "    img_size = 224                          # Resize all the images to be 224 by 224\n",
    "\n",
    "  # going to be used for loading dataset\n",
    "    train_path='../input/chestxrgrand/train/'\n",
    "    validate_path='../input/chestxrgrand/validation/'\n",
    "    test_path='/content/drive/MyDrive/chest_xray/test'\n",
    "\n",
    "device = torch.device(\"cuda\" if torch.cuda.is_available() else \"cpu\")\n",
    "print(\"On which device we are on:{}\".format(device))"
   ]
  },
  {
   "cell_type": "code",
   "execution_count": 4,
   "metadata": {
    "execution": {
     "iopub.execute_input": "2021-10-04T19:54:59.082242Z",
     "iopub.status.busy": "2021-10-04T19:54:59.081409Z",
     "iopub.status.idle": "2021-10-04T19:54:59.215771Z",
     "shell.execute_reply": "2021-10-04T19:54:59.214979Z",
     "shell.execute_reply.started": "2021-10-04T19:54:59.082203Z"
    },
    "id": "y4iM6KNd5GZL"
   },
   "outputs": [],
   "source": [
    "from torchvision import transforms as T,datasets"
   ]
  },
  {
   "cell_type": "code",
   "execution_count": 58,
   "metadata": {
    "execution": {
     "iopub.execute_input": "2021-10-04T23:22:35.253840Z",
     "iopub.status.busy": "2021-10-04T23:22:35.253527Z",
     "iopub.status.idle": "2021-10-04T23:22:35.267861Z",
     "shell.execute_reply": "2021-10-04T23:22:35.267262Z",
     "shell.execute_reply.started": "2021-10-04T23:22:35.253806Z"
    },
    "id": "uPKrJsI66gEA"
   },
   "outputs": [],
   "source": [
    "train_transform = T.Compose([\n",
    "                             \n",
    "                             T.Resize(size=(CFG.img_size,CFG.img_size)), # Resizing the image to be 224 by 224\n",
    "                             T.RandomRotation(degrees=(-20,+20)),T.RandomHorizontalFlip(), #Randomly Rotate Images by +/- 20 degrees, Image argumentation for each epoch\n",
    "                             T.ToTensor(), #converting the dimension from (height,weight,channel) to (channel,height,weight) convention of PyTorch\n",
    "                             T.Normalize([0.485,0.456,0.406],[0.229,0.224,0.225]) # Normalize by 3 means 3 StD's of the image net, 3 channels\n",
    "\n",
    "])\n",
    "\n",
    "validate_transform = T.Compose([\n",
    "                             \n",
    "                             T.Resize(size=(CFG.img_size,CFG.img_size)), # Resizing the image to be 224 by 224\n",
    "                             #T.RandomRotation(degrees=(-20,+20)), #NO need for validation\n",
    "                             T.ToTensor(), #converting the dimension from (height,weight,channel) to (channel,height,weight) convention of PyTorch\n",
    "                             T.Normalize([0.485,0.456,0.406],[0.229,0.224,0.225]) # Normalize by 3 means 3 StD's of the image net, 3 channels\n",
    "\n",
    "])\n",
    "\n",
    "test_transform = T.Compose([\n",
    "                             \n",
    "                             T.Resize(size=(CFG.img_size,CFG.img_size)), # Resizing the image to be 224 by 224\n",
    "                             #T.RandomRotation(degrees=(-20,+20)), #NO need for validation\n",
    "                             T.ToTensor(), #converting the dimension from (height,weight,channel) to (channel,height,weight) convention of PyTorch\n",
    "                             T.Normalize([0.485,0.456,0.406],[0.229,0.224,0.225]) # Normalize by 3 means 3 StD's of the image net, 3 channels\n",
    "\n",
    "])"
   ]
  },
  {
   "cell_type": "code",
   "execution_count": 59,
   "metadata": {
    "execution": {
     "iopub.execute_input": "2021-10-04T23:22:42.729041Z",
     "iopub.status.busy": "2021-10-04T23:22:42.728185Z",
     "iopub.status.idle": "2021-10-04T23:22:42.733003Z",
     "shell.execute_reply": "2021-10-04T23:22:42.732265Z",
     "shell.execute_reply.started": "2021-10-04T23:22:42.728993Z"
    },
    "id": "fr3P5YUm9ziZ",
    "outputId": "74315b44-1940-4e54-f201-f849410bf228"
   },
   "outputs": [],
   "source": [
    "# from google.colab import drive\n",
    "# drive.mount('/content/drive')"
   ]
  },
  {
   "cell_type": "code",
   "execution_count": 60,
   "metadata": {
    "execution": {
     "iopub.execute_input": "2021-10-04T23:22:43.883336Z",
     "iopub.status.busy": "2021-10-04T23:22:43.882601Z",
     "iopub.status.idle": "2021-10-04T23:22:43.992970Z",
     "shell.execute_reply": "2021-10-04T23:22:43.992257Z",
     "shell.execute_reply.started": "2021-10-04T23:22:43.883290Z"
    },
    "id": "fH_iwvjLHy0P",
    "outputId": "6d8e4607-4544-4a68-9da1-8b2b57876c4d"
   },
   "outputs": [],
   "source": [
    "trainset=datasets.ImageFolder(CFG.train_path,transform=train_transform)\n",
    "print(\"Trainset Size:  {}\".format(len(trainset)))"
   ]
  },
  {
   "cell_type": "code",
   "execution_count": 61,
   "metadata": {
    "execution": {
     "iopub.execute_input": "2021-10-04T23:22:44.740851Z",
     "iopub.status.busy": "2021-10-04T23:22:44.740332Z",
     "iopub.status.idle": "2021-10-04T23:22:44.769163Z",
     "shell.execute_reply": "2021-10-04T23:22:44.768498Z",
     "shell.execute_reply.started": "2021-10-04T23:22:44.740817Z"
    },
    "id": "fViQ8qV5PGjS",
    "outputId": "d1ff5756-c966-45f0-cd47-429b8a254484"
   },
   "outputs": [],
   "source": [
    "validateset=datasets.ImageFolder(CFG.validate_path,transform=validate_transform)\n",
    "print(\"validateset Size:  {}\".format(len(validateset)))"
   ]
  },
  {
   "cell_type": "code",
   "execution_count": 9,
   "metadata": {
    "execution": {
     "iopub.execute_input": "2021-10-04T19:55:09.239417Z",
     "iopub.status.busy": "2021-10-04T19:55:09.238875Z",
     "iopub.status.idle": "2021-10-04T19:55:09.243299Z",
     "shell.execute_reply": "2021-10-04T19:55:09.242481Z",
     "shell.execute_reply.started": "2021-10-04T19:55:09.239369Z"
    },
    "id": "_meyiYhfI1YY",
    "outputId": "d0853b97-c6a9-430c-a829-5a955ae6ee85"
   },
   "outputs": [],
   "source": [
    "# testset=datasets.ImageFolder(CFG.test_path,transform=test_transform)\n",
    "# print(\"testset Size:  {}\".format(len(testset)))"
   ]
  },
  {
   "cell_type": "code",
   "execution_count": 10,
   "metadata": {
    "execution": {
     "iopub.execute_input": "2021-10-04T19:55:09.248031Z",
     "iopub.status.busy": "2021-10-04T19:55:09.247358Z",
     "iopub.status.idle": "2021-10-04T19:55:09.553288Z",
     "shell.execute_reply": "2021-10-04T19:55:09.552624Z",
     "shell.execute_reply.started": "2021-10-04T19:55:09.247992Z"
    },
    "id": "KrQlINDPJMoq",
    "outputId": "934e6f02-a9fe-4081-8547-2a6efa5af878"
   },
   "outputs": [],
   "source": [
    "img,label = trainset[20]\n",
    "print(trainset.class_to_idx)\n",
    "\n",
    "class_name =[\"COVID\",\"NORMAL\",\"PNEUMONIA\"]\n",
    "show_image(img,class_name[label])"
   ]
  },
  {
   "cell_type": "code",
   "execution_count": 11,
   "metadata": {
    "execution": {
     "iopub.execute_input": "2021-10-04T19:55:09.555032Z",
     "iopub.status.busy": "2021-10-04T19:55:09.554418Z",
     "iopub.status.idle": "2021-10-04T19:55:09.779602Z",
     "shell.execute_reply": "2021-10-04T19:55:09.777949Z",
     "shell.execute_reply.started": "2021-10-04T19:55:09.554992Z"
    },
    "id": "CjDD53g7V-AE",
    "outputId": "4031bcba-dd70-4a00-f5ae-993de657a4a7"
   },
   "outputs": [],
   "source": [
    "img,label = trainset[20]\n",
    "print(trainset.class_to_idx)\n",
    "\n",
    "class_name =[\"COVID\",\"NORMAL\",\"PNEUMONIA\"]\n",
    "show_image(img,class_name[label]) \n",
    "\n",
    "# randomly rotated"
   ]
  },
  {
   "cell_type": "code",
   "execution_count": 12,
   "metadata": {
    "execution": {
     "iopub.execute_input": "2021-10-04T19:55:09.781114Z",
     "iopub.status.busy": "2021-10-04T19:55:09.780782Z",
     "iopub.status.idle": "2021-10-04T19:55:09.785490Z",
     "shell.execute_reply": "2021-10-04T19:55:09.784642Z",
     "shell.execute_reply.started": "2021-10-04T19:55:09.781078Z"
    },
    "id": "JhhiZ73iR1k5"
   },
   "outputs": [],
   "source": [
    "from torch.utils.data import DataLoader\n",
    "from torchvision.utils import make_grid"
   ]
  },
  {
   "cell_type": "code",
   "execution_count": 64,
   "metadata": {
    "execution": {
     "iopub.execute_input": "2021-10-04T23:23:13.528074Z",
     "iopub.status.busy": "2021-10-04T23:23:13.527728Z",
     "iopub.status.idle": "2021-10-04T23:23:13.536840Z",
     "shell.execute_reply": "2021-10-04T23:23:13.535998Z",
     "shell.execute_reply.started": "2021-10-04T23:23:13.528036Z"
    },
    "id": "4MwFHrYDONl2",
    "outputId": "ed6c25a6-901c-4844-ca7e-6e5f38fb62b1"
   },
   "outputs": [],
   "source": [
    "trainloader = DataLoader(trainset,batch_size=64,shuffle=True)\n",
    "print(\"No. of batches in trainloader:{}\".format(len(trainloader))) #Trainset Size:  5216 / batch_size: 16 = 326(No. of batches in trainloader) \n",
    "print(\"No. of Total examples:{}\".format(len(trainloader.dataset)))"
   ]
  },
  {
   "cell_type": "code",
   "execution_count": 65,
   "metadata": {
    "execution": {
     "iopub.execute_input": "2021-10-04T23:23:17.461213Z",
     "iopub.status.busy": "2021-10-04T23:23:17.460961Z",
     "iopub.status.idle": "2021-10-04T23:23:17.466647Z",
     "shell.execute_reply": "2021-10-04T23:23:17.465961Z",
     "shell.execute_reply.started": "2021-10-04T23:23:17.461186Z"
    },
    "id": "yzm8yW_bXSEr",
    "outputId": "fa137697-549e-41aa-853b-688da50341a1"
   },
   "outputs": [],
   "source": [
    "validationloader = DataLoader(validateset,batch_size=32,shuffle=True)\n",
    "print(\"No. of batches in validationloader:{}\".format(len(validationloader))) #validationset Size:  16 / batch_size: 16 = 1(No. of batches in validationloader) \n",
    "print(\"No. of Total examples:{}\".format(len(validationloader.dataset)))"
   ]
  },
  {
   "cell_type": "code",
   "execution_count": 15,
   "metadata": {
    "execution": {
     "iopub.execute_input": "2021-10-04T19:55:09.806039Z",
     "iopub.status.busy": "2021-10-04T19:55:09.805104Z",
     "iopub.status.idle": "2021-10-04T19:55:09.809772Z",
     "shell.execute_reply": "2021-10-04T19:55:09.808986Z",
     "shell.execute_reply.started": "2021-10-04T19:55:09.806004Z"
    },
    "id": "rSEUnFqBXINe",
    "outputId": "d45ad446-bb43-4f8d-bd04-8e2325bce12e"
   },
   "outputs": [],
   "source": [
    "# testloader = DataLoader(testset,batch_size=CFG.batch_size,shuffle=True)\n",
    "# print(\"No. of batches in testloader:{}\".format(len(testloader))) #testset Size:  624 / batch_size: 16 = 39(No. of batches in testloader) \n",
    "# print(\"No. of Total examples:{}\".format(len(testloader.dataset)))"
   ]
  },
  {
   "cell_type": "code",
   "execution_count": 16,
   "metadata": {
    "execution": {
     "iopub.execute_input": "2021-10-04T19:55:09.811718Z",
     "iopub.status.busy": "2021-10-04T19:55:09.811468Z",
     "iopub.status.idle": "2021-10-04T19:55:10.902686Z",
     "shell.execute_reply": "2021-10-04T19:55:10.901968Z",
     "shell.execute_reply.started": "2021-10-04T19:55:09.811687Z"
    },
    "id": "GH-3a0mpXdbv",
    "outputId": "11fc069b-2363-4c2e-8feb-c07bb8dede64"
   },
   "outputs": [],
   "source": [
    "dataiter = iter(trainloader)\n",
    "images,labels = dataiter.next()\n",
    "\n",
    "out = make_grid(images,nrow=4)\n",
    "\n",
    "show_grid(out,title = [class_name[x] for x in labels])"
   ]
  },
  {
   "cell_type": "code",
   "execution_count": 17,
   "metadata": {
    "execution": {
     "iopub.execute_input": "2021-10-04T19:55:10.903845Z",
     "iopub.status.busy": "2021-10-04T19:55:10.903624Z",
     "iopub.status.idle": "2021-10-04T19:55:19.689620Z",
     "shell.execute_reply": "2021-10-04T19:55:19.688760Z",
     "shell.execute_reply.started": "2021-10-04T19:55:10.903816Z"
    },
    "id": "qCl1kJ4dcCds",
    "outputId": "b867ffb4-4eeb-475b-da7f-39583da4dae9"
   },
   "outputs": [],
   "source": [
    "!pip install timm # install PyTorch Image Models"
   ]
  },
  {
   "cell_type": "code",
   "execution_count": 67,
   "metadata": {
    "execution": {
     "iopub.execute_input": "2021-10-04T23:23:36.533078Z",
     "iopub.status.busy": "2021-10-04T23:23:36.532539Z",
     "iopub.status.idle": "2021-10-04T23:23:37.029851Z",
     "shell.execute_reply": "2021-10-04T23:23:37.028923Z",
     "shell.execute_reply.started": "2021-10-04T23:23:36.533042Z"
    },
    "id": "KYuYgY2SZp5S"
   },
   "outputs": [],
   "source": [
    "from torch import nn\n",
    "import torch.nn.functional as F\n",
    "import timm # PyTorch Image Models\n",
    "\n",
    "model = timm.create_model(CFG.model_name,pretrained=True) #load pretrained model"
   ]
  },
  {
   "cell_type": "code",
   "execution_count": 68,
   "metadata": {
    "execution": {
     "iopub.execute_input": "2021-10-04T23:23:37.743979Z",
     "iopub.status.busy": "2021-10-04T23:23:37.743668Z",
     "iopub.status.idle": "2021-10-04T23:23:37.755485Z",
     "shell.execute_reply": "2021-10-04T23:23:37.754594Z",
     "shell.execute_reply.started": "2021-10-04T23:23:37.743948Z"
    },
    "id": "blSmZcGRcSiH",
    "outputId": "6471d7f2-6175-4fb1-a0f2-c777a998a01d",
    "scrolled": true
   },
   "outputs": [],
   "source": [
    "model          "
   ]
  },
  {
   "cell_type": "code",
   "execution_count": 69,
   "metadata": {
    "execution": {
     "iopub.execute_input": "2021-10-04T23:23:39.020689Z",
     "iopub.status.busy": "2021-10-04T23:23:39.020428Z",
     "iopub.status.idle": "2021-10-04T23:23:39.050610Z",
     "shell.execute_reply": "2021-10-04T23:23:39.049966Z",
     "shell.execute_reply.started": "2021-10-04T23:23:39.020662Z"
    },
    "id": "pxWUtvIcckDg",
    "outputId": "5d128c7b-2e59-4cd8-97b7-986e81c04f29",
    "scrolled": true
   },
   "outputs": [],
   "source": [
    "#let's update the pretarined model:\n",
    "for param in model.parameters():\n",
    "    param.requires_grad=True\n",
    "\n",
    "#orginally, it was:\n",
    "#(classifier): Linear(in_features=1792, out_features=1000, bias=True)\n",
    "\n",
    "\n",
    "#we are updating it as a 2-class classifier:\n",
    "model.classifier = nn.Sequential(\n",
    "    nn.Linear(in_features=1792, out_features=625), #1792 is the orginal in_features\n",
    "    nn.ReLU(), #ReLu to be the activation function\n",
    "    nn.Dropout(p=0.3),\n",
    "    nn.Linear(in_features=625, out_features=256),\n",
    "    nn.ReLU(),\n",
    "    nn.Linear(in_features=256, out_features=3), \n",
    ")\n",
    "\n",
    "model\n",
    "\n",
    "# after updatingnow it becomes:\n",
    "#(classifier): Sequential(\n",
    "#    (0): Linear(in_features=1792, out_features=625, bias=True)\n",
    "#    (1): ReLU()\n",
    "#    (2): Dropout(p=0.3, inplace=False)\n",
    "#    (3): Linear(in_features=625, out_features=256, bias=True)\n",
    "#    (4): ReLU()\n",
    "#    (5): Linear(in_features=256, out_features=2, bias=True)\n",
    "#  )"
   ]
  },
  {
   "cell_type": "code",
   "execution_count": 70,
   "metadata": {
    "execution": {
     "iopub.execute_input": "2021-10-04T23:23:42.263696Z",
     "iopub.status.busy": "2021-10-04T23:23:42.263437Z",
     "iopub.status.idle": "2021-10-04T23:23:42.327382Z",
     "shell.execute_reply": "2021-10-04T23:23:42.326569Z",
     "shell.execute_reply.started": "2021-10-04T23:23:42.263669Z"
    },
    "id": "LXUTiMmLhrgI",
    "outputId": "dc729bb3-7f22-4b05-be6b-9e8310339fd7",
    "scrolled": true
   },
   "outputs": [],
   "source": [
    "# from torchsummary import  summary\n",
    "model.to(device) # move the model to GPU\n",
    "# summary(model,input_size=(3,224,224))"
   ]
  },
  {
   "cell_type": "code",
   "execution_count": 71,
   "metadata": {
    "execution": {
     "iopub.execute_input": "2021-10-04T23:23:43.705219Z",
     "iopub.status.busy": "2021-10-04T23:23:43.704883Z",
     "iopub.status.idle": "2021-10-04T23:23:43.718588Z",
     "shell.execute_reply": "2021-10-04T23:23:43.717622Z",
     "shell.execute_reply.started": "2021-10-04T23:23:43.705186Z"
    },
    "id": "Y0mKfl38NYkb"
   },
   "outputs": [],
   "source": [
    "class CovidTrainer():\n",
    "    \n",
    "    def __init__(self,criterion = None,optimizer = None,schedular = torch.optim.lr_scheduler.ReduceLROnPlateau(optimizer,factor = 0.1,patience = 3)):\n",
    "        \n",
    "        self.criterion = criterion\n",
    "        self.optimizer = optimizer\n",
    "        self.schedular = schedular\n",
    "    \n",
    "    def train_batch_loop(self,model,trainloader):\n",
    "        \n",
    "        train_loss = 0.0\n",
    "        train_acc = 0.0\n",
    "        \n",
    "        for images,labels in tqdm(trainloader): \n",
    "            \n",
    "            # move the data to CPU\n",
    "            images = images.to(device)\n",
    "            labels = labels.to(device)\n",
    "            \n",
    "            logits = model(images)\n",
    "            loss = self.criterion(logits,labels)\n",
    "            \n",
    "            self.optimizer.zero_grad()\n",
    "            loss.backward()\n",
    "            self.optimizer.step()\n",
    "            \n",
    "            train_loss += loss.item()\n",
    "            train_acc += accuracy(logits,labels)\n",
    "            \n",
    "        return train_loss / len(trainloader), train_acc / len(trainloader) \n",
    "\n",
    "    \n",
    "    def valid_batch_loop(self,model,validloader):\n",
    "        \n",
    "        valid_loss = 0.0\n",
    "        valid_acc = 0.0\n",
    "        \n",
    "        for images,labels in tqdm(validloader):\n",
    "            \n",
    "            # move the data to CPU\n",
    "            images = images.to(device) \n",
    "            labels = labels.to(device)\n",
    "            \n",
    "            logits = model(images)\n",
    "            loss = self.criterion(logits,labels)\n",
    "            \n",
    "            valid_loss += loss.item()\n",
    "            valid_acc += accuracy(logits,labels)\n",
    "            \n",
    "        self.schedular.step(valid_acc / len(validloader))\n",
    "            \n",
    "        return valid_loss / len(validloader), valid_acc / len(validloader)\n",
    "            \n",
    "        \n",
    "    def fit(self,model,trainloader,validloader,epochs):\n",
    "        \n",
    "        valid_min_loss = np.Inf \n",
    "        \n",
    "        for i in range(epochs):\n",
    "            \n",
    "            model.train() # this turn on dropout\n",
    "            avg_train_loss, avg_train_acc = self.train_batch_loop(model,trainloader) ###\n",
    "            \n",
    "            model.eval()  # this turns off the dropout lapyer and batch norm\n",
    "            avg_valid_loss, avg_valid_acc = self.valid_batch_loop(model,validloader) ###\n",
    "            \n",
    "            if avg_valid_loss <= valid_min_loss :\n",
    "                print(\"Valid_loss decreased {} --> {}\".format(valid_min_loss,avg_valid_loss))\n",
    "                torch.save(model.state_dict(),'ColabPneumoniaModel_scheduler.pt')\n",
    "                valid_min_loss = avg_valid_loss\n",
    "\n",
    "                \n",
    "            print(\"Epoch : {} Train Loss : {:.6f} Train Acc : {:.6f}\".format(i+1, avg_train_loss, avg_train_acc))\n",
    "            print(\"Epoch : {} Valid Loss : {:.6f} Valid Acc : {:.6f}\".format(i+1, avg_valid_loss, avg_valid_acc))"
   ]
  },
  {
   "cell_type": "code",
   "execution_count": null,
   "metadata": {
    "execution": {
     "iopub.execute_input": "2021-10-04T23:23:48.092815Z",
     "iopub.status.busy": "2021-10-04T23:23:48.092199Z"
    },
    "id": "Be4yV5tIU2u1",
    "outputId": "f9c02203-b7b7-4834-bd03-3dc833d4661f"
   },
   "outputs": [],
   "source": [
    "criterion = nn.CrossEntropyLoss()\n",
    "optimizer = torch.optim.Adam(model.parameters(),lr = CFG.lr)\n",
    "\n",
    "trainer = CovidTrainer(criterion,optimizer)\n",
    "trainer.fit(model,trainloader,validationloader,epochs = CFG.epochs)"
   ]
  },
  {
   "cell_type": "code",
   "execution_count": 45,
   "metadata": {
    "execution": {
     "iopub.execute_input": "2021-10-04T23:12:43.893566Z",
     "iopub.status.busy": "2021-10-04T23:12:43.893306Z",
     "iopub.status.idle": "2021-10-04T23:13:39.451531Z",
     "shell.execute_reply": "2021-10-04T23:13:39.450855Z",
     "shell.execute_reply.started": "2021-10-04T23:12:43.893539Z"
    }
   },
   "outputs": [],
   "source": [
    "nb_classes = 3\n",
    "confusion_matrix = np.zeros((nb_classes, nb_classes))\n",
    "with torch.no_grad():\n",
    "    for i, (inputs, classes) in tqdm(enumerate(validationloader)):\n",
    "        inputs = inputs.to(device)\n",
    "        classes = classes.to(device)\n",
    "        outputs = model(inputs)\n",
    "        _, preds = torch.max(outputs, 1)\n",
    "        for t, p in zip(classes, preds.view(-1)):\n",
    "                confusion_matrix[t.long(), p.long()] += 1"
   ]
  },
  {
   "cell_type": "code",
   "execution_count": 42,
   "metadata": {
    "execution": {
     "iopub.execute_input": "2021-10-04T23:08:46.635433Z",
     "iopub.status.busy": "2021-10-04T23:08:46.635167Z",
     "iopub.status.idle": "2021-10-04T23:08:46.641473Z",
     "shell.execute_reply": "2021-10-04T23:08:46.640561Z",
     "shell.execute_reply.started": "2021-10-04T23:08:46.635406Z"
    }
   },
   "outputs": [],
   "source": [
    "confusion_matrix.astype(int)"
   ]
  },
  {
   "cell_type": "code",
   "execution_count": null,
   "metadata": {},
   "outputs": [],
   "source": [
    "val"
   ]
  },
  {
   "cell_type": "code",
   "execution_count": 28,
   "metadata": {
    "execution": {
     "iopub.execute_input": "2021-10-04T22:59:26.924202Z",
     "iopub.status.busy": "2021-10-04T22:59:26.923657Z",
     "iopub.status.idle": "2021-10-04T22:59:27.122669Z",
     "shell.execute_reply": "2021-10-04T22:59:27.121875Z",
     "shell.execute_reply.started": "2021-10-04T22:59:26.924165Z"
    },
    "id": "4jH-gTyKb6rm",
    "outputId": "72e294e7-d61b-481a-aadf-c816fad9b2fb",
    "scrolled": true
   },
   "outputs": [],
   "source": [
    "model.load_state_dict(torch.load('./ColabPneumoniaModel.pt'))\n",
    "model.eval()\n",
    "\n",
    "# avg_test_loss, avg_test_acc = trainer.valid_batch_loop(model,testloader)\n",
    "\n",
    "\n",
    "# print(\"Test Loss : {}\".format(avg_test_loss))\n",
    "# print(\"Test Acc : {}\".format(avg_test_acc))schedular"
   ]
  },
  {
   "cell_type": "code",
   "execution_count": null,
   "metadata": {
    "id": "uFgA4PZacn67",
    "outputId": "18502b30-a10b-4b35-8400-c621f7db9701"
   },
   "outputs": [],
   "source": [
    "import torch.nn.functional as F\n",
    "\n",
    "image,label = testset[15]\n",
    "\n",
    "ps = model(image.to(device).unsqueeze(0))\n",
    "ps = F.softmax(ps,dim = 1)\n",
    "\n",
    "view_classify(image,ps,label)"
   ]
  },
  {
   "cell_type": "code",
   "execution_count": null,
   "metadata": {
    "id": "WeS-55IUlsoR",
    "outputId": "16336d6b-8964-44ee-f40a-4b24edd64001"
   },
   "outputs": [],
   "source": [
    "import torch.nn.functional as F\n",
    "\n",
    "image,label = testset[5]\n",
    "\n",
    "ps = model(image.to(device).unsqueeze(0))\n",
    "ps = F.softmax(ps,dim = 1)\n",
    "\n",
    "view_classify(image,ps,label)"
   ]
  },
  {
   "cell_type": "code",
   "execution_count": null,
   "metadata": {
    "id": "1MGcHENElu-e",
    "outputId": "52de69fe-858c-4ef8-9373-1b762dec1032"
   },
   "outputs": [],
   "source": [
    "import torch.nn.functional as F\n",
    "\n",
    "image,label = testset[10]\n",
    "\n",
    "ps = model(image.to(device).unsqueeze(0))\n",
    "ps = F.softmax(ps,dim = 1)\n",
    "\n",
    "view_classify(image,ps,label)"
   ]
  },
  {
   "cell_type": "code",
   "execution_count": null,
   "metadata": {
    "id": "NfHOJM2olzDT",
    "outputId": "951f8441-9f6e-426d-ad02-bf6bd3c56bdc"
   },
   "outputs": [],
   "source": [
    "import torch.nn.functional as F\n",
    "\n",
    "image,label = testset[324]\n",
    "\n",
    "ps = model(image.to(device).unsqueeze(0))\n",
    "ps = F.softmax(ps,dim = 1)\n",
    "\n",
    "view_classify(image,ps,label)"
   ]
  },
  {
   "cell_type": "code",
   "execution_count": null,
   "metadata": {
    "id": "oZBBnv9XlqqM",
    "outputId": "80fdd84d-e46b-4d02-fafc-98a398a785db"
   },
   "outputs": [],
   "source": [
    "while True:pass"
   ]
  }
 ],
 "metadata": {
  "kernelspec": {
   "display_name": "Python 3",
   "language": "python",
   "name": "python3"
  },
  "language_info": {
   "codemirror_mode": {
    "name": "ipython",
    "version": 3
   },
   "file_extension": ".py",
   "mimetype": "text/x-python",
   "name": "python",
   "nbconvert_exporter": "python",
   "pygments_lexer": "ipython3",
   "version": "3.8.8"
  },
  "toc": {
   "base_numbering": 1,
   "nav_menu": {},
   "number_sections": true,
   "sideBar": true,
   "skip_h1_title": false,
   "title_cell": "Table of Contents",
   "title_sidebar": "Contents",
   "toc_cell": false,
   "toc_position": {},
   "toc_section_display": true,
   "toc_window_display": false
  },
  "varInspector": {
   "cols": {
    "lenName": 16,
    "lenType": 16,
    "lenVar": 40
   },
   "kernels_config": {
    "python": {
     "delete_cmd_postfix": "",
     "delete_cmd_prefix": "del ",
     "library": "var_list.py",
     "varRefreshCmd": "print(var_dic_list())"
    },
    "r": {
     "delete_cmd_postfix": ") ",
     "delete_cmd_prefix": "rm(",
     "library": "var_list.r",
     "varRefreshCmd": "cat(var_dic_list()) "
    }
   },
   "types_to_exclude": [
    "module",
    "function",
    "builtin_function_or_method",
    "instance",
    "_Feature"
   ],
   "window_display": false
  }
 },
 "nbformat": 4,
 "nbformat_minor": 4
}
