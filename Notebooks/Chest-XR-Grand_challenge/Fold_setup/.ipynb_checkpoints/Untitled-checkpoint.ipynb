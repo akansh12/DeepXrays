{
 "cells": [
  {
   "cell_type": "code",
   "execution_count": 1,
   "id": "3254b62a",
   "metadata": {
    "ExecuteTime": {
     "end_time": "2021-10-12T19:40:07.468071Z",
     "start_time": "2021-10-12T19:40:06.197420Z"
    }
   },
   "outputs": [],
   "source": [
    "import pandas as pd\n",
    "import numpy as np\n",
    "import os\n",
    "from tqdm.auto import tqdm\n",
    "import random\n",
    "from sklearn.utils import shuffle\n",
    "import torch\n",
    "from torch.utils.data import Dataset,DataLoader,  WeightedRandomSampler\n",
    "import torchvision \n",
    "from torchvision import transforms, models\n",
    "from tqdm.notebook import tqdm\n",
    "from PIL import Image\n",
    "import seaborn as sns\n",
    "from collections import OrderedDict\n",
    "from glob import glob\n",
    "import torch.nn.functional as F\n",
    "from torch import nn, optim"
   ]
  },
  {
   "cell_type": "code",
   "execution_count": 2,
   "id": "7d284f8c",
   "metadata": {
    "ExecuteTime": {
     "end_time": "2021-10-12T19:40:07.483798Z",
     "start_time": "2021-10-12T19:40:07.480970Z"
    }
   },
   "outputs": [],
   "source": [
    "import warnings\n",
    "warnings.filterwarnings('ignore')\n",
    "import matplotlib.pyplot as plt"
   ]
  },
  {
   "cell_type": "code",
   "execution_count": 3,
   "id": "13782999",
   "metadata": {
    "ExecuteTime": {
     "end_time": "2021-10-12T19:40:08.017151Z",
     "start_time": "2021-10-12T19:40:08.014849Z"
    }
   },
   "outputs": [],
   "source": [
    "from sklearn.utils.class_weight import compute_class_weight\n"
   ]
  },
  {
   "cell_type": "code",
   "execution_count": 5,
   "id": "da317dde",
   "metadata": {
    "ExecuteTime": {
     "end_time": "2021-10-12T19:40:53.167853Z",
     "start_time": "2021-10-12T19:40:53.164556Z"
    }
   },
   "outputs": [],
   "source": [
    "data_dir = {\n",
    "    \"train\" : \"/media/brats/DRIVE1/akansh/DeepXrays/Data/processed/Chest_XR_covid_gamma/\",\n",
    "    \"valid\": \"/media/brats/DRIVE1/akansh/DeepXrays/Data/processed/Chest_XR_covid_gamma/\",\n",
    "    \"test\" : \"/media/brats/DRIVE1/akansh/DeepXrays/Data/processed/Chest_XR_covid_gamma/test/\"\n",
    "}\n",
    "\n",
    "orig_label_csv = {\"train\": '/media/brats/DRIVE1/akansh/DeepXrays/Data/processed/train_labels.csv',\n",
    "            \"valid\": \"/media/brats/DRIVE1/akansh/DeepXrays/Data/processed/validation_labels.csv\",\n",
    "            \"test\": \"/media/brats/DRIVE1/akansh/DeepXrays/Data/raw/submission.csv\"}"
   ]
  },
  {
   "cell_type": "markdown",
   "id": "4cb2a184",
   "metadata": {},
   "source": [
    "### Creating 5 fold setup"
   ]
  },
  {
   "cell_type": "code",
   "execution_count": 6,
   "id": "39f23360",
   "metadata": {
    "ExecuteTime": {
     "end_time": "2021-10-12T19:40:54.737555Z",
     "start_time": "2021-10-12T19:40:54.719449Z"
    }
   },
   "outputs": [],
   "source": [
    "train_csv = pd.read_csv(orig_label_csv['train'])\n",
    "test_csv = pd.read_csv(orig_label_csv['test'])\n",
    "valid_csv = pd.read_csv(orig_label_csv['valid'])"
   ]
  },
  {
   "cell_type": "code",
   "execution_count": 7,
   "id": "954c19bc",
   "metadata": {
    "ExecuteTime": {
     "end_time": "2021-10-12T19:40:55.737231Z",
     "start_time": "2021-10-12T19:40:55.724304Z"
    }
   },
   "outputs": [
    {
     "data": {
      "text/html": [
       "<div>\n",
       "<style scoped>\n",
       "    .dataframe tbody tr th:only-of-type {\n",
       "        vertical-align: middle;\n",
       "    }\n",
       "\n",
       "    .dataframe tbody tr th {\n",
       "        vertical-align: top;\n",
       "    }\n",
       "\n",
       "    .dataframe thead th {\n",
       "        text-align: right;\n",
       "    }\n",
       "</style>\n",
       "<table border=\"1\" class=\"dataframe\">\n",
       "  <thead>\n",
       "    <tr style=\"text-align: right;\">\n",
       "      <th></th>\n",
       "      <th>case</th>\n",
       "      <th>class</th>\n",
       "    </tr>\n",
       "  </thead>\n",
       "  <tbody>\n",
       "    <tr>\n",
       "      <th>11784</th>\n",
       "      <td>normal-0005723.jpg</td>\n",
       "      <td>1</td>\n",
       "    </tr>\n",
       "    <tr>\n",
       "      <th>7786</th>\n",
       "      <td>normal-0002124.jpg</td>\n",
       "      <td>1</td>\n",
       "    </tr>\n",
       "    <tr>\n",
       "      <th>7332</th>\n",
       "      <td>normal-0001716.jpg</td>\n",
       "      <td>1</td>\n",
       "    </tr>\n",
       "    <tr>\n",
       "      <th>11712</th>\n",
       "      <td>normal-0005659.jpg</td>\n",
       "      <td>1</td>\n",
       "    </tr>\n",
       "    <tr>\n",
       "      <th>15179</th>\n",
       "      <td>pneumonia0002342.jpg</td>\n",
       "      <td>2</td>\n",
       "    </tr>\n",
       "  </tbody>\n",
       "</table>\n",
       "</div>"
      ],
      "text/plain": [
       "                       case   class\n",
       "11784    normal-0005723.jpg       1\n",
       "7786     normal-0002124.jpg       1\n",
       "7332     normal-0001716.jpg       1\n",
       "11712    normal-0005659.jpg       1\n",
       "15179  pneumonia0002342.jpg       2"
      ]
     },
     "execution_count": 7,
     "metadata": {},
     "output_type": "execute_result"
    }
   ],
   "source": [
    "whole_csv = pd.concat((train_csv, valid_csv))\n",
    "whole_csv.reset_index(drop=True)\n",
    "whole_csv = shuffle(whole_csv)\n",
    "whole_csv.head()"
   ]
  },
  {
   "cell_type": "code",
   "execution_count": 8,
   "id": "0b8e03e2",
   "metadata": {
    "ExecuteTime": {
     "end_time": "2021-10-12T19:40:59.418695Z",
     "start_time": "2021-10-12T19:40:59.408529Z"
    }
   },
   "outputs": [],
   "source": [
    "covid = whole_csv[whole_csv[\" class\"] == 0]['case'].values\n",
    "normal = whole_csv[whole_csv[\" class\"] == 1]['case'].values\n",
    "pneumonia = whole_csv[whole_csv[\" class\"] == 2]['case'].values"
   ]
  },
  {
   "cell_type": "code",
   "execution_count": 9,
   "id": "c8894460",
   "metadata": {
    "ExecuteTime": {
     "end_time": "2021-10-12T19:41:00.924496Z",
     "start_time": "2021-10-12T19:41:00.921277Z"
    }
   },
   "outputs": [
    {
     "name": "stdout",
     "output_type": "stream",
     "text": [
      "7966\n",
      "8151\n",
      "5273\n"
     ]
    }
   ],
   "source": [
    "print(len(covid))\n",
    "print(len(normal))\n",
    "print(len(pneumonia))"
   ]
  },
  {
   "cell_type": "code",
   "execution_count": 10,
   "id": "b3f9241c",
   "metadata": {
    "ExecuteTime": {
     "end_time": "2021-10-12T19:41:01.851999Z",
     "start_time": "2021-10-12T19:41:01.757872Z"
    }
   },
   "outputs": [],
   "source": [
    "val_set = np.concatenate((np.random.choice(shuffle(covid), replace = False, size = (75)),\n",
    "                               np.random.choice(shuffle(normal), replace = False, size = (75)),\n",
    "                               np.random.choice(shuffle(pneumonia), replace = False, size = (75))\n",
    "                              ))\n",
    "covid = np.setdiff1d(covid, val_set)\n",
    "normal = np.setdiff1d(normal, val_set)\n",
    "pneumonia = np.setdiff1d(pneumonia, val_set)\n",
    "\n",
    "val_set_csv = whole_csv.set_index(\"case\").loc[val_set.tolist()]\n",
    "val_set_csv.to_csv(\"./val_ensemble.csv\")"
   ]
  },
  {
   "cell_type": "code",
   "execution_count": 11,
   "id": "b43f3df9",
   "metadata": {
    "ExecuteTime": {
     "end_time": "2021-10-12T19:41:03.004906Z",
     "start_time": "2021-10-12T19:41:02.997337Z"
    },
    "code_folding": []
   },
   "outputs": [],
   "source": [
    "def train_val_split(covid, normal, pneumonia):\n",
    "    val_set = np.concatenate((np.random.choice(shuffle(covid), replace = False, size = (500)),\n",
    "                               np.random.choice(shuffle(normal), replace = False, size = (500)),\n",
    "                               np.random.choice(shuffle(pneumonia), replace = False, size = (500))\n",
    "                              ))\n",
    "    train_set = np.concatenate((covid, normal, pneumonia))\n",
    "    train_set = np.setdiff1d(train_set, val_set)\n",
    "    \n",
    "    return train_set, val_set  \n",
    "\n",
    "def fold(whole_csv, train, val):\n",
    "    train_fold = whole_csv.set_index(\"case\").loc[train.tolist()]\n",
    "    val_fold = whole_csv.set_index(\"case\").loc[val.tolist()]\n",
    "    \n",
    "    return train_fold, val_fold\n",
    "    "
   ]
  },
  {
   "cell_type": "code",
   "execution_count": 12,
   "id": "68566920",
   "metadata": {
    "ExecuteTime": {
     "end_time": "2021-10-12T19:41:09.564661Z",
     "start_time": "2021-10-12T19:41:07.161958Z"
    },
    "code_folding": []
   },
   "outputs": [],
   "source": [
    "#Fold_1\n",
    "train_set, val_set = train_val_split(covid, normal, pneumonia)\n",
    "train_fold_1, val_fold_1 = fold(whole_csv,train_set, val_set)\n",
    "train_fold_1.to_csv(\"./fold_csv/train_fold_1.csv\")\n",
    "val_fold_1.to_csv(\"./fold_csv/val_fold_1.csv\")\n",
    "\n",
    "#Fold_2\n",
    "train_set, val_set = train_val_split(covid, normal, pneumonia)\n",
    "train_fold_2, val_fold_2 = fold(whole_csv,train_set, val_set)\n",
    "train_fold_2.to_csv(\"./fold_csv/train_fold_2.csv\")\n",
    "val_fold_2.to_csv(\"./fold_csv/val_fold_2.csv\")\n",
    "\n",
    "#Fold_3\n",
    "train_set, val_set = train_val_split(covid, normal, pneumonia)\n",
    "train_fold_3, val_fold_3 = fold(whole_csv,train_set, val_set)\n",
    "train_fold_3.to_csv(\"./fold_csv/train_fold_3.csv\")\n",
    "val_fold_3.to_csv(\"./fold_csv/val_fold_3.csv\")\n",
    "\n",
    "#Fold_4\n",
    "train_set, val_set = train_val_split(covid, normal, pneumonia)\n",
    "train_fold_4, val_fold_4 = fold(whole_csv,train_set, val_set)\n",
    "train_fold_4.to_csv(\"./fold_csv/train_fold_4.csv\")\n",
    "val_fold_4.to_csv(\"./fold_csv/val_fold_4.csv\")\n",
    "\n",
    "#Fold_5\n",
    "train_set, val_set = train_val_split(covid, normal, pneumonia)\n",
    "train_fold_5, val_fold_5 = fold(whole_csv,train_set, val_set)\n",
    "train_fold_5.to_csv(\"./fold_csv/train_fold_5.csv\")\n",
    "val_fold_5.to_csv(\"./fold_csv/val_fold_5.csv\")"
   ]
  },
  {
   "cell_type": "markdown",
   "id": "abfb7f00",
   "metadata": {},
   "source": [
    "### Creating Dataset"
   ]
  },
  {
   "cell_type": "code",
   "execution_count": 13,
   "id": "e2b1db40",
   "metadata": {
    "ExecuteTime": {
     "end_time": "2021-10-12T19:41:12.241405Z",
     "start_time": "2021-10-12T19:41:12.235932Z"
    }
   },
   "outputs": [],
   "source": [
    "class covid_dataset(Dataset):\n",
    "    def __init__(self, image_loc, label_loc, transforms, data_type = \"train\"):\n",
    "        if data_type == 'train' or data_type == 'valid':\n",
    "            label_df = pd.read_csv(label_loc)\n",
    "            label_df.set_index(\"case\", inplace = True)\n",
    "            filenames = label_df.index.values.tolist()\n",
    "            self.labels = [label_df.loc[filename].values[0] for filename in filenames]\n",
    "            self.full_filenames = []\n",
    "            for i in tqdm(label_df.index.values.tolist()):\n",
    "                self.full_filenames.extend(glob(image_loc+\"*/*/\"+i))\n",
    "                \n",
    "            self.transform = transforms\n",
    "            \n",
    "    def __len__(self):\n",
    "        return len(self.full_filenames)\n",
    "    \n",
    "    def __getitem__(self,idx):\n",
    "        image = Image.open(self.full_filenames[idx])\n",
    "        image = self.transform(image)\n",
    "        \n",
    "        return image, self.labels[idx]\n",
    "        "
   ]
  },
  {
   "cell_type": "code",
   "execution_count": 14,
   "id": "a1b0b991",
   "metadata": {
    "ExecuteTime": {
     "end_time": "2021-10-12T19:41:13.970311Z",
     "start_time": "2021-10-12T19:41:13.966322Z"
    },
    "code_folding": []
   },
   "outputs": [],
   "source": [
    "data_transforms = {\n",
    "    'train': transforms.Compose([\n",
    "        transforms.RandomHorizontalFlip(p = 0.5),\n",
    "        transforms.RandomRotation((-20,20)),\n",
    "        transforms.RandomPerspective(0.2),\n",
    "        transforms.ToTensor(),\n",
    "        transforms.Normalize([0.5027,0.5027,0.5027],[0.2466, 0.2466, 0.2466])\n",
    "        \n",
    "    ]),\n",
    "    \n",
    "    'valid' : transforms.Compose([\n",
    "        transforms.ToTensor(),\n",
    "        transforms.Normalize([0.5027,0.5027,0.5027],[0.2466, 0.2466, 0.2466])\n",
    "    ])   \n",
    "}"
   ]
  },
  {
   "cell_type": "code",
   "execution_count": 15,
   "id": "5df54df8",
   "metadata": {
    "ExecuteTime": {
     "end_time": "2021-10-12T19:52:31.064541Z",
     "start_time": "2021-10-12T19:41:22.882847Z"
    }
   },
   "outputs": [
    {
     "data": {
      "application/vnd.jupyter.widget-view+json": {
       "model_id": "0df5ce21e77c4e5cb3da06abf0ca5d56",
       "version_major": 2,
       "version_minor": 0
      },
      "text/plain": [
       "  0%|          | 0/19665 [00:00<?, ?it/s]"
      ]
     },
     "metadata": {},
     "output_type": "display_data"
    },
    {
     "data": {
      "application/vnd.jupyter.widget-view+json": {
       "model_id": "79766a5c07954a7f846548cd74239bd8",
       "version_major": 2,
       "version_minor": 0
      },
      "text/plain": [
       "  0%|          | 0/1500 [00:00<?, ?it/s]"
      ]
     },
     "metadata": {},
     "output_type": "display_data"
    },
    {
     "data": {
      "application/vnd.jupyter.widget-view+json": {
       "model_id": "050c0cd19bcb43ddb0da01971d1cc24b",
       "version_major": 2,
       "version_minor": 0
      },
      "text/plain": [
       "  0%|          | 0/19665 [00:00<?, ?it/s]"
      ]
     },
     "metadata": {},
     "output_type": "display_data"
    },
    {
     "data": {
      "application/vnd.jupyter.widget-view+json": {
       "model_id": "c956c713004e46b5bc489b9f9b64ef57",
       "version_major": 2,
       "version_minor": 0
      },
      "text/plain": [
       "  0%|          | 0/1500 [00:00<?, ?it/s]"
      ]
     },
     "metadata": {},
     "output_type": "display_data"
    },
    {
     "data": {
      "application/vnd.jupyter.widget-view+json": {
       "model_id": "a3ba00769f3c4a4ea9f6ea38aaa0fc27",
       "version_major": 2,
       "version_minor": 0
      },
      "text/plain": [
       "  0%|          | 0/19665 [00:00<?, ?it/s]"
      ]
     },
     "metadata": {},
     "output_type": "display_data"
    },
    {
     "data": {
      "application/vnd.jupyter.widget-view+json": {
       "model_id": "2becdef0cc9045c682499b42f1f3a7a1",
       "version_major": 2,
       "version_minor": 0
      },
      "text/plain": [
       "  0%|          | 0/1500 [00:00<?, ?it/s]"
      ]
     },
     "metadata": {},
     "output_type": "display_data"
    },
    {
     "data": {
      "application/vnd.jupyter.widget-view+json": {
       "model_id": "b2e1024daf41462c84e77b7db3f8b09b",
       "version_major": 2,
       "version_minor": 0
      },
      "text/plain": [
       "  0%|          | 0/19665 [00:00<?, ?it/s]"
      ]
     },
     "metadata": {},
     "output_type": "display_data"
    },
    {
     "data": {
      "application/vnd.jupyter.widget-view+json": {
       "model_id": "a086e6dd57074082ae3daab6e5de069f",
       "version_major": 2,
       "version_minor": 0
      },
      "text/plain": [
       "  0%|          | 0/1500 [00:00<?, ?it/s]"
      ]
     },
     "metadata": {},
     "output_type": "display_data"
    },
    {
     "data": {
      "application/vnd.jupyter.widget-view+json": {
       "model_id": "1d3f03e9ebfe4668896abdd6177b1f47",
       "version_major": 2,
       "version_minor": 0
      },
      "text/plain": [
       "  0%|          | 0/19665 [00:00<?, ?it/s]"
      ]
     },
     "metadata": {},
     "output_type": "display_data"
    },
    {
     "data": {
      "application/vnd.jupyter.widget-view+json": {
       "model_id": "8c7cd1acf1964ac9a8f5d4867bc4d500",
       "version_major": 2,
       "version_minor": 0
      },
      "text/plain": [
       "  0%|          | 0/1500 [00:00<?, ?it/s]"
      ]
     },
     "metadata": {},
     "output_type": "display_data"
    }
   ],
   "source": [
    "#fold1\n",
    "train_fold_1 = covid_dataset(data_dir['train'], label_loc = \"./fold_csv/train_fold_1.csv\", transforms = data_transforms['train'], data_type = \"train\")\n",
    "valid_fold_1 = covid_dataset(data_dir['valid'], label_loc = \"./fold_csv/val_fold_1.csv\", transforms = data_transforms['valid'], data_type = \"valid\")\n",
    "#fold2\n",
    "train_fold_2 = covid_dataset(data_dir['train'], label_loc = \"./fold_csv/train_fold_2.csv\", transforms = data_transforms['train'], data_type = \"train\")\n",
    "valid_fold_2 = covid_dataset(data_dir['valid'], label_loc = \"./fold_csv/val_fold_2.csv\", transforms = data_transforms['valid'], data_type = \"valid\")\n",
    "#fold3\n",
    "train_fold_3 = covid_dataset(data_dir['train'], label_loc = \"./fold_csv/train_fold_3.csv\", transforms = data_transforms['train'], data_type = \"train\")\n",
    "valid_fold_3 = covid_dataset(data_dir['valid'], label_loc = \"./fold_csv/val_fold_3.csv\", transforms = data_transforms['valid'], data_type = \"valid\")\n",
    "#fold4\n",
    "train_fold_4 = covid_dataset(data_dir['train'], label_loc = \"./fold_csv/train_fold_4.csv\", transforms = data_transforms['train'], data_type = \"train\")\n",
    "valid_fold_4 = covid_dataset(data_dir['valid'], label_loc = \"./fold_csv/val_fold_4.csv\", transforms = data_transforms['valid'], data_type = \"valid\")\n",
    "#fold5\n",
    "train_fold_5 = covid_dataset(data_dir['train'], label_loc = \"./fold_csv/train_fold_5.csv\", transforms = data_transforms['train'], data_type = \"train\")\n",
    "valid_fold_5 = covid_dataset(data_dir['valid'], label_loc = \"./fold_csv/val_fold_5.csv\", transforms = data_transforms['valid'], data_type = \"valid\")"
   ]
  },
  {
   "cell_type": "code",
   "execution_count": 16,
   "id": "e7e8f23e",
   "metadata": {
    "ExecuteTime": {
     "end_time": "2021-10-12T19:52:31.133217Z",
     "start_time": "2021-10-12T19:52:31.129194Z"
    }
   },
   "outputs": [],
   "source": [
    "def train_val_loader(train_set, val_set):\n",
    "    class_weights = compute_class_weight('balanced', np.unique(train_set.labels), train_set.labels) \n",
    "    sample_weights = [0]*len(train_set)\n",
    "    for idx, (data,label) in tqdm(enumerate(train_set)):\n",
    "        class_weight = class_weights[label]\n",
    "        sample_weights[idx] = class_weight\n",
    "    sampler = WeightedRandomSampler(sample_weights, num_samples = len(sample_weights), replacement = True)\n",
    "    trainloader = DataLoader(train_set,batch_size = 64,shuffle = False, sampler = sampler)\n",
    "    validloader = DataLoader(val_set,batch_size = 32,shuffle = False)\n",
    "    \n",
    "    return trainloader, validloader"
   ]
  },
  {
   "cell_type": "code",
   "execution_count": 17,
   "id": "3285cf70",
   "metadata": {
    "ExecuteTime": {
     "end_time": "2021-10-12T19:58:10.613528Z",
     "start_time": "2021-10-12T19:52:31.200318Z"
    }
   },
   "outputs": [
    {
     "data": {
      "application/vnd.jupyter.widget-view+json": {
       "model_id": "66dfcc75f98f4ca9ac3f8b8aff36d150",
       "version_major": 2,
       "version_minor": 0
      },
      "text/plain": [
       "0it [00:00, ?it/s]"
      ]
     },
     "metadata": {},
     "output_type": "display_data"
    },
    {
     "data": {
      "application/vnd.jupyter.widget-view+json": {
       "model_id": "6ac1fdf44ad54e7bb38ef1b974461506",
       "version_major": 2,
       "version_minor": 0
      },
      "text/plain": [
       "0it [00:00, ?it/s]"
      ]
     },
     "metadata": {},
     "output_type": "display_data"
    },
    {
     "data": {
      "application/vnd.jupyter.widget-view+json": {
       "model_id": "cfda36ab491244c19109fe3b44615291",
       "version_major": 2,
       "version_minor": 0
      },
      "text/plain": [
       "0it [00:00, ?it/s]"
      ]
     },
     "metadata": {},
     "output_type": "display_data"
    },
    {
     "data": {
      "application/vnd.jupyter.widget-view+json": {
       "model_id": "7cdae58076ee45e68102d95ebf1b6bc9",
       "version_major": 2,
       "version_minor": 0
      },
      "text/plain": [
       "0it [00:00, ?it/s]"
      ]
     },
     "metadata": {},
     "output_type": "display_data"
    },
    {
     "data": {
      "application/vnd.jupyter.widget-view+json": {
       "model_id": "576aa11a9f12498e880bb8a619b73426",
       "version_major": 2,
       "version_minor": 0
      },
      "text/plain": [
       "0it [00:00, ?it/s]"
      ]
     },
     "metadata": {},
     "output_type": "display_data"
    }
   ],
   "source": [
    "trainloader_fold_1, validloader_fold_1 = train_val_loader(train_fold_1,valid_fold_1)\n",
    "trainloader_fold_2, validloader_fold_2 = train_val_loader(train_fold_2,valid_fold_2)\n",
    "trainloader_fold_3, validloader_fold_3 = train_val_loader(train_fold_3,valid_fold_3)\n",
    "trainloader_fold_4, validloader_fold_4 = train_val_loader(train_fold_4,valid_fold_4)\n",
    "trainloader_fold_5, validloader_fold_5 = train_val_loader(train_fold_5,valid_fold_5)\n",
    "\n"
   ]
  },
  {
   "cell_type": "code",
   "execution_count": null,
   "id": "7405bf14",
   "metadata": {
    "ExecuteTime": {
     "end_time": "2021-10-12T19:25:36.834402Z",
     "start_time": "2021-10-12T19:25:36.827139Z"
    }
   },
   "outputs": [],
   "source": []
  },
  {
   "cell_type": "code",
   "execution_count": 18,
   "id": "220386ae",
   "metadata": {
    "ExecuteTime": {
     "end_time": "2021-10-12T19:58:10.711208Z",
     "start_time": "2021-10-12T19:58:10.707894Z"
    }
   },
   "outputs": [],
   "source": [
    "train_loader_list = [trainloader_fold_1,\n",
    "trainloader_fold_2,\n",
    "trainloader_fold_3,\n",
    "trainloader_fold_4,\n",
    "trainloader_fold_5]\n",
    "\n",
    "valid_loader_list = [validloader_fold_1,\n",
    "validloader_fold_2,\n",
    "validloader_fold_3,\n",
    "validloader_fold_4,\n",
    "validloader_fold_5    \n",
    "]"
   ]
  },
  {
   "cell_type": "markdown",
   "id": "9ffac298",
   "metadata": {},
   "source": [
    "### Defining Model"
   ]
  },
  {
   "cell_type": "code",
   "execution_count": 23,
   "id": "18c847e9",
   "metadata": {
    "ExecuteTime": {
     "end_time": "2021-10-12T20:37:58.696503Z",
     "start_time": "2021-10-12T20:37:57.985835Z"
    }
   },
   "outputs": [],
   "source": [
    "from torch import nn\n",
    "import torch.nn.functional as F\n",
    "import timm \n",
    "model = timm.create_model('tf_efficientnet_b4_ns',pretrained=True) \n",
    "\n",
    "model.classifier = nn.Sequential(\n",
    "    nn.Linear(in_features=1792, out_features=512),\n",
    "    nn.ReLU(), \n",
    "    nn.Dropout(p=0.3),\n",
    "    nn.Linear(in_features=512, out_features=128),\n",
    "    nn.ReLU(),\n",
    "    nn.Linear(in_features=128, out_features=3), \n",
    ")\n",
    "\n",
    "for param in model.parameters():\n",
    "    param.requires_grad = True\n",
    "\n",
    "model = model.cuda()"
   ]
  },
  {
   "cell_type": "code",
   "execution_count": 24,
   "id": "af894f6a",
   "metadata": {
    "ExecuteTime": {
     "end_time": "2021-10-12T20:37:59.258883Z",
     "start_time": "2021-10-12T20:37:59.255650Z"
    }
   },
   "outputs": [],
   "source": [
    "def accuracy(y_pred,y_true):\n",
    "    y_pred = F.softmax(y_pred, dim =1)\n",
    "    top_p,top_class = y_pred.topk(1,dim = 1)\n",
    "    equals = top_class == y_true.view(*top_class.shape)\n",
    "    return torch.mean(equals.type(torch.FloatTensor))"
   ]
  },
  {
   "cell_type": "code",
   "execution_count": 25,
   "id": "fbdab97b",
   "metadata": {
    "ExecuteTime": {
     "end_time": "2021-10-12T20:38:00.653515Z",
     "start_time": "2021-10-12T20:38:00.651048Z"
    }
   },
   "outputs": [],
   "source": [
    "device = 'cuda'"
   ]
  },
  {
   "cell_type": "code",
   "execution_count": 26,
   "id": "5c64ef1a",
   "metadata": {
    "ExecuteTime": {
     "end_time": "2021-10-13T02:27:12.975391Z",
     "start_time": "2021-10-12T20:38:02.990110Z"
    },
    "scrolled": true
   },
   "outputs": [
    {
     "name": "stdout",
     "output_type": "stream",
     "text": [
      "Adjusting learning rate of group 0 to 1.0000e-03.\n"
     ]
    },
    {
     "data": {
      "application/vnd.jupyter.widget-view+json": {
       "model_id": "a8215ebb13204f048986b50d92004d19",
       "version_major": 2,
       "version_minor": 0
      },
      "text/plain": [
       "  0%|          | 0/308 [00:00<?, ?it/s]"
      ]
     },
     "metadata": {},
     "output_type": "display_data"
    },
    {
     "data": {
      "application/vnd.jupyter.widget-view+json": {
       "model_id": "c4995020ba2647c9b089edf7db1ca7c4",
       "version_major": 2,
       "version_minor": 0
      },
      "text/plain": [
       "  0%|          | 0/47 [00:00<?, ?it/s]"
      ]
     },
     "metadata": {},
     "output_type": "display_data"
    },
    {
     "name": "stdout",
     "output_type": "stream",
     "text": [
      "[[478.  14.   8.]\n",
      " [  2. 491.   7.]\n",
      " [ 12.  61. 427.]]\n",
      "Adjusting learning rate of group 0 to 5.0500e-04.\n",
      "Validation loss decreased (inf --> 0.198978).Saving model ...\n",
      "Validation Accuracy increased (0.000000 --> 0.930566).Saving model ...\n",
      "Epoch : 1 Train Loss : 0.333936 Train Acc : 0.878181\n",
      "Epoch : 1 Valid Loss : 0.198978 Valid Acc : 0.930566\n"
     ]
    },
    {
     "data": {
      "application/vnd.jupyter.widget-view+json": {
       "model_id": "dba1406edf0f48acac291e3f35894827",
       "version_major": 2,
       "version_minor": 0
      },
      "text/plain": [
       "  0%|          | 0/308 [00:00<?, ?it/s]"
      ]
     },
     "metadata": {},
     "output_type": "display_data"
    },
    {
     "data": {
      "application/vnd.jupyter.widget-view+json": {
       "model_id": "54178fe484ff400fbeb01d3f857b4753",
       "version_major": 2,
       "version_minor": 0
      },
      "text/plain": [
       "  0%|          | 0/47 [00:00<?, ?it/s]"
      ]
     },
     "metadata": {},
     "output_type": "display_data"
    },
    {
     "name": "stdout",
     "output_type": "stream",
     "text": [
      "[[490.   5.   5.]\n",
      " [  1. 468.  31.]\n",
      " [  4.  20. 476.]]\n",
      "Adjusting learning rate of group 0 to 1.0000e-05.\n",
      "Validation loss decreased (0.198978 --> 0.132670).Saving model ...\n",
      "Validation Accuracy increased (0.930566 --> 0.956022).Saving model ...\n",
      "Epoch : 2 Train Loss : 0.150692 Train Acc : 0.947100\n",
      "Epoch : 2 Valid Loss : 0.132670 Valid Acc : 0.956022\n"
     ]
    },
    {
     "data": {
      "application/vnd.jupyter.widget-view+json": {
       "model_id": "8d235bee1a4b48d2b07209eb03a1356b",
       "version_major": 2,
       "version_minor": 0
      },
      "text/plain": [
       "  0%|          | 0/308 [00:00<?, ?it/s]"
      ]
     },
     "metadata": {},
     "output_type": "display_data"
    },
    {
     "data": {
      "application/vnd.jupyter.widget-view+json": {
       "model_id": "813868d6e5274dca91a2486bb8021162",
       "version_major": 2,
       "version_minor": 0
      },
      "text/plain": [
       "  0%|          | 0/47 [00:00<?, ?it/s]"
      ]
     },
     "metadata": {},
     "output_type": "display_data"
    },
    {
     "name": "stdout",
     "output_type": "stream",
     "text": [
      "[[491.   4.   5.]\n",
      " [  0. 485.  15.]\n",
      " [  4.  29. 467.]]\n",
      "Adjusting learning rate of group 0 to 5.0500e-04.\n",
      "Validation loss decreased (0.132670 --> 0.119618).Saving model ...\n",
      "Validation Accuracy increased (0.956022 --> 0.961911).Saving model ...\n",
      "Epoch : 3 Train Loss : 0.118241 Train Acc : 0.958374\n",
      "Epoch : 3 Valid Loss : 0.119618 Valid Acc : 0.961911\n"
     ]
    },
    {
     "data": {
      "application/vnd.jupyter.widget-view+json": {
       "model_id": "85c41685873049adbc1b38c5ed7538a1",
       "version_major": 2,
       "version_minor": 0
      },
      "text/plain": [
       "  0%|          | 0/308 [00:00<?, ?it/s]"
      ]
     },
     "metadata": {},
     "output_type": "display_data"
    },
    {
     "data": {
      "application/vnd.jupyter.widget-view+json": {
       "model_id": "30abb4822e6a49579ad03fcd1ad814a4",
       "version_major": 2,
       "version_minor": 0
      },
      "text/plain": [
       "  0%|          | 0/47 [00:00<?, ?it/s]"
      ]
     },
     "metadata": {},
     "output_type": "display_data"
    },
    {
     "name": "stdout",
     "output_type": "stream",
     "text": [
      "[[493.   3.   4.]\n",
      " [  0. 482.  18.]\n",
      " [  3.  39. 458.]]\n",
      "Adjusting learning rate of group 0 to 1.0000e-03.\n",
      "Epoch : 4 Train Loss : 0.135457 Train Acc : 0.952313\n",
      "Epoch : 4 Valid Loss : 0.123440 Valid Acc : 0.955262\n"
     ]
    },
    {
     "data": {
      "application/vnd.jupyter.widget-view+json": {
       "model_id": "96375a0c7d7d4885b32b0f1b56bca852",
       "version_major": 2,
       "version_minor": 0
      },
      "text/plain": [
       "  0%|          | 0/308 [00:00<?, ?it/s]"
      ]
     },
     "metadata": {},
     "output_type": "display_data"
    },
    {
     "data": {
      "application/vnd.jupyter.widget-view+json": {
       "model_id": "f2d99cc87cee40c2bd87295a7977928c",
       "version_major": 2,
       "version_minor": 0
      },
      "text/plain": [
       "  0%|          | 0/47 [00:00<?, ?it/s]"
      ]
     },
     "metadata": {},
     "output_type": "display_data"
    },
    {
     "name": "stdout",
     "output_type": "stream",
     "text": [
      "[[463.  12.  25.]\n",
      " [  0. 495.   5.]\n",
      " [  0.  63. 437.]]\n",
      "Adjusting learning rate of group 0 to 5.0500e-04.\n",
      "Epoch : 5 Train Loss : 0.179424 Train Acc : 0.937715\n",
      "Epoch : 5 Valid Loss : 0.218761 Valid Acc : 0.929901\n"
     ]
    },
    {
     "data": {
      "application/vnd.jupyter.widget-view+json": {
       "model_id": "011daa87934f4daa9a571666bbc190f0",
       "version_major": 2,
       "version_minor": 0
      },
      "text/plain": [
       "  0%|          | 0/308 [00:00<?, ?it/s]"
      ]
     },
     "metadata": {},
     "output_type": "display_data"
    },
    {
     "data": {
      "application/vnd.jupyter.widget-view+json": {
       "model_id": "27b3f66955c9400db6a1894cd99ca177",
       "version_major": 2,
       "version_minor": 0
      },
      "text/plain": [
       "  0%|          | 0/47 [00:00<?, ?it/s]"
      ]
     },
     "metadata": {},
     "output_type": "display_data"
    },
    {
     "name": "stdout",
     "output_type": "stream",
     "text": [
      "[[494.   3.   3.]\n",
      " [  2. 477.  21.]\n",
      " [  6.  27. 467.]]\n",
      "Adjusting learning rate of group 0 to 1.0000e-05.\n",
      "Validation loss decreased (0.119618 --> 0.118063).Saving model ...\n",
      "Epoch : 6 Train Loss : 0.114548 Train Acc : 0.960188\n",
      "Epoch : 6 Valid Loss : 0.118063 Valid Acc : 0.958587\n"
     ]
    },
    {
     "data": {
      "application/vnd.jupyter.widget-view+json": {
       "model_id": "ee02f92e1ec24a26b85d564c4363de83",
       "version_major": 2,
       "version_minor": 0
      },
      "text/plain": [
       "  0%|          | 0/308 [00:00<?, ?it/s]"
      ]
     },
     "metadata": {},
     "output_type": "display_data"
    },
    {
     "data": {
      "application/vnd.jupyter.widget-view+json": {
       "model_id": "7bbbce943c3a4af3a9b24a9f6a605210",
       "version_major": 2,
       "version_minor": 0
      },
      "text/plain": [
       "  0%|          | 0/47 [00:00<?, ?it/s]"
      ]
     },
     "metadata": {},
     "output_type": "display_data"
    },
    {
     "name": "stdout",
     "output_type": "stream",
     "text": [
      "[[494.   3.   3.]\n",
      " [  1. 479.  20.]\n",
      " [  2.  26. 472.]]\n",
      "Adjusting learning rate of group 0 to 5.0500e-04.\n",
      "Validation loss decreased (0.118063 --> 0.107087).Saving model ...\n",
      "Validation Accuracy increased (0.961911 --> 0.963241).Saving model ...\n",
      "Epoch : 7 Train Loss : 0.095217 Train Acc : 0.968165\n",
      "Epoch : 7 Valid Loss : 0.107087 Valid Acc : 0.963241\n"
     ]
    },
    {
     "data": {
      "application/vnd.jupyter.widget-view+json": {
       "model_id": "96947e8b38f94cd9912f773181e2cc44",
       "version_major": 2,
       "version_minor": 0
      },
      "text/plain": [
       "  0%|          | 0/308 [00:00<?, ?it/s]"
      ]
     },
     "metadata": {},
     "output_type": "display_data"
    },
    {
     "data": {
      "application/vnd.jupyter.widget-view+json": {
       "model_id": "6bfdc41d688b48ac9eab09f03b50bf2b",
       "version_major": 2,
       "version_minor": 0
      },
      "text/plain": [
       "  0%|          | 0/47 [00:00<?, ?it/s]"
      ]
     },
     "metadata": {},
     "output_type": "display_data"
    },
    {
     "name": "stdout",
     "output_type": "stream",
     "text": [
      "[[494.   3.   3.]\n",
      " [  1. 488.  11.]\n",
      " [  4.  42. 454.]]\n",
      "Adjusting learning rate of group 0 to 1.0000e-03.\n",
      "Epoch : 8 Train Loss : 0.101068 Train Acc : 0.965148\n",
      "Epoch : 8 Valid Loss : 0.134843 Valid Acc : 0.957257\n"
     ]
    },
    {
     "data": {
      "application/vnd.jupyter.widget-view+json": {
       "model_id": "c6595042ad704e9fb0e7069121311c1e",
       "version_major": 2,
       "version_minor": 0
      },
      "text/plain": [
       "  0%|          | 0/308 [00:00<?, ?it/s]"
      ]
     },
     "metadata": {},
     "output_type": "display_data"
    },
    {
     "data": {
      "application/vnd.jupyter.widget-view+json": {
       "model_id": "0a244c906800493e9e0e125b95a0df54",
       "version_major": 2,
       "version_minor": 0
      },
      "text/plain": [
       "  0%|          | 0/47 [00:00<?, ?it/s]"
      ]
     },
     "metadata": {},
     "output_type": "display_data"
    },
    {
     "name": "stdout",
     "output_type": "stream",
     "text": [
      "[[437.  25.  38.]\n",
      " [  2. 481.  17.]\n",
      " [  2.  34. 464.]]\n",
      "Adjusting learning rate of group 0 to 5.0500e-04.\n",
      "Epoch : 9 Train Loss : 0.139602 Train Acc : 0.951526\n",
      "Epoch : 9 Valid Loss : 0.228903 Valid Acc : 0.921448\n"
     ]
    },
    {
     "data": {
      "application/vnd.jupyter.widget-view+json": {
       "model_id": "d629c5c736e64da09c807d09b15ce479",
       "version_major": 2,
       "version_minor": 0
      },
      "text/plain": [
       "  0%|          | 0/308 [00:00<?, ?it/s]"
      ]
     },
     "metadata": {},
     "output_type": "display_data"
    },
    {
     "data": {
      "application/vnd.jupyter.widget-view+json": {
       "model_id": "52c86ecd8d914198818611342fb8bb86",
       "version_major": 2,
       "version_minor": 0
      },
      "text/plain": [
       "  0%|          | 0/47 [00:00<?, ?it/s]"
      ]
     },
     "metadata": {},
     "output_type": "display_data"
    },
    {
     "name": "stdout",
     "output_type": "stream",
     "text": [
      "[[491.   7.   2.]\n",
      " [  0. 482.  18.]\n",
      " [  2.  33. 465.]]\n",
      "Adjusting learning rate of group 0 to 1.0000e-05.\n",
      "Epoch : 10 Train Loss : 0.098444 Train Acc : 0.964844\n",
      "Epoch : 10 Valid Loss : 0.128279 Valid Acc : 0.958587\n"
     ]
    },
    {
     "data": {
      "application/vnd.jupyter.widget-view+json": {
       "model_id": "5dfd1ee4f69e4fb3b4eeff9f94fb42ae",
       "version_major": 2,
       "version_minor": 0
      },
      "text/plain": [
       "  0%|          | 0/308 [00:00<?, ?it/s]"
      ]
     },
     "metadata": {},
     "output_type": "display_data"
    },
    {
     "data": {
      "application/vnd.jupyter.widget-view+json": {
       "model_id": "27bc8cad4fb649f597107c59517432c3",
       "version_major": 2,
       "version_minor": 0
      },
      "text/plain": [
       "  0%|          | 0/47 [00:00<?, ?it/s]"
      ]
     },
     "metadata": {},
     "output_type": "display_data"
    },
    {
     "name": "stdout",
     "output_type": "stream",
     "text": [
      "[[494.   5.   1.]\n",
      " [  0. 484.  16.]\n",
      " [  2.  34. 464.]]\n",
      "Adjusting learning rate of group 0 to 5.0500e-04.\n",
      "Epoch : 11 Train Loss : 0.074617 Train Acc : 0.974533\n",
      "Epoch : 11 Valid Loss : 0.118169 Valid Acc : 0.961246\n"
     ]
    },
    {
     "data": {
      "application/vnd.jupyter.widget-view+json": {
       "model_id": "4c0f56ba7ce3448391a7c7ac35654d26",
       "version_major": 2,
       "version_minor": 0
      },
      "text/plain": [
       "  0%|          | 0/308 [00:00<?, ?it/s]"
      ]
     },
     "metadata": {},
     "output_type": "display_data"
    },
    {
     "data": {
      "application/vnd.jupyter.widget-view+json": {
       "model_id": "00547f4633b840cab6b628a5974f02f0",
       "version_major": 2,
       "version_minor": 0
      },
      "text/plain": [
       "  0%|          | 0/47 [00:00<?, ?it/s]"
      ]
     },
     "metadata": {},
     "output_type": "display_data"
    },
    {
     "name": "stdout",
     "output_type": "stream",
     "text": [
      "[[493.   6.   1.]\n",
      " [  0. 481.  19.]\n",
      " [  5.  30. 465.]]\n",
      "Adjusting learning rate of group 0 to 1.0000e-03.\n",
      "Epoch : 12 Train Loss : 0.083003 Train Acc : 0.971337\n",
      "Epoch : 12 Valid Loss : 0.113989 Valid Acc : 0.959347\n"
     ]
    },
    {
     "data": {
      "application/vnd.jupyter.widget-view+json": {
       "model_id": "ff175988e1a74b8e9fa5183d9cc751fe",
       "version_major": 2,
       "version_minor": 0
      },
      "text/plain": [
       "  0%|          | 0/308 [00:00<?, ?it/s]"
      ]
     },
     "metadata": {},
     "output_type": "display_data"
    },
    {
     "data": {
      "application/vnd.jupyter.widget-view+json": {
       "model_id": "3f1e331d80da4b95ad48901302aff85b",
       "version_major": 2,
       "version_minor": 0
      },
      "text/plain": [
       "  0%|          | 0/47 [00:00<?, ?it/s]"
      ]
     },
     "metadata": {},
     "output_type": "display_data"
    },
    {
     "name": "stdout",
     "output_type": "stream",
     "text": [
      "[[477.   8.  15.]\n",
      " [  0. 444.  56.]\n",
      " [  1.  11. 488.]]\n",
      "Adjusting learning rate of group 0 to 5.0500e-04.\n",
      "Epoch : 13 Train Loss : 0.129165 Train Acc : 0.952680\n",
      "Epoch : 13 Valid Loss : 0.195583 Valid Acc : 0.939495\n"
     ]
    },
    {
     "data": {
      "application/vnd.jupyter.widget-view+json": {
       "model_id": "55f56ed19d3c45e7aae5052c8c44b44f",
       "version_major": 2,
       "version_minor": 0
      },
      "text/plain": [
       "  0%|          | 0/308 [00:00<?, ?it/s]"
      ]
     },
     "metadata": {},
     "output_type": "display_data"
    },
    {
     "data": {
      "application/vnd.jupyter.widget-view+json": {
       "model_id": "06869df77cd94c77b06791a319f2ade1",
       "version_major": 2,
       "version_minor": 0
      },
      "text/plain": [
       "  0%|          | 0/47 [00:00<?, ?it/s]"
      ]
     },
     "metadata": {},
     "output_type": "display_data"
    },
    {
     "name": "stdout",
     "output_type": "stream",
     "text": [
      "[[491.   5.   4.]\n",
      " [  1. 487.  12.]\n",
      " [  2.  43. 455.]]\n",
      "Adjusting learning rate of group 0 to 1.0000e-05.\n",
      "Epoch : 14 Train Loss : 0.080726 Train Acc : 0.970627\n",
      "Epoch : 14 Valid Loss : 0.156262 Valid Acc : 0.955357\n"
     ]
    },
    {
     "data": {
      "application/vnd.jupyter.widget-view+json": {
       "model_id": "0240266595a44da085df3dc2be8978b2",
       "version_major": 2,
       "version_minor": 0
      },
      "text/plain": [
       "  0%|          | 0/308 [00:00<?, ?it/s]"
      ]
     },
     "metadata": {},
     "output_type": "display_data"
    },
    {
     "data": {
      "application/vnd.jupyter.widget-view+json": {
       "model_id": "2275f7d38e7a4671969454de00ebd99b",
       "version_major": 2,
       "version_minor": 0
      },
      "text/plain": [
       "  0%|          | 0/47 [00:00<?, ?it/s]"
      ]
     },
     "metadata": {},
     "output_type": "display_data"
    },
    {
     "name": "stdout",
     "output_type": "stream",
     "text": [
      "[[492.   5.   3.]\n",
      " [  1. 481.  18.]\n",
      " [  2.  33. 465.]]\n",
      "Adjusting learning rate of group 0 to 5.0500e-04.\n",
      "Epoch : 15 Train Loss : 0.064270 Train Acc : 0.978807\n",
      "Epoch : 15 Valid Loss : 0.146153 Valid Acc : 0.958682\n"
     ]
    },
    {
     "data": {
      "application/vnd.jupyter.widget-view+json": {
       "model_id": "a464b700901346ad8d8f679740e9835f",
       "version_major": 2,
       "version_minor": 0
      },
      "text/plain": [
       "  0%|          | 0/308 [00:00<?, ?it/s]"
      ]
     },
     "metadata": {},
     "output_type": "display_data"
    },
    {
     "data": {
      "application/vnd.jupyter.widget-view+json": {
       "model_id": "fa3105fe5f39471493cf1e5256857bc3",
       "version_major": 2,
       "version_minor": 0
      },
      "text/plain": [
       "  0%|          | 0/47 [00:00<?, ?it/s]"
      ]
     },
     "metadata": {},
     "output_type": "display_data"
    },
    {
     "name": "stdout",
     "output_type": "stream",
     "text": [
      "[[492.   4.   4.]\n",
      " [  0. 489.  11.]\n",
      " [  4.  38. 458.]]\n",
      "Adjusting learning rate of group 0 to 1.0000e-03.\n",
      "Epoch : 16 Train Loss : 0.063825 Train Acc : 0.977222\n",
      "Epoch : 16 Valid Loss : 0.136858 Valid Acc : 0.959347\n"
     ]
    },
    {
     "data": {
      "application/vnd.jupyter.widget-view+json": {
       "model_id": "6d15b78312404fa0a8e60a7bae4d4728",
       "version_major": 2,
       "version_minor": 0
      },
      "text/plain": [
       "  0%|          | 0/308 [00:00<?, ?it/s]"
      ]
     },
     "metadata": {},
     "output_type": "display_data"
    },
    {
     "data": {
      "application/vnd.jupyter.widget-view+json": {
       "model_id": "8dde6d8c4cb447bd95bd5a27e6e6b5ef",
       "version_major": 2,
       "version_minor": 0
      },
      "text/plain": [
       "  0%|          | 0/47 [00:00<?, ?it/s]"
      ]
     },
     "metadata": {},
     "output_type": "display_data"
    },
    {
     "name": "stdout",
     "output_type": "stream",
     "text": [
      "[[486.   7.   7.]\n",
      " [  1. 487.  12.]\n",
      " [  7.  40. 453.]]\n",
      "Epoch : 17 Train Loss : 0.114249 Train Acc : 0.959314\n",
      "Epoch : 17 Valid Loss : 0.177782 Valid Acc : 0.950608\n"
     ]
    },
    {
     "data": {
      "application/vnd.jupyter.widget-view+json": {
       "model_id": "042437765af94d669df2d811bf0c8712",
       "version_major": 2,
       "version_minor": 0
      },
      "text/plain": [
       "  0%|          | 0/308 [00:00<?, ?it/s]"
      ]
     },
     "metadata": {},
     "output_type": "display_data"
    },
    {
     "data": {
      "application/vnd.jupyter.widget-view+json": {
       "model_id": "8e2040006e82465bb4b6f10a61f0c872",
       "version_major": 2,
       "version_minor": 0
      },
      "text/plain": [
       "  0%|          | 0/47 [00:00<?, ?it/s]"
      ]
     },
     "metadata": {},
     "output_type": "display_data"
    },
    {
     "name": "stdout",
     "output_type": "stream",
     "text": [
      "[[494.   5.   1.]\n",
      " [ 17. 464.  19.]\n",
      " [ 27.  32. 441.]]\n",
      "Epoch : 18 Train Loss : 0.103471 Train Acc : 0.964501\n",
      "Epoch : 18 Valid Loss : 0.198322 Valid Acc : 0.932656\n"
     ]
    },
    {
     "data": {
      "application/vnd.jupyter.widget-view+json": {
       "model_id": "77a26195a9cc4f38992afeded81a1040",
       "version_major": 2,
       "version_minor": 0
      },
      "text/plain": [
       "  0%|          | 0/308 [00:00<?, ?it/s]"
      ]
     },
     "metadata": {},
     "output_type": "display_data"
    },
    {
     "data": {
      "application/vnd.jupyter.widget-view+json": {
       "model_id": "e2a04237f3ea4414b3afab3715f59bdd",
       "version_major": 2,
       "version_minor": 0
      },
      "text/plain": [
       "  0%|          | 0/47 [00:00<?, ?it/s]"
      ]
     },
     "metadata": {},
     "output_type": "display_data"
    },
    {
     "name": "stdout",
     "output_type": "stream",
     "text": [
      "[[487.   7.   6.]\n",
      " [  0. 483.  17.]\n",
      " [  5.  49. 446.]]\n",
      "Epoch : 19 Train Loss : 0.098619 Train Acc : 0.965300\n",
      "Epoch : 19 Valid Loss : 0.177692 Valid Acc : 0.944054\n"
     ]
    },
    {
     "data": {
      "application/vnd.jupyter.widget-view+json": {
       "model_id": "aeeaf69429d44aa4a94b30c9296d4645",
       "version_major": 2,
       "version_minor": 0
      },
      "text/plain": [
       "  0%|          | 0/308 [00:00<?, ?it/s]"
      ]
     },
     "metadata": {},
     "output_type": "display_data"
    },
    {
     "data": {
      "application/vnd.jupyter.widget-view+json": {
       "model_id": "7597b52482584706b3fd6331d17ba0dc",
       "version_major": 2,
       "version_minor": 0
      },
      "text/plain": [
       "  0%|          | 0/47 [00:00<?, ?it/s]"
      ]
     },
     "metadata": {},
     "output_type": "display_data"
    },
    {
     "name": "stdout",
     "output_type": "stream",
     "text": [
      "[[479.  10.  11.]\n",
      " [  1. 479.  20.]\n",
      " [  3.  44. 453.]]\n",
      "Epoch : 20 Train Loss : 0.085770 Train Acc : 0.968813\n",
      "Epoch : 20 Valid Loss : 0.198290 Valid Acc : 0.940729\n"
     ]
    },
    {
     "data": {
      "application/vnd.jupyter.widget-view+json": {
       "model_id": "37d80b3119214a699f4b6e0c1a7510e5",
       "version_major": 2,
       "version_minor": 0
      },
      "text/plain": [
       "  0%|          | 0/308 [00:00<?, ?it/s]"
      ]
     },
     "metadata": {},
     "output_type": "display_data"
    },
    {
     "data": {
      "application/vnd.jupyter.widget-view+json": {
       "model_id": "47ed4920c0e64fcb8dcaac9206bc19e5",
       "version_major": 2,
       "version_minor": 0
      },
      "text/plain": [
       "  0%|          | 0/47 [00:00<?, ?it/s]"
      ]
     },
     "metadata": {},
     "output_type": "display_data"
    },
    {
     "name": "stdout",
     "output_type": "stream",
     "text": [
      "[[490.   6.   4.]\n",
      " [  0. 494.   6.]\n",
      " [  0.  68. 432.]]\n",
      "Epoch : 21 Train Loss : 0.079139 Train Acc : 0.972910\n",
      "Epoch : 21 Valid Loss : 0.175540 Valid Acc : 0.943864\n"
     ]
    },
    {
     "data": {
      "application/vnd.jupyter.widget-view+json": {
       "model_id": "829311b6cbd843c29943b8224c51ac87",
       "version_major": 2,
       "version_minor": 0
      },
      "text/plain": [
       "  0%|          | 0/308 [00:00<?, ?it/s]"
      ]
     },
     "metadata": {},
     "output_type": "display_data"
    },
    {
     "data": {
      "application/vnd.jupyter.widget-view+json": {
       "model_id": "e00152ef247143389d6beaca6dca9909",
       "version_major": 2,
       "version_minor": 0
      },
      "text/plain": [
       "  0%|          | 0/47 [00:00<?, ?it/s]"
      ]
     },
     "metadata": {},
     "output_type": "display_data"
    },
    {
     "name": "stdout",
     "output_type": "stream",
     "text": [
      "[[488.   3.   9.]\n",
      " [  4. 473.  23.]\n",
      " [  1.  37. 462.]]\n",
      "Epoch : 22 Train Loss : 0.073365 Train Acc : 0.974342\n",
      "Epoch : 22 Valid Loss : 0.155434 Valid Acc : 0.948613\n"
     ]
    },
    {
     "data": {
      "application/vnd.jupyter.widget-view+json": {
       "model_id": "411f9628ac964082b6f90a01ccb3f908",
       "version_major": 2,
       "version_minor": 0
      },
      "text/plain": [
       "  0%|          | 0/308 [00:00<?, ?it/s]"
      ]
     },
     "metadata": {},
     "output_type": "display_data"
    },
    {
     "data": {
      "application/vnd.jupyter.widget-view+json": {
       "model_id": "2a3b848ec6374eafb88fbaaf092dad65",
       "version_major": 2,
       "version_minor": 0
      },
      "text/plain": [
       "  0%|          | 0/47 [00:00<?, ?it/s]"
      ]
     },
     "metadata": {},
     "output_type": "display_data"
    },
    {
     "name": "stdout",
     "output_type": "stream",
     "text": [
      "[[476.  12.  12.]\n",
      " [  0. 486.  14.]\n",
      " [  0.  33. 467.]]\n",
      "Epoch : 23 Train Loss : 0.083625 Train Acc : 0.971287\n",
      "Epoch : 23 Valid Loss : 0.172412 Valid Acc : 0.952698\n"
     ]
    },
    {
     "data": {
      "application/vnd.jupyter.widget-view+json": {
       "model_id": "9067935ca9d94d2fb1376f9f4467658c",
       "version_major": 2,
       "version_minor": 0
      },
      "text/plain": [
       "  0%|          | 0/308 [00:00<?, ?it/s]"
      ]
     },
     "metadata": {},
     "output_type": "display_data"
    },
    {
     "data": {
      "application/vnd.jupyter.widget-view+json": {
       "model_id": "9a38d4ace73d4636ad108df2acd2843b",
       "version_major": 2,
       "version_minor": 0
      },
      "text/plain": [
       "  0%|          | 0/47 [00:00<?, ?it/s]"
      ]
     },
     "metadata": {},
     "output_type": "display_data"
    },
    {
     "name": "stdout",
     "output_type": "stream",
     "text": [
      "[[493.   3.   4.]\n",
      " [  0. 484.  16.]\n",
      " [  2.  33. 465.]]\n",
      "Epoch : 24 Train Loss : 0.070450 Train Acc : 0.975041\n",
      "Epoch : 24 Valid Loss : 0.136015 Valid Acc : 0.961341\n"
     ]
    },
    {
     "data": {
      "application/vnd.jupyter.widget-view+json": {
       "model_id": "6102a6838d0e4a6fb8f3ea64b7db909a",
       "version_major": 2,
       "version_minor": 0
      },
      "text/plain": [
       "  0%|          | 0/308 [00:00<?, ?it/s]"
      ]
     },
     "metadata": {},
     "output_type": "display_data"
    },
    {
     "data": {
      "application/vnd.jupyter.widget-view+json": {
       "model_id": "0e59f32c937444b691b698fe53acc455",
       "version_major": 2,
       "version_minor": 0
      },
      "text/plain": [
       "  0%|          | 0/47 [00:00<?, ?it/s]"
      ]
     },
     "metadata": {},
     "output_type": "display_data"
    },
    {
     "name": "stdout",
     "output_type": "stream",
     "text": [
      "[[492.   3.   5.]\n",
      " [  2. 466.  32.]\n",
      " [  5.  21. 474.]]\n",
      "Epoch : 25 Train Loss : 0.066050 Train Acc : 0.976258\n",
      "Epoch : 25 Valid Loss : 0.154634 Valid Acc : 0.954692\n",
      "Adjusting learning rate of group 0 to 1.0000e-03.\n"
     ]
    },
    {
     "data": {
      "application/vnd.jupyter.widget-view+json": {
       "model_id": "054fdc91fd7b4f4096df76eee7be51b2",
       "version_major": 2,
       "version_minor": 0
      },
      "text/plain": [
       "  0%|          | 0/308 [00:00<?, ?it/s]"
      ]
     },
     "metadata": {},
     "output_type": "display_data"
    },
    {
     "data": {
      "application/vnd.jupyter.widget-view+json": {
       "model_id": "a9b9032244394428afb37f324c6a39af",
       "version_major": 2,
       "version_minor": 0
      },
      "text/plain": [
       "  0%|          | 0/47 [00:00<?, ?it/s]"
      ]
     },
     "metadata": {},
     "output_type": "display_data"
    },
    {
     "name": "stdout",
     "output_type": "stream",
     "text": [
      "[[490.   1.   9.]\n",
      " [  2. 481.  17.]\n",
      " [  0.   7. 493.]]\n",
      "Adjusting learning rate of group 0 to 5.0500e-04.\n",
      "Validation loss decreased (inf --> 0.083660).Saving model ...\n",
      "Validation Accuracy increased (0.000000 --> 0.976064).Saving model ...\n",
      "Epoch : 1 Train Loss : 0.073733 Train Acc : 0.973569\n",
      "Epoch : 1 Valid Loss : 0.083660 Valid Acc : 0.976064\n"
     ]
    },
    {
     "data": {
      "application/vnd.jupyter.widget-view+json": {
       "model_id": "8337944bd5274c1ea01fef7ae1e65149",
       "version_major": 2,
       "version_minor": 0
      },
      "text/plain": [
       "  0%|          | 0/308 [00:00<?, ?it/s]"
      ]
     },
     "metadata": {},
     "output_type": "display_data"
    },
    {
     "data": {
      "application/vnd.jupyter.widget-view+json": {
       "model_id": "a7b78174124f4caf9ca2717d2e1d48ce",
       "version_major": 2,
       "version_minor": 0
      },
      "text/plain": [
       "  0%|          | 0/47 [00:00<?, ?it/s]"
      ]
     },
     "metadata": {},
     "output_type": "display_data"
    },
    {
     "name": "stdout",
     "output_type": "stream",
     "text": [
      "[[496.   1.   3.]\n",
      " [  0. 497.   3.]\n",
      " [  0.   9. 491.]]\n",
      "Adjusting learning rate of group 0 to 1.0000e-05.\n",
      "Validation loss decreased (0.083660 --> 0.043807).Saving model ...\n",
      "Validation Accuracy increased (0.976064 --> 0.989362).Saving model ...\n",
      "Epoch : 2 Train Loss : 0.046615 Train Acc : 0.984172\n",
      "Epoch : 2 Valid Loss : 0.043807 Valid Acc : 0.989362\n"
     ]
    },
    {
     "data": {
      "application/vnd.jupyter.widget-view+json": {
       "model_id": "8fb0774469274338aa240a08886b5d18",
       "version_major": 2,
       "version_minor": 0
      },
      "text/plain": [
       "  0%|          | 0/308 [00:00<?, ?it/s]"
      ]
     },
     "metadata": {},
     "output_type": "display_data"
    },
    {
     "data": {
      "application/vnd.jupyter.widget-view+json": {
       "model_id": "a5951eb33f56437a92062104ea31b5ff",
       "version_major": 2,
       "version_minor": 0
      },
      "text/plain": [
       "  0%|          | 0/47 [00:00<?, ?it/s]"
      ]
     },
     "metadata": {},
     "output_type": "display_data"
    },
    {
     "name": "stdout",
     "output_type": "stream",
     "text": [
      "[[496.   1.   3.]\n",
      " [  0. 496.   4.]\n",
      " [  0.   8. 492.]]\n",
      "Adjusting learning rate of group 0 to 5.0500e-04.\n",
      "Validation loss decreased (0.043807 --> 0.036359).Saving model ...\n",
      "Validation Accuracy increased (0.989362 --> 0.989362).Saving model ...\n",
      "Epoch : 3 Train Loss : 0.035154 Train Acc : 0.988129\n",
      "Epoch : 3 Valid Loss : 0.036359 Valid Acc : 0.989362\n"
     ]
    },
    {
     "data": {
      "application/vnd.jupyter.widget-view+json": {
       "model_id": "cf035d3cb90740b1ad748d76e827004d",
       "version_major": 2,
       "version_minor": 0
      },
      "text/plain": [
       "  0%|          | 0/308 [00:00<?, ?it/s]"
      ]
     },
     "metadata": {},
     "output_type": "display_data"
    },
    {
     "data": {
      "application/vnd.jupyter.widget-view+json": {
       "model_id": "58abd03b04844b9da1e731d1a0013b26",
       "version_major": 2,
       "version_minor": 0
      },
      "text/plain": [
       "  0%|          | 0/47 [00:00<?, ?it/s]"
      ]
     },
     "metadata": {},
     "output_type": "display_data"
    },
    {
     "name": "stdout",
     "output_type": "stream",
     "text": [
      "[[498.   1.   1.]\n",
      " [  0. 498.   2.]\n",
      " [  1.  11. 488.]]\n",
      "Adjusting learning rate of group 0 to 1.0000e-03.\n",
      "Epoch : 4 Train Loss : 0.040317 Train Acc : 0.985948\n",
      "Epoch : 4 Valid Loss : 0.039892 Valid Acc : 0.989267\n"
     ]
    },
    {
     "data": {
      "application/vnd.jupyter.widget-view+json": {
       "model_id": "7e17ed9d31594f158f01b1a054fc4449",
       "version_major": 2,
       "version_minor": 0
      },
      "text/plain": [
       "  0%|          | 0/308 [00:00<?, ?it/s]"
      ]
     },
     "metadata": {},
     "output_type": "display_data"
    },
    {
     "data": {
      "application/vnd.jupyter.widget-view+json": {
       "model_id": "db364b3ee31d479c9ddab9c779cdf41b",
       "version_major": 2,
       "version_minor": 0
      },
      "text/plain": [
       "  0%|          | 0/47 [00:00<?, ?it/s]"
      ]
     },
     "metadata": {},
     "output_type": "display_data"
    },
    {
     "name": "stdout",
     "output_type": "stream",
     "text": [
      "[[493.   3.   4.]\n",
      " [  1. 486.  13.]\n",
      " [  1.  10. 489.]]\n",
      "Adjusting learning rate of group 0 to 5.0500e-04.\n",
      "Epoch : 5 Train Loss : 0.098297 Train Acc : 0.967431\n",
      "Epoch : 5 Valid Loss : 0.069365 Valid Acc : 0.978628\n"
     ]
    },
    {
     "data": {
      "application/vnd.jupyter.widget-view+json": {
       "model_id": "d77a6273e12242238b7966214713782e",
       "version_major": 2,
       "version_minor": 0
      },
      "text/plain": [
       "  0%|          | 0/308 [00:00<?, ?it/s]"
      ]
     },
     "metadata": {},
     "output_type": "display_data"
    },
    {
     "data": {
      "application/vnd.jupyter.widget-view+json": {
       "model_id": "1e676b440ae04a058210aa2b7edced93",
       "version_major": 2,
       "version_minor": 0
      },
      "text/plain": [
       "  0%|          | 0/47 [00:00<?, ?it/s]"
      ]
     },
     "metadata": {},
     "output_type": "display_data"
    },
    {
     "name": "stdout",
     "output_type": "stream",
     "text": [
      "[[499.   0.   1.]\n",
      " [  3. 485.  12.]\n",
      " [  1.   9. 490.]]\n",
      "Adjusting learning rate of group 0 to 1.0000e-05.\n",
      "Epoch : 6 Train Loss : 0.044734 Train Acc : 0.985035\n",
      "Epoch : 6 Valid Loss : 0.053977 Valid Acc : 0.982713\n"
     ]
    },
    {
     "data": {
      "application/vnd.jupyter.widget-view+json": {
       "model_id": "1e12146e563841ea9312a62467a1de5e",
       "version_major": 2,
       "version_minor": 0
      },
      "text/plain": [
       "  0%|          | 0/308 [00:00<?, ?it/s]"
      ]
     },
     "metadata": {},
     "output_type": "display_data"
    },
    {
     "data": {
      "application/vnd.jupyter.widget-view+json": {
       "model_id": "278cc9cfb4c84f18aca343536576dee6",
       "version_major": 2,
       "version_minor": 0
      },
      "text/plain": [
       "  0%|          | 0/47 [00:00<?, ?it/s]"
      ]
     },
     "metadata": {},
     "output_type": "display_data"
    },
    {
     "name": "stdout",
     "output_type": "stream",
     "text": [
      "[[499.   0.   1.]\n",
      " [  2. 490.   8.]\n",
      " [  1.  10. 489.]]\n",
      "Adjusting learning rate of group 0 to 5.0500e-04.\n",
      "Epoch : 7 Train Loss : 0.033021 Train Acc : 0.988687\n",
      "Epoch : 7 Valid Loss : 0.048153 Valid Acc : 0.985277\n"
     ]
    },
    {
     "data": {
      "application/vnd.jupyter.widget-view+json": {
       "model_id": "87fbc7f04ef746f1a7a9c3172bd2a4e7",
       "version_major": 2,
       "version_minor": 0
      },
      "text/plain": [
       "  0%|          | 0/308 [00:00<?, ?it/s]"
      ]
     },
     "metadata": {},
     "output_type": "display_data"
    },
    {
     "data": {
      "application/vnd.jupyter.widget-view+json": {
       "model_id": "7b61267dba524f218d64f1e164a42cc0",
       "version_major": 2,
       "version_minor": 0
      },
      "text/plain": [
       "  0%|          | 0/47 [00:00<?, ?it/s]"
      ]
     },
     "metadata": {},
     "output_type": "display_data"
    },
    {
     "name": "stdout",
     "output_type": "stream",
     "text": [
      "[[492.   4.   4.]\n",
      " [  0. 496.   4.]\n",
      " [  1.  26. 473.]]\n",
      "Adjusting learning rate of group 0 to 1.0000e-03.\n",
      "Epoch : 8 Train Loss : 0.033750 Train Acc : 0.987887\n",
      "Epoch : 8 Valid Loss : 0.102086 Valid Acc : 0.973974\n"
     ]
    },
    {
     "data": {
      "application/vnd.jupyter.widget-view+json": {
       "model_id": "2e2859a2bb174cd6ba59603aaa0eab79",
       "version_major": 2,
       "version_minor": 0
      },
      "text/plain": [
       "  0%|          | 0/308 [00:00<?, ?it/s]"
      ]
     },
     "metadata": {},
     "output_type": "display_data"
    },
    {
     "data": {
      "application/vnd.jupyter.widget-view+json": {
       "model_id": "98787f287bb7422189890b4c72c4b674",
       "version_major": 2,
       "version_minor": 0
      },
      "text/plain": [
       "  0%|          | 0/47 [00:00<?, ?it/s]"
      ]
     },
     "metadata": {},
     "output_type": "display_data"
    },
    {
     "name": "stdout",
     "output_type": "stream",
     "text": [
      "[[499.   1.   0.]\n",
      " [  0. 493.   7.]\n",
      " [  1.  17. 482.]]\n",
      "Adjusting learning rate of group 0 to 5.0500e-04.\n",
      "Epoch : 9 Train Loss : 0.062355 Train Acc : 0.978350\n",
      "Epoch : 9 Valid Loss : 0.068084 Valid Acc : 0.982713\n"
     ]
    },
    {
     "data": {
      "application/vnd.jupyter.widget-view+json": {
       "model_id": "3744e5ab90f24005841c6bbe3c1caad8",
       "version_major": 2,
       "version_minor": 0
      },
      "text/plain": [
       "  0%|          | 0/308 [00:00<?, ?it/s]"
      ]
     },
     "metadata": {},
     "output_type": "display_data"
    },
    {
     "data": {
      "application/vnd.jupyter.widget-view+json": {
       "model_id": "a8f2de0e31674e16aa6d95fadbadb92a",
       "version_major": 2,
       "version_minor": 0
      },
      "text/plain": [
       "  0%|          | 0/47 [00:00<?, ?it/s]"
      ]
     },
     "metadata": {},
     "output_type": "display_data"
    },
    {
     "name": "stdout",
     "output_type": "stream",
     "text": [
      "[[497.   2.   1.]\n",
      " [  0. 495.   5.]\n",
      " [  2.  21. 477.]]\n",
      "Adjusting learning rate of group 0 to 1.0000e-05.\n",
      "Epoch : 10 Train Loss : 0.040697 Train Acc : 0.985998\n",
      "Epoch : 10 Valid Loss : 0.085992 Valid Acc : 0.979293\n"
     ]
    },
    {
     "data": {
      "application/vnd.jupyter.widget-view+json": {
       "model_id": "979caf3ce52a449a876251f29233bc5c",
       "version_major": 2,
       "version_minor": 0
      },
      "text/plain": [
       "  0%|          | 0/308 [00:00<?, ?it/s]"
      ]
     },
     "metadata": {},
     "output_type": "display_data"
    },
    {
     "data": {
      "application/vnd.jupyter.widget-view+json": {
       "model_id": "96989f462f374a02b61c3f1e440645d0",
       "version_major": 2,
       "version_minor": 0
      },
      "text/plain": [
       "  0%|          | 0/47 [00:00<?, ?it/s]"
      ]
     },
     "metadata": {},
     "output_type": "display_data"
    },
    {
     "name": "stdout",
     "output_type": "stream",
     "text": [
      "[[497.   2.   1.]\n",
      " [  0. 490.  10.]\n",
      " [  0.  15. 485.]]\n",
      "Adjusting learning rate of group 0 to 5.0500e-04.\n",
      "Epoch : 11 Train Loss : 0.031227 Train Acc : 0.989448\n",
      "Epoch : 11 Valid Loss : 0.063347 Valid Acc : 0.981383\n"
     ]
    },
    {
     "data": {
      "application/vnd.jupyter.widget-view+json": {
       "model_id": "4ff34216a400484b9147e3ab7b54d4bd",
       "version_major": 2,
       "version_minor": 0
      },
      "text/plain": [
       "  0%|          | 0/308 [00:00<?, ?it/s]"
      ]
     },
     "metadata": {},
     "output_type": "display_data"
    },
    {
     "data": {
      "application/vnd.jupyter.widget-view+json": {
       "model_id": "2f8832e3462f48ba90eada7f4d965c75",
       "version_major": 2,
       "version_minor": 0
      },
      "text/plain": [
       "  0%|          | 0/47 [00:00<?, ?it/s]"
      ]
     },
     "metadata": {},
     "output_type": "display_data"
    },
    {
     "name": "stdout",
     "output_type": "stream",
     "text": [
      "[[497.   2.   1.]\n",
      " [  0. 490.  10.]\n",
      " [  0.  14. 486.]]\n",
      "Adjusting learning rate of group 0 to 1.0000e-03.\n",
      "Epoch : 12 Train Loss : 0.026684 Train Acc : 0.990158\n",
      "Epoch : 12 Valid Loss : 0.056878 Valid Acc : 0.982048\n"
     ]
    },
    {
     "data": {
      "application/vnd.jupyter.widget-view+json": {
       "model_id": "d0ca375daf19414ba07b2ec8b67bea41",
       "version_major": 2,
       "version_minor": 0
      },
      "text/plain": [
       "  0%|          | 0/308 [00:00<?, ?it/s]"
      ]
     },
     "metadata": {},
     "output_type": "display_data"
    },
    {
     "data": {
      "application/vnd.jupyter.widget-view+json": {
       "model_id": "1dfed61490f34996bbb308936ff30f18",
       "version_major": 2,
       "version_minor": 0
      },
      "text/plain": [
       "  0%|          | 0/47 [00:00<?, ?it/s]"
      ]
     },
     "metadata": {},
     "output_type": "display_data"
    },
    {
     "name": "stdout",
     "output_type": "stream",
     "text": [
      "[[485.   9.   6.]\n",
      " [  2. 494.   4.]\n",
      " [  0.  49. 451.]]\n",
      "Adjusting learning rate of group 0 to 5.0500e-04.\n",
      "Epoch : 13 Train Loss : 0.060307 Train Acc : 0.978541\n",
      "Epoch : 13 Valid Loss : 0.132511 Valid Acc : 0.953267\n"
     ]
    },
    {
     "data": {
      "application/vnd.jupyter.widget-view+json": {
       "model_id": "11e87ad3b9604c6fb92a0b686c3e6c2e",
       "version_major": 2,
       "version_minor": 0
      },
      "text/plain": [
       "  0%|          | 0/308 [00:00<?, ?it/s]"
      ]
     },
     "metadata": {},
     "output_type": "display_data"
    },
    {
     "data": {
      "application/vnd.jupyter.widget-view+json": {
       "model_id": "8284ff6c0346475eb644c5e15da2f763",
       "version_major": 2,
       "version_minor": 0
      },
      "text/plain": [
       "  0%|          | 0/47 [00:00<?, ?it/s]"
      ]
     },
     "metadata": {},
     "output_type": "display_data"
    },
    {
     "name": "stdout",
     "output_type": "stream",
     "text": [
      "[[496.   3.   1.]\n",
      " [  0. 488.  12.]\n",
      " [  1.  15. 484.]]\n",
      "Adjusting learning rate of group 0 to 1.0000e-05.\n",
      "Epoch : 14 Train Loss : 0.031908 Train Acc : 0.988890\n",
      "Epoch : 14 Valid Loss : 0.070977 Valid Acc : 0.978628\n"
     ]
    },
    {
     "data": {
      "application/vnd.jupyter.widget-view+json": {
       "model_id": "fa7ab11129cb46d0a16c5d691538c993",
       "version_major": 2,
       "version_minor": 0
      },
      "text/plain": [
       "  0%|          | 0/308 [00:00<?, ?it/s]"
      ]
     },
     "metadata": {},
     "output_type": "display_data"
    },
    {
     "data": {
      "application/vnd.jupyter.widget-view+json": {
       "model_id": "dd1bb698c5d244d2a9f664ca59ddffff",
       "version_major": 2,
       "version_minor": 0
      },
      "text/plain": [
       "  0%|          | 0/47 [00:00<?, ?it/s]"
      ]
     },
     "metadata": {},
     "output_type": "display_data"
    },
    {
     "name": "stdout",
     "output_type": "stream",
     "text": [
      "[[497.   2.   1.]\n",
      " [  0. 492.   8.]\n",
      " [  1.  14. 485.]]\n",
      "Adjusting learning rate of group 0 to 5.0500e-04.\n",
      "Epoch : 15 Train Loss : 0.028083 Train Acc : 0.989917\n",
      "Epoch : 15 Valid Loss : 0.063759 Valid Acc : 0.982618\n"
     ]
    },
    {
     "data": {
      "application/vnd.jupyter.widget-view+json": {
       "model_id": "d309f1ffb48843ab90969b02ac0ee669",
       "version_major": 2,
       "version_minor": 0
      },
      "text/plain": [
       "  0%|          | 0/308 [00:00<?, ?it/s]"
      ]
     },
     "metadata": {},
     "output_type": "display_data"
    },
    {
     "data": {
      "application/vnd.jupyter.widget-view+json": {
       "model_id": "1e21af27049c45c9ac0c8d809eee861c",
       "version_major": 2,
       "version_minor": 0
      },
      "text/plain": [
       "  0%|          | 0/47 [00:00<?, ?it/s]"
      ]
     },
     "metadata": {},
     "output_type": "display_data"
    },
    {
     "name": "stdout",
     "output_type": "stream",
     "text": [
      "[[499.   1.   0.]\n",
      " [  0. 491.   9.]\n",
      " [  1.  18. 481.]]\n",
      "Adjusting learning rate of group 0 to 1.0000e-03.\n",
      "Epoch : 16 Train Loss : 0.021634 Train Acc : 0.992656\n",
      "Epoch : 16 Valid Loss : 0.077089 Valid Acc : 0.980718\n"
     ]
    },
    {
     "data": {
      "application/vnd.jupyter.widget-view+json": {
       "model_id": "421f35d2804446848fe8c1e0a9a4858e",
       "version_major": 2,
       "version_minor": 0
      },
      "text/plain": [
       "  0%|          | 0/308 [00:00<?, ?it/s]"
      ]
     },
     "metadata": {},
     "output_type": "display_data"
    },
    {
     "data": {
      "application/vnd.jupyter.widget-view+json": {
       "model_id": "55d1c235b5c041798b686a37d2182639",
       "version_major": 2,
       "version_minor": 0
      },
      "text/plain": [
       "  0%|          | 0/47 [00:00<?, ?it/s]"
      ]
     },
     "metadata": {},
     "output_type": "display_data"
    },
    {
     "name": "stdout",
     "output_type": "stream",
     "text": [
      "[[490.   8.   2.]\n",
      " [  2. 494.   4.]\n",
      " [  3.  34. 463.]]\n",
      "Epoch : 17 Train Loss : 0.054089 Train Acc : 0.982256\n",
      "Epoch : 17 Valid Loss : 0.180685 Valid Acc : 0.964476\n"
     ]
    },
    {
     "data": {
      "application/vnd.jupyter.widget-view+json": {
       "model_id": "5501973622ea4dfd8757e564d50e0c8e",
       "version_major": 2,
       "version_minor": 0
      },
      "text/plain": [
       "  0%|          | 0/308 [00:00<?, ?it/s]"
      ]
     },
     "metadata": {},
     "output_type": "display_data"
    },
    {
     "data": {
      "application/vnd.jupyter.widget-view+json": {
       "model_id": "f93baa69117a4f9cb5bbe59c462f726a",
       "version_major": 2,
       "version_minor": 0
      },
      "text/plain": [
       "  0%|          | 0/47 [00:00<?, ?it/s]"
      ]
     },
     "metadata": {},
     "output_type": "display_data"
    },
    {
     "name": "stdout",
     "output_type": "stream",
     "text": [
      "[[496.   3.   1.]\n",
      " [  1. 486.  13.]\n",
      " [  2.  14. 484.]]\n",
      "Epoch : 18 Train Loss : 0.055165 Train Acc : 0.980836\n",
      "Epoch : 18 Valid Loss : 0.074551 Valid Acc : 0.977394\n"
     ]
    },
    {
     "data": {
      "application/vnd.jupyter.widget-view+json": {
       "model_id": "bd99ebf4957f44b3a65870bfa94fd3c7",
       "version_major": 2,
       "version_minor": 0
      },
      "text/plain": [
       "  0%|          | 0/308 [00:00<?, ?it/s]"
      ]
     },
     "metadata": {},
     "output_type": "display_data"
    },
    {
     "data": {
      "application/vnd.jupyter.widget-view+json": {
       "model_id": "3fa3ed6a02e94f15bb9e44b271512013",
       "version_major": 2,
       "version_minor": 0
      },
      "text/plain": [
       "  0%|          | 0/47 [00:00<?, ?it/s]"
      ]
     },
     "metadata": {},
     "output_type": "display_data"
    },
    {
     "name": "stdout",
     "output_type": "stream",
     "text": [
      "[[493.   3.   4.]\n",
      " [  1. 491.   8.]\n",
      " [  1.  24. 475.]]\n",
      "Epoch : 19 Train Loss : 0.046598 Train Acc : 0.983727\n",
      "Epoch : 19 Valid Loss : 0.096180 Valid Acc : 0.972739\n"
     ]
    },
    {
     "data": {
      "application/vnd.jupyter.widget-view+json": {
       "model_id": "0d950a0686e5417f9214976fa1f3a8ce",
       "version_major": 2,
       "version_minor": 0
      },
      "text/plain": [
       "  0%|          | 0/308 [00:00<?, ?it/s]"
      ]
     },
     "metadata": {},
     "output_type": "display_data"
    },
    {
     "data": {
      "application/vnd.jupyter.widget-view+json": {
       "model_id": "1f5c5a00fd7949c2a82ed0781bafdf7c",
       "version_major": 2,
       "version_minor": 0
      },
      "text/plain": [
       "  0%|          | 0/47 [00:00<?, ?it/s]"
      ]
     },
     "metadata": {},
     "output_type": "display_data"
    },
    {
     "name": "stdout",
     "output_type": "stream",
     "text": [
      "[[495.   3.   2.]\n",
      " [  0. 487.  13.]\n",
      " [  1.  20. 479.]]\n",
      "Epoch : 20 Train Loss : 0.051994 Train Acc : 0.982599\n",
      "Epoch : 20 Valid Loss : 0.081621 Valid Acc : 0.974069\n"
     ]
    },
    {
     "data": {
      "application/vnd.jupyter.widget-view+json": {
       "model_id": "86f389a5fabc42cbb9f7b79e28d11637",
       "version_major": 2,
       "version_minor": 0
      },
      "text/plain": [
       "  0%|          | 0/308 [00:00<?, ?it/s]"
      ]
     },
     "metadata": {},
     "output_type": "display_data"
    },
    {
     "data": {
      "application/vnd.jupyter.widget-view+json": {
       "model_id": "f156442bd6b8450e8d70ed07191862f5",
       "version_major": 2,
       "version_minor": 0
      },
      "text/plain": [
       "  0%|          | 0/47 [00:00<?, ?it/s]"
      ]
     },
     "metadata": {},
     "output_type": "display_data"
    },
    {
     "name": "stdout",
     "output_type": "stream",
     "text": [
      "[[495.   5.   0.]\n",
      " [  0. 483.  17.]\n",
      " [  5.  24. 471.]]\n",
      "Epoch : 21 Train Loss : 0.039984 Train Acc : 0.986049\n",
      "Epoch : 21 Valid Loss : 0.396313 Valid Acc : 0.965900\n"
     ]
    },
    {
     "data": {
      "application/vnd.jupyter.widget-view+json": {
       "model_id": "f23527e75bbd4b69a5baaef5a5a544c5",
       "version_major": 2,
       "version_minor": 0
      },
      "text/plain": [
       "  0%|          | 0/308 [00:00<?, ?it/s]"
      ]
     },
     "metadata": {},
     "output_type": "display_data"
    },
    {
     "data": {
      "application/vnd.jupyter.widget-view+json": {
       "model_id": "eef3f96e0c374ba0871cc104215ea8b5",
       "version_major": 2,
       "version_minor": 0
      },
      "text/plain": [
       "  0%|          | 0/47 [00:00<?, ?it/s]"
      ]
     },
     "metadata": {},
     "output_type": "display_data"
    },
    {
     "name": "stdout",
     "output_type": "stream",
     "text": [
      "[[492.   6.   2.]\n",
      " [  0. 490.  10.]\n",
      " [  3.  21. 476.]]\n",
      "Epoch : 22 Train Loss : 0.025229 Train Acc : 0.991274\n",
      "Epoch : 22 Valid Loss : 0.386373 Valid Acc : 0.972074\n"
     ]
    },
    {
     "data": {
      "application/vnd.jupyter.widget-view+json": {
       "model_id": "9d23cb1b47d5428790e62df9d999220f",
       "version_major": 2,
       "version_minor": 0
      },
      "text/plain": [
       "  0%|          | 0/308 [00:00<?, ?it/s]"
      ]
     },
     "metadata": {},
     "output_type": "display_data"
    },
    {
     "data": {
      "application/vnd.jupyter.widget-view+json": {
       "model_id": "767665ddaeb44ff193c0204037301e8b",
       "version_major": 2,
       "version_minor": 0
      },
      "text/plain": [
       "  0%|          | 0/47 [00:00<?, ?it/s]"
      ]
     },
     "metadata": {},
     "output_type": "display_data"
    },
    {
     "name": "stdout",
     "output_type": "stream",
     "text": [
      "[[493.   6.   1.]\n",
      " [  1. 486.  13.]\n",
      " [  2.  21. 477.]]\n",
      "Epoch : 23 Train Loss : 0.015684 Train Acc : 0.995079\n",
      "Epoch : 23 Valid Loss : 0.294682 Valid Acc : 0.970745\n"
     ]
    },
    {
     "data": {
      "application/vnd.jupyter.widget-view+json": {
       "model_id": "e8d2a0c909d844f78a67532816672861",
       "version_major": 2,
       "version_minor": 0
      },
      "text/plain": [
       "  0%|          | 0/308 [00:00<?, ?it/s]"
      ]
     },
     "metadata": {},
     "output_type": "display_data"
    },
    {
     "data": {
      "application/vnd.jupyter.widget-view+json": {
       "model_id": "f2e7bd4066af4c1cbabd725403840d98",
       "version_major": 2,
       "version_minor": 0
      },
      "text/plain": [
       "  0%|          | 0/47 [00:00<?, ?it/s]"
      ]
     },
     "metadata": {},
     "output_type": "display_data"
    },
    {
     "name": "stdout",
     "output_type": "stream",
     "text": [
      "[[494.   5.   1.]\n",
      " [  0. 490.  10.]\n",
      " [  2.  21. 477.]]\n",
      "Epoch : 24 Train Loss : 0.013358 Train Acc : 0.995142\n",
      "Epoch : 24 Valid Loss : 0.266369 Valid Acc : 0.974069\n"
     ]
    },
    {
     "data": {
      "application/vnd.jupyter.widget-view+json": {
       "model_id": "3e340f7761ec474e878c597f670f14a6",
       "version_major": 2,
       "version_minor": 0
      },
      "text/plain": [
       "  0%|          | 0/308 [00:00<?, ?it/s]"
      ]
     },
     "metadata": {},
     "output_type": "display_data"
    },
    {
     "data": {
      "application/vnd.jupyter.widget-view+json": {
       "model_id": "893826f8dbf94c74b7d8d523ed483ddd",
       "version_major": 2,
       "version_minor": 0
      },
      "text/plain": [
       "  0%|          | 0/47 [00:00<?, ?it/s]"
      ]
     },
     "metadata": {},
     "output_type": "display_data"
    },
    {
     "name": "stdout",
     "output_type": "stream",
     "text": [
      "[[495.   4.   1.]\n",
      " [  0. 491.   9.]\n",
      " [  2.  21. 477.]]\n",
      "Epoch : 25 Train Loss : 0.010434 Train Acc : 0.996094\n",
      "Epoch : 25 Valid Loss : 0.167363 Valid Acc : 0.975399\n",
      "Adjusting learning rate of group 0 to 1.0000e-03.\n"
     ]
    },
    {
     "data": {
      "application/vnd.jupyter.widget-view+json": {
       "model_id": "b46f2bd5560f4eba9536e50e5b382f2b",
       "version_major": 2,
       "version_minor": 0
      },
      "text/plain": [
       "  0%|          | 0/308 [00:00<?, ?it/s]"
      ]
     },
     "metadata": {},
     "output_type": "display_data"
    },
    {
     "data": {
      "application/vnd.jupyter.widget-view+json": {
       "model_id": "7e76c110f4a843b9ace03fce797f3e5e",
       "version_major": 2,
       "version_minor": 0
      },
      "text/plain": [
       "  0%|          | 0/47 [00:00<?, ?it/s]"
      ]
     },
     "metadata": {},
     "output_type": "display_data"
    },
    {
     "name": "stdout",
     "output_type": "stream",
     "text": [
      "[[494.   5.   1.]\n",
      " [  1. 497.   2.]\n",
      " [  2.  10. 488.]]\n",
      "Adjusting learning rate of group 0 to 5.0500e-04.\n",
      "Validation loss decreased (inf --> 0.044463).Saving model ...\n",
      "Validation Accuracy increased (0.000000 --> 0.985847).Saving model ...\n",
      "Epoch : 1 Train Loss : 0.045328 Train Acc : 0.984832\n",
      "Epoch : 1 Valid Loss : 0.044463 Valid Acc : 0.985847\n"
     ]
    },
    {
     "data": {
      "application/vnd.jupyter.widget-view+json": {
       "model_id": "2d5bab887b4e4e97abaaf6e19595399c",
       "version_major": 2,
       "version_minor": 0
      },
      "text/plain": [
       "  0%|          | 0/308 [00:00<?, ?it/s]"
      ]
     },
     "metadata": {},
     "output_type": "display_data"
    },
    {
     "data": {
      "application/vnd.jupyter.widget-view+json": {
       "model_id": "79025c27f26149bca0b1b4e4ae9baab2",
       "version_major": 2,
       "version_minor": 0
      },
      "text/plain": [
       "  0%|          | 0/47 [00:00<?, ?it/s]"
      ]
     },
     "metadata": {},
     "output_type": "display_data"
    },
    {
     "name": "stdout",
     "output_type": "stream",
     "text": [
      "[[498.   1.   1.]\n",
      " [  0. 498.   2.]\n",
      " [  2.   5. 493.]]\n",
      "Adjusting learning rate of group 0 to 1.0000e-05.\n",
      "Validation Accuracy increased (0.985847 --> 0.992591).Saving model ...\n",
      "Epoch : 2 Train Loss : 0.026612 Train Acc : 0.991224\n",
      "Epoch : 2 Valid Loss : 0.294085 Valid Acc : 0.992591\n"
     ]
    },
    {
     "data": {
      "application/vnd.jupyter.widget-view+json": {
       "model_id": "bba6f5ef07db43c6bbf02cf4adbfb59f",
       "version_major": 2,
       "version_minor": 0
      },
      "text/plain": [
       "  0%|          | 0/308 [00:00<?, ?it/s]"
      ]
     },
     "metadata": {},
     "output_type": "display_data"
    },
    {
     "data": {
      "application/vnd.jupyter.widget-view+json": {
       "model_id": "cc586a45a5e8417381d8e65238015c59",
       "version_major": 2,
       "version_minor": 0
      },
      "text/plain": [
       "  0%|          | 0/47 [00:00<?, ?it/s]"
      ]
     },
     "metadata": {},
     "output_type": "display_data"
    },
    {
     "name": "stdout",
     "output_type": "stream",
     "text": [
      "[[498.   1.   1.]\n",
      " [  0. 498.   2.]\n",
      " [  1.   5. 494.]]\n",
      "Adjusting learning rate of group 0 to 5.0500e-04.\n",
      "Validation Accuracy increased (0.992591 --> 0.993256).Saving model ...\n",
      "Epoch : 3 Train Loss : 0.017844 Train Acc : 0.993456\n",
      "Epoch : 3 Valid Loss : 0.110722 Valid Acc : 0.993256\n"
     ]
    },
    {
     "data": {
      "application/vnd.jupyter.widget-view+json": {
       "model_id": "326ef9efad954d1ba05f8bde9099230c",
       "version_major": 2,
       "version_minor": 0
      },
      "text/plain": [
       "  0%|          | 0/308 [00:00<?, ?it/s]"
      ]
     },
     "metadata": {},
     "output_type": "display_data"
    },
    {
     "data": {
      "application/vnd.jupyter.widget-view+json": {
       "model_id": "87fe75fe8bb8461f99037459b31ef3a8",
       "version_major": 2,
       "version_minor": 0
      },
      "text/plain": [
       "  0%|          | 0/47 [00:00<?, ?it/s]"
      ]
     },
     "metadata": {},
     "output_type": "display_data"
    },
    {
     "name": "stdout",
     "output_type": "stream",
     "text": [
      "[[497.   1.   2.]\n",
      " [  0. 496.   4.]\n",
      " [  0.   4. 496.]]\n",
      "Adjusting learning rate of group 0 to 1.0000e-03.\n",
      "Validation loss decreased (0.044463 --> 0.025269).Saving model ...\n",
      "Epoch : 4 Train Loss : 0.019418 Train Acc : 0.993214\n",
      "Epoch : 4 Valid Loss : 0.025269 Valid Acc : 0.992591\n"
     ]
    },
    {
     "data": {
      "application/vnd.jupyter.widget-view+json": {
       "model_id": "934cdf7fedb74f4294d033b378dbb2c7",
       "version_major": 2,
       "version_minor": 0
      },
      "text/plain": [
       "  0%|          | 0/308 [00:00<?, ?it/s]"
      ]
     },
     "metadata": {},
     "output_type": "display_data"
    },
    {
     "data": {
      "application/vnd.jupyter.widget-view+json": {
       "model_id": "c10913847c5b42a097915e9ac1fcec9d",
       "version_major": 2,
       "version_minor": 0
      },
      "text/plain": [
       "  0%|          | 0/47 [00:00<?, ?it/s]"
      ]
     },
     "metadata": {},
     "output_type": "display_data"
    },
    {
     "name": "stdout",
     "output_type": "stream",
     "text": [
      "[[497.   1.   2.]\n",
      " [  4. 485.  11.]\n",
      " [  1.  10. 489.]]\n",
      "Adjusting learning rate of group 0 to 5.0500e-04.\n",
      "Epoch : 5 Train Loss : 0.050386 Train Acc : 0.982396\n",
      "Epoch : 5 Valid Loss : 0.094428 Valid Acc : 0.980528\n"
     ]
    },
    {
     "data": {
      "application/vnd.jupyter.widget-view+json": {
       "model_id": "d6b57fa96d074611bfb04a3be83229c0",
       "version_major": 2,
       "version_minor": 0
      },
      "text/plain": [
       "  0%|          | 0/308 [00:00<?, ?it/s]"
      ]
     },
     "metadata": {},
     "output_type": "display_data"
    },
    {
     "data": {
      "application/vnd.jupyter.widget-view+json": {
       "model_id": "b765b45e9d89449883bda8f2d0ea1c61",
       "version_major": 2,
       "version_minor": 0
      },
      "text/plain": [
       "  0%|          | 0/47 [00:00<?, ?it/s]"
      ]
     },
     "metadata": {},
     "output_type": "display_data"
    },
    {
     "name": "stdout",
     "output_type": "stream",
     "text": [
      "[[497.   1.   2.]\n",
      " [  1. 495.   4.]\n",
      " [  1.   8. 491.]]\n",
      "Adjusting learning rate of group 0 to 1.0000e-05.\n",
      "Epoch : 6 Train Loss : 0.025324 Train Acc : 0.991337\n",
      "Epoch : 6 Valid Loss : 0.081517 Valid Acc : 0.988602\n"
     ]
    },
    {
     "data": {
      "application/vnd.jupyter.widget-view+json": {
       "model_id": "70cec2d3e9514e57a9370c81e49cf39d",
       "version_major": 2,
       "version_minor": 0
      },
      "text/plain": [
       "  0%|          | 0/308 [00:00<?, ?it/s]"
      ]
     },
     "metadata": {},
     "output_type": "display_data"
    },
    {
     "data": {
      "application/vnd.jupyter.widget-view+json": {
       "model_id": "a1b2e17395a8401eaf3bbe6f3b10a990",
       "version_major": 2,
       "version_minor": 0
      },
      "text/plain": [
       "  0%|          | 0/47 [00:00<?, ?it/s]"
      ]
     },
     "metadata": {},
     "output_type": "display_data"
    },
    {
     "name": "stdout",
     "output_type": "stream",
     "text": [
      "[[497.   1.   2.]\n",
      " [  1. 495.   4.]\n",
      " [  1.   7. 492.]]\n",
      "Adjusting learning rate of group 0 to 5.0500e-04.\n",
      "Epoch : 7 Train Loss : 0.014525 Train Acc : 0.994115\n",
      "Epoch : 7 Valid Loss : 0.079112 Valid Acc : 0.989267\n"
     ]
    },
    {
     "data": {
      "application/vnd.jupyter.widget-view+json": {
       "model_id": "c6598637185845f2992343f981a2de1a",
       "version_major": 2,
       "version_minor": 0
      },
      "text/plain": [
       "  0%|          | 0/308 [00:00<?, ?it/s]"
      ]
     },
     "metadata": {},
     "output_type": "display_data"
    },
    {
     "data": {
      "application/vnd.jupyter.widget-view+json": {
       "model_id": "eae07177e4b241bdba6a1004201b3347",
       "version_major": 2,
       "version_minor": 0
      },
      "text/plain": [
       "  0%|          | 0/47 [00:00<?, ?it/s]"
      ]
     },
     "metadata": {},
     "output_type": "display_data"
    },
    {
     "name": "stdout",
     "output_type": "stream",
     "text": [
      "[[498.   1.   1.]\n",
      " [  1. 494.   5.]\n",
      " [  2.   6. 492.]]\n",
      "Adjusting learning rate of group 0 to 1.0000e-03.\n",
      "Epoch : 8 Train Loss : 0.016631 Train Acc : 0.993760\n",
      "Epoch : 8 Valid Loss : 0.080555 Valid Acc : 0.989172\n"
     ]
    },
    {
     "data": {
      "application/vnd.jupyter.widget-view+json": {
       "model_id": "fad75fe7477744f981b6107452e379b6",
       "version_major": 2,
       "version_minor": 0
      },
      "text/plain": [
       "  0%|          | 0/308 [00:00<?, ?it/s]"
      ]
     },
     "metadata": {},
     "output_type": "display_data"
    },
    {
     "data": {
      "application/vnd.jupyter.widget-view+json": {
       "model_id": "13914eb0109d4ca897475dbc61c7c51c",
       "version_major": 2,
       "version_minor": 0
      },
      "text/plain": [
       "  0%|          | 0/47 [00:00<?, ?it/s]"
      ]
     },
     "metadata": {},
     "output_type": "display_data"
    },
    {
     "name": "stdout",
     "output_type": "stream",
     "text": [
      "[[494.   1.   5.]\n",
      " [  3. 467.  30.]\n",
      " [  2.   5. 493.]]\n",
      "Adjusting learning rate of group 0 to 5.0500e-04.\n",
      "Epoch : 9 Train Loss : 0.039500 Train Acc : 0.986912\n",
      "Epoch : 9 Valid Loss : 0.108707 Valid Acc : 0.969320\n"
     ]
    },
    {
     "data": {
      "application/vnd.jupyter.widget-view+json": {
       "model_id": "01402b5e034d4e6499485117acd2692d",
       "version_major": 2,
       "version_minor": 0
      },
      "text/plain": [
       "  0%|          | 0/308 [00:00<?, ?it/s]"
      ]
     },
     "metadata": {},
     "output_type": "display_data"
    },
    {
     "data": {
      "application/vnd.jupyter.widget-view+json": {
       "model_id": "1e203cf1d5934f0f85a7bb52e4d48e52",
       "version_major": 2,
       "version_minor": 0
      },
      "text/plain": [
       "  0%|          | 0/47 [00:00<?, ?it/s]"
      ]
     },
     "metadata": {},
     "output_type": "display_data"
    },
    {
     "name": "stdout",
     "output_type": "stream",
     "text": [
      "[[494.   0.   6.]\n",
      " [  0. 500.   0.]\n",
      " [  2.  15. 483.]]\n",
      "Adjusting learning rate of group 0 to 1.0000e-05.\n",
      "Epoch : 10 Train Loss : 0.025419 Train Acc : 0.990767\n",
      "Epoch : 10 Valid Loss : 0.070963 Valid Acc : 0.984517\n"
     ]
    },
    {
     "data": {
      "application/vnd.jupyter.widget-view+json": {
       "model_id": "092ecaf784d746d1bc85ca996105b568",
       "version_major": 2,
       "version_minor": 0
      },
      "text/plain": [
       "  0%|          | 0/308 [00:00<?, ?it/s]"
      ]
     },
     "metadata": {},
     "output_type": "display_data"
    },
    {
     "data": {
      "application/vnd.jupyter.widget-view+json": {
       "model_id": "8c7f0096a00c49a9a14a1882caa7f2cc",
       "version_major": 2,
       "version_minor": 0
      },
      "text/plain": [
       "  0%|          | 0/47 [00:00<?, ?it/s]"
      ]
     },
     "metadata": {},
     "output_type": "display_data"
    },
    {
     "name": "stdout",
     "output_type": "stream",
     "text": [
      "[[495.   1.   4.]\n",
      " [  0. 500.   0.]\n",
      " [  1.  11. 488.]]\n",
      "Adjusting learning rate of group 0 to 5.0500e-04.\n",
      "Epoch : 11 Train Loss : 0.018303 Train Acc : 0.994330\n",
      "Epoch : 11 Valid Loss : 0.059384 Valid Acc : 0.988507\n"
     ]
    },
    {
     "data": {
      "application/vnd.jupyter.widget-view+json": {
       "model_id": "aaffbcaf221a4808ab78c5132d5a65d6",
       "version_major": 2,
       "version_minor": 0
      },
      "text/plain": [
       "  0%|          | 0/308 [00:00<?, ?it/s]"
      ]
     },
     "metadata": {},
     "output_type": "display_data"
    },
    {
     "data": {
      "application/vnd.jupyter.widget-view+json": {
       "model_id": "2ae5edd5b3f84d59b026531b8723cfe0",
       "version_major": 2,
       "version_minor": 0
      },
      "text/plain": [
       "  0%|          | 0/47 [00:00<?, ?it/s]"
      ]
     },
     "metadata": {},
     "output_type": "display_data"
    },
    {
     "name": "stdout",
     "output_type": "stream",
     "text": [
      "[[499.   0.   1.]\n",
      " [  0. 499.   1.]\n",
      " [  2.  13. 485.]]\n",
      "Adjusting learning rate of group 0 to 1.0000e-03.\n",
      "Epoch : 12 Train Loss : 0.014635 Train Acc : 0.994521\n",
      "Epoch : 12 Valid Loss : 0.059506 Valid Acc : 0.988507\n"
     ]
    },
    {
     "data": {
      "application/vnd.jupyter.widget-view+json": {
       "model_id": "bda45099faf8444ca69bf7d11a1de0ac",
       "version_major": 2,
       "version_minor": 0
      },
      "text/plain": [
       "  0%|          | 0/308 [00:00<?, ?it/s]"
      ]
     },
     "metadata": {},
     "output_type": "display_data"
    },
    {
     "data": {
      "application/vnd.jupyter.widget-view+json": {
       "model_id": "1b5450fa975843858ab92a4b127c0df5",
       "version_major": 2,
       "version_minor": 0
      },
      "text/plain": [
       "  0%|          | 0/47 [00:00<?, ?it/s]"
      ]
     },
     "metadata": {},
     "output_type": "display_data"
    },
    {
     "name": "stdout",
     "output_type": "stream",
     "text": [
      "[[498.   0.   2.]\n",
      " [  6. 482.  12.]\n",
      " [  4.  12. 484.]]\n",
      "Adjusting learning rate of group 0 to 5.0500e-04.\n",
      "Epoch : 13 Train Loss : 0.045987 Train Acc : 0.984387\n",
      "Epoch : 13 Valid Loss : 0.071082 Valid Acc : 0.975874\n"
     ]
    },
    {
     "data": {
      "application/vnd.jupyter.widget-view+json": {
       "model_id": "c8272fa845044a3f9fe70bbbb9215d9c",
       "version_major": 2,
       "version_minor": 0
      },
      "text/plain": [
       "  0%|          | 0/308 [00:00<?, ?it/s]"
      ]
     },
     "metadata": {},
     "output_type": "display_data"
    },
    {
     "data": {
      "application/vnd.jupyter.widget-view+json": {
       "model_id": "ae4868db3700490ea40c9791c76112db",
       "version_major": 2,
       "version_minor": 0
      },
      "text/plain": [
       "  0%|          | 0/47 [00:00<?, ?it/s]"
      ]
     },
     "metadata": {},
     "output_type": "display_data"
    },
    {
     "name": "stdout",
     "output_type": "stream",
     "text": [
      "[[498.   1.   1.]\n",
      " [  0. 496.   4.]\n",
      " [  2.  12. 486.]]\n",
      "Adjusting learning rate of group 0 to 1.0000e-05.\n",
      "Epoch : 14 Train Loss : 0.023303 Train Acc : 0.992238\n",
      "Epoch : 14 Valid Loss : 0.049303 Valid Acc : 0.986512\n"
     ]
    },
    {
     "data": {
      "application/vnd.jupyter.widget-view+json": {
       "model_id": "226ad0ce1b244a18859e43061903c991",
       "version_major": 2,
       "version_minor": 0
      },
      "text/plain": [
       "  0%|          | 0/308 [00:00<?, ?it/s]"
      ]
     },
     "metadata": {},
     "output_type": "display_data"
    },
    {
     "data": {
      "application/vnd.jupyter.widget-view+json": {
       "model_id": "fba65b59fd03453aba6c62a6f66930f4",
       "version_major": 2,
       "version_minor": 0
      },
      "text/plain": [
       "  0%|          | 0/47 [00:00<?, ?it/s]"
      ]
     },
     "metadata": {},
     "output_type": "display_data"
    },
    {
     "name": "stdout",
     "output_type": "stream",
     "text": [
      "[[499.   0.   1.]\n",
      " [  0. 497.   3.]\n",
      " [  2.  15. 483.]]\n",
      "Adjusting learning rate of group 0 to 5.0500e-04.\n",
      "Epoch : 15 Train Loss : 0.015716 Train Acc : 0.995333\n",
      "Epoch : 15 Valid Loss : 0.048957 Valid Acc : 0.985847\n"
     ]
    },
    {
     "data": {
      "application/vnd.jupyter.widget-view+json": {
       "model_id": "e1c8b22b6ba54380bb40def10753cd29",
       "version_major": 2,
       "version_minor": 0
      },
      "text/plain": [
       "  0%|          | 0/308 [00:00<?, ?it/s]"
      ]
     },
     "metadata": {},
     "output_type": "display_data"
    },
    {
     "data": {
      "application/vnd.jupyter.widget-view+json": {
       "model_id": "b277bbba15c94508aaef4227caf10647",
       "version_major": 2,
       "version_minor": 0
      },
      "text/plain": [
       "  0%|          | 0/47 [00:00<?, ?it/s]"
      ]
     },
     "metadata": {},
     "output_type": "display_data"
    },
    {
     "name": "stdout",
     "output_type": "stream",
     "text": [
      "[[500.   0.   0.]\n",
      " [  0. 500.   0.]\n",
      " [  2.  21. 477.]]\n",
      "Adjusting learning rate of group 0 to 1.0000e-03.\n",
      "Epoch : 16 Train Loss : 0.013594 Train Acc : 0.994927\n",
      "Epoch : 16 Valid Loss : 0.077512 Valid Acc : 0.984517\n"
     ]
    },
    {
     "data": {
      "application/vnd.jupyter.widget-view+json": {
       "model_id": "10a8ca9d3a30416cb0049f492666a08d",
       "version_major": 2,
       "version_minor": 0
      },
      "text/plain": [
       "  0%|          | 0/308 [00:00<?, ?it/s]"
      ]
     },
     "metadata": {},
     "output_type": "display_data"
    },
    {
     "data": {
      "application/vnd.jupyter.widget-view+json": {
       "model_id": "acc6a965ac3e4dc596f1bad831270d5d",
       "version_major": 2,
       "version_minor": 0
      },
      "text/plain": [
       "  0%|          | 0/47 [00:00<?, ?it/s]"
      ]
     },
     "metadata": {},
     "output_type": "display_data"
    },
    {
     "name": "stdout",
     "output_type": "stream",
     "text": [
      "[[500.   0.   0.]\n",
      " [  6. 490.   4.]\n",
      " [ 38.  23. 439.]]\n",
      "Epoch : 17 Train Loss : 0.040112 Train Acc : 0.986252\n",
      "Epoch : 17 Valid Loss : 0.184188 Valid Acc : 0.952318\n"
     ]
    },
    {
     "data": {
      "application/vnd.jupyter.widget-view+json": {
       "model_id": "daafb732e8e940e5bcf83417447abf76",
       "version_major": 2,
       "version_minor": 0
      },
      "text/plain": [
       "  0%|          | 0/308 [00:00<?, ?it/s]"
      ]
     },
     "metadata": {},
     "output_type": "display_data"
    },
    {
     "data": {
      "application/vnd.jupyter.widget-view+json": {
       "model_id": "58477d8747bb4f0b9b28e85ac1d7b85e",
       "version_major": 2,
       "version_minor": 0
      },
      "text/plain": [
       "  0%|          | 0/47 [00:00<?, ?it/s]"
      ]
     },
     "metadata": {},
     "output_type": "display_data"
    },
    {
     "name": "stdout",
     "output_type": "stream",
     "text": [
      "[[498.   1.   1.]\n",
      " [  7. 491.   2.]\n",
      " [ 10.  16. 474.]]\n",
      "Epoch : 18 Train Loss : 0.037896 Train Acc : 0.986404\n",
      "Epoch : 18 Valid Loss : 0.089477 Valid Acc : 0.975209\n"
     ]
    },
    {
     "data": {
      "application/vnd.jupyter.widget-view+json": {
       "model_id": "fb85c32dc25949f3b13e420ba5417188",
       "version_major": 2,
       "version_minor": 0
      },
      "text/plain": [
       "  0%|          | 0/308 [00:00<?, ?it/s]"
      ]
     },
     "metadata": {},
     "output_type": "display_data"
    },
    {
     "data": {
      "application/vnd.jupyter.widget-view+json": {
       "model_id": "ae462e6ed1c8405293c63163e24734d8",
       "version_major": 2,
       "version_minor": 0
      },
      "text/plain": [
       "  0%|          | 0/47 [00:00<?, ?it/s]"
      ]
     },
     "metadata": {},
     "output_type": "display_data"
    },
    {
     "name": "stdout",
     "output_type": "stream",
     "text": [
      "[[500.   0.   0.]\n",
      " [  8. 485.   7.]\n",
      " [  7.  25. 468.]]\n",
      "Epoch : 19 Train Loss : 0.035866 Train Acc : 0.987926\n",
      "Epoch : 19 Valid Loss : 0.089911 Valid Acc : 0.968560\n"
     ]
    },
    {
     "data": {
      "application/vnd.jupyter.widget-view+json": {
       "model_id": "920ee53f42724f689aa29a337ea9cea2",
       "version_major": 2,
       "version_minor": 0
      },
      "text/plain": [
       "  0%|          | 0/308 [00:00<?, ?it/s]"
      ]
     },
     "metadata": {},
     "output_type": "display_data"
    },
    {
     "data": {
      "application/vnd.jupyter.widget-view+json": {
       "model_id": "b7b1ac97f2f24b3da169162e87220dc2",
       "version_major": 2,
       "version_minor": 0
      },
      "text/plain": [
       "  0%|          | 0/47 [00:00<?, ?it/s]"
      ]
     },
     "metadata": {},
     "output_type": "display_data"
    },
    {
     "name": "stdout",
     "output_type": "stream",
     "text": [
      "[[500.   0.   0.]\n",
      " [  1. 490.   9.]\n",
      " [  4.  11. 485.]]\n",
      "Epoch : 20 Train Loss : 0.038425 Train Acc : 0.988129\n",
      "Epoch : 20 Valid Loss : 0.065462 Valid Acc : 0.983188\n"
     ]
    },
    {
     "data": {
      "application/vnd.jupyter.widget-view+json": {
       "model_id": "4a9fa53cc5bb40788f95d6dbf8465750",
       "version_major": 2,
       "version_minor": 0
      },
      "text/plain": [
       "  0%|          | 0/308 [00:00<?, ?it/s]"
      ]
     },
     "metadata": {},
     "output_type": "display_data"
    },
    {
     "data": {
      "application/vnd.jupyter.widget-view+json": {
       "model_id": "03e09465e2444c47a9345bd44683dbc7",
       "version_major": 2,
       "version_minor": 0
      },
      "text/plain": [
       "  0%|          | 0/47 [00:00<?, ?it/s]"
      ]
     },
     "metadata": {},
     "output_type": "display_data"
    },
    {
     "name": "stdout",
     "output_type": "stream",
     "text": [
      "[[495.   2.   3.]\n",
      " [  0. 490.  10.]\n",
      " [  5.  18. 477.]]\n",
      "Epoch : 21 Train Loss : 0.030419 Train Acc : 0.989967\n",
      "Epoch : 21 Valid Loss : 0.087434 Valid Acc : 0.974544\n"
     ]
    },
    {
     "data": {
      "application/vnd.jupyter.widget-view+json": {
       "model_id": "bffc245a94064b07b3f7daf466ee1230",
       "version_major": 2,
       "version_minor": 0
      },
      "text/plain": [
       "  0%|          | 0/308 [00:00<?, ?it/s]"
      ]
     },
     "metadata": {},
     "output_type": "display_data"
    },
    {
     "data": {
      "application/vnd.jupyter.widget-view+json": {
       "model_id": "3612b0fa755246d4b2c6e5f08a5c3fa7",
       "version_major": 2,
       "version_minor": 0
      },
      "text/plain": [
       "  0%|          | 0/47 [00:00<?, ?it/s]"
      ]
     },
     "metadata": {},
     "output_type": "display_data"
    },
    {
     "name": "stdout",
     "output_type": "stream",
     "text": [
      "[[497.   2.   1.]\n",
      " [  0. 493.   7.]\n",
      " [  4.  17. 479.]]\n",
      "Epoch : 22 Train Loss : 0.040338 Train Acc : 0.986151\n",
      "Epoch : 22 Valid Loss : 0.075828 Valid Acc : 0.979293\n"
     ]
    },
    {
     "data": {
      "application/vnd.jupyter.widget-view+json": {
       "model_id": "262f5141c0814b4d8e727e887384b04d",
       "version_major": 2,
       "version_minor": 0
      },
      "text/plain": [
       "  0%|          | 0/308 [00:00<?, ?it/s]"
      ]
     },
     "metadata": {},
     "output_type": "display_data"
    },
    {
     "data": {
      "application/vnd.jupyter.widget-view+json": {
       "model_id": "21c8270c24d547f0966d5e8b0ca08718",
       "version_major": 2,
       "version_minor": 0
      },
      "text/plain": [
       "  0%|          | 0/47 [00:00<?, ?it/s]"
      ]
     },
     "metadata": {},
     "output_type": "display_data"
    },
    {
     "name": "stdout",
     "output_type": "stream",
     "text": [
      "[[495.   4.   1.]\n",
      " [ 78. 412.  10.]\n",
      " [ 81.  17. 402.]]\n",
      "Epoch : 23 Train Loss : 0.032534 Train Acc : 0.989409\n",
      "Epoch : 23 Valid Loss : 0.639606 Valid Acc : 0.872530\n"
     ]
    },
    {
     "data": {
      "application/vnd.jupyter.widget-view+json": {
       "model_id": "f0c67321dc7045a298348fd9bf858f76",
       "version_major": 2,
       "version_minor": 0
      },
      "text/plain": [
       "  0%|          | 0/308 [00:00<?, ?it/s]"
      ]
     },
     "metadata": {},
     "output_type": "display_data"
    },
    {
     "data": {
      "application/vnd.jupyter.widget-view+json": {
       "model_id": "af530e05e736435ba8263734dfb77da8",
       "version_major": 2,
       "version_minor": 0
      },
      "text/plain": [
       "  0%|          | 0/47 [00:00<?, ?it/s]"
      ]
     },
     "metadata": {},
     "output_type": "display_data"
    },
    {
     "name": "stdout",
     "output_type": "stream",
     "text": [
      "[[497.   3.   0.]\n",
      " [  0. 495.   5.]\n",
      " [  2.  27. 471.]]\n",
      "Epoch : 24 Train Loss : 0.018420 Train Acc : 0.993811\n",
      "Epoch : 24 Valid Loss : 0.079947 Valid Acc : 0.975209\n"
     ]
    },
    {
     "data": {
      "application/vnd.jupyter.widget-view+json": {
       "model_id": "c1c45ff6f16644609be64208453d6fa7",
       "version_major": 2,
       "version_minor": 0
      },
      "text/plain": [
       "  0%|          | 0/308 [00:00<?, ?it/s]"
      ]
     },
     "metadata": {},
     "output_type": "display_data"
    },
    {
     "data": {
      "application/vnd.jupyter.widget-view+json": {
       "model_id": "e6971e5297ab421eba8138fa0170b80e",
       "version_major": 2,
       "version_minor": 0
      },
      "text/plain": [
       "  0%|          | 0/47 [00:00<?, ?it/s]"
      ]
     },
     "metadata": {},
     "output_type": "display_data"
    },
    {
     "name": "stdout",
     "output_type": "stream",
     "text": [
      "[[495.   3.   2.]\n",
      " [  0. 495.   5.]\n",
      " [  1.  23. 476.]]\n",
      "Epoch : 25 Train Loss : 0.012123 Train Acc : 0.996347\n",
      "Epoch : 25 Valid Loss : 0.084595 Valid Acc : 0.977204\n",
      "Adjusting learning rate of group 0 to 1.0000e-03.\n"
     ]
    },
    {
     "data": {
      "application/vnd.jupyter.widget-view+json": {
       "model_id": "954b89184e8946fabab0e6525c19c23c",
       "version_major": 2,
       "version_minor": 0
      },
      "text/plain": [
       "  0%|          | 0/308 [00:00<?, ?it/s]"
      ]
     },
     "metadata": {},
     "output_type": "display_data"
    },
    {
     "data": {
      "application/vnd.jupyter.widget-view+json": {
       "model_id": "1b5a05eb13aa4a0abf14f407570fce39",
       "version_major": 2,
       "version_minor": 0
      },
      "text/plain": [
       "  0%|          | 0/47 [00:00<?, ?it/s]"
      ]
     },
     "metadata": {},
     "output_type": "display_data"
    },
    {
     "name": "stdout",
     "output_type": "stream",
     "text": [
      "[[499.   0.   1.]\n",
      " [  1. 498.   1.]\n",
      " [  1.  14. 485.]]\n",
      "Adjusting learning rate of group 0 to 5.0500e-04.\n",
      "Validation loss decreased (inf --> 0.041844).Saving model ...\n",
      "Validation Accuracy increased (0.000000 --> 0.987937).Saving model ...\n",
      "Epoch : 1 Train Loss : 0.034360 Train Acc : 0.989460\n",
      "Epoch : 1 Valid Loss : 0.041844 Valid Acc : 0.987937\n"
     ]
    },
    {
     "data": {
      "application/vnd.jupyter.widget-view+json": {
       "model_id": "1bded7a9c16b4b9daf9a3f43b66810db",
       "version_major": 2,
       "version_minor": 0
      },
      "text/plain": [
       "  0%|          | 0/308 [00:00<?, ?it/s]"
      ]
     },
     "metadata": {},
     "output_type": "display_data"
    },
    {
     "data": {
      "application/vnd.jupyter.widget-view+json": {
       "model_id": "9f39a2ec432c4d439d9b1156d9aca33b",
       "version_major": 2,
       "version_minor": 0
      },
      "text/plain": [
       "  0%|          | 0/47 [00:00<?, ?it/s]"
      ]
     },
     "metadata": {},
     "output_type": "display_data"
    },
    {
     "name": "stdout",
     "output_type": "stream",
     "text": [
      "[[500.   0.   0.]\n",
      " [  0. 496.   4.]\n",
      " [  0.   6. 494.]]\n",
      "Adjusting learning rate of group 0 to 1.0000e-05.\n",
      "Validation loss decreased (0.041844 --> 0.018893).Saving model ...\n",
      "Validation Accuracy increased (0.987937 --> 0.993351).Saving model ...\n",
      "Epoch : 2 Train Loss : 0.019524 Train Acc : 0.994026\n",
      "Epoch : 2 Valid Loss : 0.018893 Valid Acc : 0.993351\n"
     ]
    },
    {
     "data": {
      "application/vnd.jupyter.widget-view+json": {
       "model_id": "3657a80c418b4e8fbc7e253f6bbfa943",
       "version_major": 2,
       "version_minor": 0
      },
      "text/plain": [
       "  0%|          | 0/308 [00:00<?, ?it/s]"
      ]
     },
     "metadata": {},
     "output_type": "display_data"
    },
    {
     "data": {
      "application/vnd.jupyter.widget-view+json": {
       "model_id": "20fd67244ed74b31aebadafc30357835",
       "version_major": 2,
       "version_minor": 0
      },
      "text/plain": [
       "  0%|          | 0/47 [00:00<?, ?it/s]"
      ]
     },
     "metadata": {},
     "output_type": "display_data"
    },
    {
     "name": "stdout",
     "output_type": "stream",
     "text": [
      "[[500.   0.   0.]\n",
      " [  0. 498.   2.]\n",
      " [  0.   7. 493.]]\n",
      "Adjusting learning rate of group 0 to 5.0500e-04.\n",
      "Validation loss decreased (0.018893 --> 0.016744).Saving model ...\n",
      "Validation Accuracy increased (0.993351 --> 0.994016).Saving model ...\n",
      "Epoch : 3 Train Loss : 0.015047 Train Acc : 0.994825\n",
      "Epoch : 3 Valid Loss : 0.016744 Valid Acc : 0.994016\n"
     ]
    },
    {
     "data": {
      "application/vnd.jupyter.widget-view+json": {
       "model_id": "ee3a3527c2bc4f11b5a8804e389f8ff0",
       "version_major": 2,
       "version_minor": 0
      },
      "text/plain": [
       "  0%|          | 0/308 [00:00<?, ?it/s]"
      ]
     },
     "metadata": {},
     "output_type": "display_data"
    },
    {
     "data": {
      "application/vnd.jupyter.widget-view+json": {
       "model_id": "1b589fb3bd51451d89583f547e0d9924",
       "version_major": 2,
       "version_minor": 0
      },
      "text/plain": [
       "  0%|          | 0/47 [00:00<?, ?it/s]"
      ]
     },
     "metadata": {},
     "output_type": "display_data"
    },
    {
     "name": "stdout",
     "output_type": "stream",
     "text": [
      "[[500.   0.   0.]\n",
      " [  2. 497.   1.]\n",
      " [  1.   5. 494.]]\n",
      "Adjusting learning rate of group 0 to 1.0000e-03.\n",
      "Validation Accuracy increased (0.994016 --> 0.994016).Saving model ...\n",
      "Epoch : 4 Train Loss : 0.018795 Train Acc : 0.994217\n",
      "Epoch : 4 Valid Loss : 0.022670 Valid Acc : 0.994016\n"
     ]
    },
    {
     "data": {
      "application/vnd.jupyter.widget-view+json": {
       "model_id": "b467792b27e84841bed1459995716ab4",
       "version_major": 2,
       "version_minor": 0
      },
      "text/plain": [
       "  0%|          | 0/308 [00:00<?, ?it/s]"
      ]
     },
     "metadata": {},
     "output_type": "display_data"
    },
    {
     "data": {
      "application/vnd.jupyter.widget-view+json": {
       "model_id": "0eb85fd1329142d092834f942cb34eb9",
       "version_major": 2,
       "version_minor": 0
      },
      "text/plain": [
       "  0%|          | 0/47 [00:00<?, ?it/s]"
      ]
     },
     "metadata": {},
     "output_type": "display_data"
    },
    {
     "name": "stdout",
     "output_type": "stream",
     "text": [
      "[[491.   2.   7.]\n",
      " [  0. 484.  16.]\n",
      " [  0.   1. 499.]]\n",
      "Adjusting learning rate of group 0 to 5.0500e-04.\n",
      "Epoch : 5 Train Loss : 0.029496 Train Acc : 0.990880\n",
      "Epoch : 5 Valid Loss : 0.066364 Valid Acc : 0.982713\n"
     ]
    },
    {
     "data": {
      "application/vnd.jupyter.widget-view+json": {
       "model_id": "cf0f7b2e9a14435dac37475a34e55d53",
       "version_major": 2,
       "version_minor": 0
      },
      "text/plain": [
       "  0%|          | 0/308 [00:00<?, ?it/s]"
      ]
     },
     "metadata": {},
     "output_type": "display_data"
    },
    {
     "data": {
      "application/vnd.jupyter.widget-view+json": {
       "model_id": "b97f6963fab1404c88d713b7df63bb1a",
       "version_major": 2,
       "version_minor": 0
      },
      "text/plain": [
       "  0%|          | 0/47 [00:00<?, ?it/s]"
      ]
     },
     "metadata": {},
     "output_type": "display_data"
    },
    {
     "name": "stdout",
     "output_type": "stream",
     "text": [
      "[[494.   2.   4.]\n",
      " [  0. 498.   2.]\n",
      " [  0.   7. 493.]]\n",
      "Adjusting learning rate of group 0 to 1.0000e-05.\n",
      "Epoch : 6 Train Loss : 0.020184 Train Acc : 0.993202\n",
      "Epoch : 6 Valid Loss : 0.020569 Valid Acc : 0.990027\n"
     ]
    },
    {
     "data": {
      "application/vnd.jupyter.widget-view+json": {
       "model_id": "5e6930d0b4574e6f9c7af0f3ca0dde68",
       "version_major": 2,
       "version_minor": 0
      },
      "text/plain": [
       "  0%|          | 0/308 [00:00<?, ?it/s]"
      ]
     },
     "metadata": {},
     "output_type": "display_data"
    },
    {
     "data": {
      "application/vnd.jupyter.widget-view+json": {
       "model_id": "e6dc2240c63a45959acd51f8121fa154",
       "version_major": 2,
       "version_minor": 0
      },
      "text/plain": [
       "  0%|          | 0/47 [00:00<?, ?it/s]"
      ]
     },
     "metadata": {},
     "output_type": "display_data"
    },
    {
     "name": "stdout",
     "output_type": "stream",
     "text": [
      "[[497.   2.   1.]\n",
      " [  1. 497.   2.]\n",
      " [  0.   7. 493.]]\n",
      "Adjusting learning rate of group 0 to 5.0500e-04.\n",
      "Validation loss decreased (0.016744 --> 0.014779).Saving model ...\n",
      "Epoch : 7 Train Loss : 0.008499 Train Acc : 0.997362\n",
      "Epoch : 7 Valid Loss : 0.014779 Valid Acc : 0.991356\n"
     ]
    },
    {
     "data": {
      "application/vnd.jupyter.widget-view+json": {
       "model_id": "bc8060e0bcf94584a3f3b954bb89d280",
       "version_major": 2,
       "version_minor": 0
      },
      "text/plain": [
       "  0%|          | 0/308 [00:00<?, ?it/s]"
      ]
     },
     "metadata": {},
     "output_type": "display_data"
    },
    {
     "data": {
      "application/vnd.jupyter.widget-view+json": {
       "model_id": "db17875451cf4b42b3b3309af62c4a02",
       "version_major": 2,
       "version_minor": 0
      },
      "text/plain": [
       "  0%|          | 0/47 [00:00<?, ?it/s]"
      ]
     },
     "metadata": {},
     "output_type": "display_data"
    },
    {
     "name": "stdout",
     "output_type": "stream",
     "text": [
      "[[499.   0.   1.]\n",
      " [  1. 497.   2.]\n",
      " [  0.   2. 498.]]\n",
      "Adjusting learning rate of group 0 to 1.0000e-03.\n",
      "Validation loss decreased (0.014779 --> 0.013439).Saving model ...\n",
      "Validation Accuracy increased (0.994016 --> 0.996011).Saving model ...\n",
      "Epoch : 8 Train Loss : 0.012255 Train Acc : 0.995992\n",
      "Epoch : 8 Valid Loss : 0.013439 Valid Acc : 0.996011\n"
     ]
    },
    {
     "data": {
      "application/vnd.jupyter.widget-view+json": {
       "model_id": "03d113758ef84d2b9d8be91a41f852bb",
       "version_major": 2,
       "version_minor": 0
      },
      "text/plain": [
       "  0%|          | 0/308 [00:00<?, ?it/s]"
      ]
     },
     "metadata": {},
     "output_type": "display_data"
    },
    {
     "data": {
      "application/vnd.jupyter.widget-view+json": {
       "model_id": "a310a9077cb64a4781888b6ae189e5fe",
       "version_major": 2,
       "version_minor": 0
      },
      "text/plain": [
       "  0%|          | 0/47 [00:00<?, ?it/s]"
      ]
     },
     "metadata": {},
     "output_type": "display_data"
    },
    {
     "name": "stdout",
     "output_type": "stream",
     "text": [
      "[[497.   0.   3.]\n",
      " [  3. 494.   3.]\n",
      " [  1.  17. 482.]]\n",
      "Adjusting learning rate of group 0 to 5.0500e-04.\n",
      "Epoch : 9 Train Loss : 0.042154 Train Acc : 0.986252\n",
      "Epoch : 9 Valid Loss : 0.063677 Valid Acc : 0.981953\n"
     ]
    },
    {
     "data": {
      "application/vnd.jupyter.widget-view+json": {
       "model_id": "13b6ff4e99264ab0bf00709a411b6126",
       "version_major": 2,
       "version_minor": 0
      },
      "text/plain": [
       "  0%|          | 0/308 [00:00<?, ?it/s]"
      ]
     },
     "metadata": {},
     "output_type": "display_data"
    },
    {
     "data": {
      "application/vnd.jupyter.widget-view+json": {
       "model_id": "e555d5f42874466486dd560d19e62caf",
       "version_major": 2,
       "version_minor": 0
      },
      "text/plain": [
       "  0%|          | 0/47 [00:00<?, ?it/s]"
      ]
     },
     "metadata": {},
     "output_type": "display_data"
    },
    {
     "name": "stdout",
     "output_type": "stream",
     "text": [
      "[[500.   0.   0.]\n",
      " [  3. 496.   1.]\n",
      " [  0.  10. 490.]]\n",
      "Adjusting learning rate of group 0 to 1.0000e-05.\n",
      "Epoch : 10 Train Loss : 0.021863 Train Acc : 0.993050\n",
      "Epoch : 10 Valid Loss : 0.032337 Valid Acc : 0.990691\n"
     ]
    },
    {
     "data": {
      "application/vnd.jupyter.widget-view+json": {
       "model_id": "eec55b22fb7540359c6ed7940fca0bd5",
       "version_major": 2,
       "version_minor": 0
      },
      "text/plain": [
       "  0%|          | 0/308 [00:00<?, ?it/s]"
      ]
     },
     "metadata": {},
     "output_type": "display_data"
    },
    {
     "data": {
      "application/vnd.jupyter.widget-view+json": {
       "model_id": "e82e4b52a63146a89ec2a073214c73b1",
       "version_major": 2,
       "version_minor": 0
      },
      "text/plain": [
       "  0%|          | 0/47 [00:00<?, ?it/s]"
      ]
     },
     "metadata": {},
     "output_type": "display_data"
    },
    {
     "name": "stdout",
     "output_type": "stream",
     "text": [
      "[[500.   0.   0.]\n",
      " [  1. 498.   1.]\n",
      " [  0.  12. 488.]]\n",
      "Adjusting learning rate of group 0 to 5.0500e-04.\n",
      "Epoch : 11 Train Loss : 0.010538 Train Acc : 0.996601\n",
      "Epoch : 11 Valid Loss : 0.032491 Valid Acc : 0.990691\n"
     ]
    },
    {
     "data": {
      "application/vnd.jupyter.widget-view+json": {
       "model_id": "b00db28f16b64e39abe0fb8a2b03c58e",
       "version_major": 2,
       "version_minor": 0
      },
      "text/plain": [
       "  0%|          | 0/308 [00:00<?, ?it/s]"
      ]
     },
     "metadata": {},
     "output_type": "display_data"
    },
    {
     "data": {
      "application/vnd.jupyter.widget-view+json": {
       "model_id": "52c721f89f02423e97aa2db92655d619",
       "version_major": 2,
       "version_minor": 0
      },
      "text/plain": [
       "  0%|          | 0/47 [00:00<?, ?it/s]"
      ]
     },
     "metadata": {},
     "output_type": "display_data"
    },
    {
     "name": "stdout",
     "output_type": "stream",
     "text": [
      "[[500.   0.   0.]\n",
      " [  0. 497.   3.]\n",
      " [  0.   6. 494.]]\n",
      "Adjusting learning rate of group 0 to 1.0000e-03.\n",
      "Epoch : 12 Train Loss : 0.012456 Train Acc : 0.995231\n",
      "Epoch : 12 Valid Loss : 0.027069 Valid Acc : 0.994016\n"
     ]
    },
    {
     "data": {
      "application/vnd.jupyter.widget-view+json": {
       "model_id": "38bc83c8fe674b84bbe574d3fd44c641",
       "version_major": 2,
       "version_minor": 0
      },
      "text/plain": [
       "  0%|          | 0/308 [00:00<?, ?it/s]"
      ]
     },
     "metadata": {},
     "output_type": "display_data"
    },
    {
     "data": {
      "application/vnd.jupyter.widget-view+json": {
       "model_id": "e1bda705443c45e5bf8a0dcb4de1887c",
       "version_major": 2,
       "version_minor": 0
      },
      "text/plain": [
       "  0%|          | 0/47 [00:00<?, ?it/s]"
      ]
     },
     "metadata": {},
     "output_type": "display_data"
    },
    {
     "name": "stdout",
     "output_type": "stream",
     "text": [
      "[[500.   0.   0.]\n",
      " [  1. 487.  12.]\n",
      " [  1.  10. 489.]]\n",
      "Adjusting learning rate of group 0 to 5.0500e-04.\n",
      "Epoch : 13 Train Loss : 0.031716 Train Acc : 0.989600\n",
      "Epoch : 13 Valid Loss : 0.046933 Valid Acc : 0.984043\n"
     ]
    },
    {
     "data": {
      "application/vnd.jupyter.widget-view+json": {
       "model_id": "886a2aea3e7a43a6a197ba09b5535986",
       "version_major": 2,
       "version_minor": 0
      },
      "text/plain": [
       "  0%|          | 0/308 [00:00<?, ?it/s]"
      ]
     },
     "metadata": {},
     "output_type": "display_data"
    },
    {
     "data": {
      "application/vnd.jupyter.widget-view+json": {
       "model_id": "e505917b2831429bacf9e4c9e2afd642",
       "version_major": 2,
       "version_minor": 0
      },
      "text/plain": [
       "  0%|          | 0/47 [00:00<?, ?it/s]"
      ]
     },
     "metadata": {},
     "output_type": "display_data"
    },
    {
     "name": "stdout",
     "output_type": "stream",
     "text": [
      "[[499.   0.   1.]\n",
      " [  2. 490.   8.]\n",
      " [  1.   6. 493.]]\n",
      "Adjusting learning rate of group 0 to 1.0000e-05.\n",
      "Epoch : 14 Train Loss : 0.017125 Train Acc : 0.994267\n",
      "Epoch : 14 Valid Loss : 0.040906 Valid Acc : 0.988032\n"
     ]
    },
    {
     "data": {
      "application/vnd.jupyter.widget-view+json": {
       "model_id": "0919c751da7442698af2fb3cc420fd96",
       "version_major": 2,
       "version_minor": 0
      },
      "text/plain": [
       "  0%|          | 0/308 [00:00<?, ?it/s]"
      ]
     },
     "metadata": {},
     "output_type": "display_data"
    },
    {
     "data": {
      "application/vnd.jupyter.widget-view+json": {
       "model_id": "177001d324ac4d669a80e485ba8bc66c",
       "version_major": 2,
       "version_minor": 0
      },
      "text/plain": [
       "  0%|          | 0/47 [00:00<?, ?it/s]"
      ]
     },
     "metadata": {},
     "output_type": "display_data"
    },
    {
     "name": "stdout",
     "output_type": "stream",
     "text": [
      "[[499.   0.   1.]\n",
      " [  1. 492.   7.]\n",
      " [  1.   5. 494.]]\n",
      "Adjusting learning rate of group 0 to 5.0500e-04.\n",
      "Epoch : 15 Train Loss : 0.008838 Train Acc : 0.996753\n",
      "Epoch : 15 Valid Loss : 0.038481 Valid Acc : 0.990027\n"
     ]
    },
    {
     "data": {
      "application/vnd.jupyter.widget-view+json": {
       "model_id": "fb8fcd3fc12644c7a0a9947c8ff1b9c3",
       "version_major": 2,
       "version_minor": 0
      },
      "text/plain": [
       "  0%|          | 0/308 [00:00<?, ?it/s]"
      ]
     },
     "metadata": {},
     "output_type": "display_data"
    },
    {
     "data": {
      "application/vnd.jupyter.widget-view+json": {
       "model_id": "db8e091f08bb4e318ab0ed83b1d985c4",
       "version_major": 2,
       "version_minor": 0
      },
      "text/plain": [
       "  0%|          | 0/47 [00:00<?, ?it/s]"
      ]
     },
     "metadata": {},
     "output_type": "display_data"
    },
    {
     "name": "stdout",
     "output_type": "stream",
     "text": [
      "[[499.   1.   0.]\n",
      " [  0. 492.   8.]\n",
      " [  0.   4. 496.]]\n",
      "Adjusting learning rate of group 0 to 1.0000e-03.\n",
      "Epoch : 16 Train Loss : 0.010853 Train Acc : 0.996652\n",
      "Epoch : 16 Valid Loss : 0.034099 Valid Acc : 0.991356\n"
     ]
    },
    {
     "data": {
      "application/vnd.jupyter.widget-view+json": {
       "model_id": "f33a8d76f8cc48c3a98610c6d8afa7fa",
       "version_major": 2,
       "version_minor": 0
      },
      "text/plain": [
       "  0%|          | 0/308 [00:00<?, ?it/s]"
      ]
     },
     "metadata": {},
     "output_type": "display_data"
    },
    {
     "data": {
      "application/vnd.jupyter.widget-view+json": {
       "model_id": "08e0baf4533945acaf10a9196deea024",
       "version_major": 2,
       "version_minor": 0
      },
      "text/plain": [
       "  0%|          | 0/47 [00:00<?, ?it/s]"
      ]
     },
     "metadata": {},
     "output_type": "display_data"
    },
    {
     "name": "stdout",
     "output_type": "stream",
     "text": [
      "[[499.   0.   1.]\n",
      " [  6. 490.   4.]\n",
      " [  0.  13. 487.]]\n",
      "Epoch : 17 Train Loss : 0.029749 Train Acc : 0.990767\n",
      "Epoch : 17 Valid Loss : 0.051970 Valid Acc : 0.983948\n"
     ]
    },
    {
     "data": {
      "application/vnd.jupyter.widget-view+json": {
       "model_id": "b51b95bf1b9d4defa527e2187d85bdce",
       "version_major": 2,
       "version_minor": 0
      },
      "text/plain": [
       "  0%|          | 0/308 [00:00<?, ?it/s]"
      ]
     },
     "metadata": {},
     "output_type": "display_data"
    },
    {
     "data": {
      "application/vnd.jupyter.widget-view+json": {
       "model_id": "80a4991adfd84104b773bd1714ead8e5",
       "version_major": 2,
       "version_minor": 0
      },
      "text/plain": [
       "  0%|          | 0/47 [00:00<?, ?it/s]"
      ]
     },
     "metadata": {},
     "output_type": "display_data"
    },
    {
     "name": "stdout",
     "output_type": "stream",
     "text": [
      "[[498.   2.   0.]\n",
      " [  5. 492.   3.]\n",
      " [  0.  30. 470.]]\n",
      "Epoch : 18 Train Loss : 0.029400 Train Acc : 0.989905\n",
      "Epoch : 18 Valid Loss : 0.074124 Valid Acc : 0.973214\n"
     ]
    },
    {
     "data": {
      "application/vnd.jupyter.widget-view+json": {
       "model_id": "33f0ff64576647b8b155b891defcdf79",
       "version_major": 2,
       "version_minor": 0
      },
      "text/plain": [
       "  0%|          | 0/308 [00:00<?, ?it/s]"
      ]
     },
     "metadata": {},
     "output_type": "display_data"
    },
    {
     "data": {
      "application/vnd.jupyter.widget-view+json": {
       "model_id": "c684ad26569547f48a05e1a6dcf6ea79",
       "version_major": 2,
       "version_minor": 0
      },
      "text/plain": [
       "  0%|          | 0/47 [00:00<?, ?it/s]"
      ]
     },
     "metadata": {},
     "output_type": "display_data"
    },
    {
     "name": "stdout",
     "output_type": "stream",
     "text": [
      "[[495.   1.   4.]\n",
      " [  0. 485.  15.]\n",
      " [  0.   6. 494.]]\n",
      "Epoch : 19 Train Loss : 0.032056 Train Acc : 0.989245\n",
      "Epoch : 19 Valid Loss : 0.052279 Valid Acc : 0.982713\n"
     ]
    },
    {
     "data": {
      "application/vnd.jupyter.widget-view+json": {
       "model_id": "9bb7ea3068394c4bbcc91fac940ea28e",
       "version_major": 2,
       "version_minor": 0
      },
      "text/plain": [
       "  0%|          | 0/308 [00:00<?, ?it/s]"
      ]
     },
     "metadata": {},
     "output_type": "display_data"
    },
    {
     "data": {
      "application/vnd.jupyter.widget-view+json": {
       "model_id": "66a6704b62f8436ab346cb5e834cbfc2",
       "version_major": 2,
       "version_minor": 0
      },
      "text/plain": [
       "  0%|          | 0/47 [00:00<?, ?it/s]"
      ]
     },
     "metadata": {},
     "output_type": "display_data"
    },
    {
     "name": "stdout",
     "output_type": "stream",
     "text": [
      "[[498.   2.   0.]\n",
      " [  0. 493.   7.]\n",
      " [  0.  21. 479.]]\n",
      "Epoch : 20 Train Loss : 0.024864 Train Acc : 0.991427\n",
      "Epoch : 20 Valid Loss : 0.048988 Valid Acc : 0.979958\n"
     ]
    },
    {
     "data": {
      "application/vnd.jupyter.widget-view+json": {
       "model_id": "b65d3942d2064000a0fbd6276bdcf812",
       "version_major": 2,
       "version_minor": 0
      },
      "text/plain": [
       "  0%|          | 0/308 [00:00<?, ?it/s]"
      ]
     },
     "metadata": {},
     "output_type": "display_data"
    },
    {
     "data": {
      "application/vnd.jupyter.widget-view+json": {
       "model_id": "ddcad0feaad14ed7a038814f8bf5e760",
       "version_major": 2,
       "version_minor": 0
      },
      "text/plain": [
       "  0%|          | 0/47 [00:00<?, ?it/s]"
      ]
     },
     "metadata": {},
     "output_type": "display_data"
    },
    {
     "name": "stdout",
     "output_type": "stream",
     "text": [
      "[[499.   1.   0.]\n",
      " [  1. 496.   3.]\n",
      " [  0.  19. 481.]]\n",
      "Epoch : 21 Train Loss : 0.023472 Train Acc : 0.992289\n",
      "Epoch : 21 Valid Loss : 0.079099 Valid Acc : 0.983948\n"
     ]
    },
    {
     "data": {
      "application/vnd.jupyter.widget-view+json": {
       "model_id": "ac6ee3a0a0e04c67aa0a081f3dca7ab6",
       "version_major": 2,
       "version_minor": 0
      },
      "text/plain": [
       "  0%|          | 0/308 [00:00<?, ?it/s]"
      ]
     },
     "metadata": {},
     "output_type": "display_data"
    },
    {
     "data": {
      "application/vnd.jupyter.widget-view+json": {
       "model_id": "b51dc080b13d40969bcb971b81be1565",
       "version_major": 2,
       "version_minor": 0
      },
      "text/plain": [
       "  0%|          | 0/47 [00:00<?, ?it/s]"
      ]
     },
     "metadata": {},
     "output_type": "display_data"
    },
    {
     "name": "stdout",
     "output_type": "stream",
     "text": [
      "[[492.   4.   4.]\n",
      " [  0. 494.   6.]\n",
      " [  0.  19. 481.]]\n",
      "Epoch : 22 Train Loss : 0.023258 Train Acc : 0.992543\n",
      "Epoch : 22 Valid Loss : 0.080575 Valid Acc : 0.978059\n"
     ]
    },
    {
     "data": {
      "application/vnd.jupyter.widget-view+json": {
       "model_id": "848b00feae7540a78728821346b08720",
       "version_major": 2,
       "version_minor": 0
      },
      "text/plain": [
       "  0%|          | 0/308 [00:00<?, ?it/s]"
      ]
     },
     "metadata": {},
     "output_type": "display_data"
    },
    {
     "data": {
      "application/vnd.jupyter.widget-view+json": {
       "model_id": "d0790a2fca834a5e8fd9135f7bd8a825",
       "version_major": 2,
       "version_minor": 0
      },
      "text/plain": [
       "  0%|          | 0/47 [00:00<?, ?it/s]"
      ]
     },
     "metadata": {},
     "output_type": "display_data"
    },
    {
     "name": "stdout",
     "output_type": "stream",
     "text": [
      "[[496.   1.   3.]\n",
      " [  0. 498.   2.]\n",
      " [  1.  24. 475.]]\n",
      "Epoch : 23 Train Loss : 0.026334 Train Acc : 0.990919\n",
      "Epoch : 23 Valid Loss : 0.078668 Valid Acc : 0.979293\n"
     ]
    },
    {
     "data": {
      "application/vnd.jupyter.widget-view+json": {
       "model_id": "be1a8f94021946fb825d4fef87664db2",
       "version_major": 2,
       "version_minor": 0
      },
      "text/plain": [
       "  0%|          | 0/308 [00:00<?, ?it/s]"
      ]
     },
     "metadata": {},
     "output_type": "display_data"
    },
    {
     "data": {
      "application/vnd.jupyter.widget-view+json": {
       "model_id": "20069d9a447c410e83ccb7014eb14ce2",
       "version_major": 2,
       "version_minor": 0
      },
      "text/plain": [
       "  0%|          | 0/47 [00:00<?, ?it/s]"
      ]
     },
     "metadata": {},
     "output_type": "display_data"
    },
    {
     "name": "stdout",
     "output_type": "stream",
     "text": [
      "[[498.   0.   2.]\n",
      " [  1. 496.   3.]\n",
      " [  0.  16. 484.]]\n",
      "Epoch : 24 Train Loss : 0.013934 Train Acc : 0.995992\n",
      "Epoch : 24 Valid Loss : 0.046101 Valid Acc : 0.985372\n"
     ]
    },
    {
     "data": {
      "application/vnd.jupyter.widget-view+json": {
       "model_id": "110468759e8c41b5a7f469a1f0951ded",
       "version_major": 2,
       "version_minor": 0
      },
      "text/plain": [
       "  0%|          | 0/308 [00:00<?, ?it/s]"
      ]
     },
     "metadata": {},
     "output_type": "display_data"
    },
    {
     "data": {
      "application/vnd.jupyter.widget-view+json": {
       "model_id": "0c833bc15b0544c3b30ea998a72c237f",
       "version_major": 2,
       "version_minor": 0
      },
      "text/plain": [
       "  0%|          | 0/47 [00:00<?, ?it/s]"
      ]
     },
     "metadata": {},
     "output_type": "display_data"
    },
    {
     "name": "stdout",
     "output_type": "stream",
     "text": [
      "[[499.   0.   1.]\n",
      " [  1. 497.   2.]\n",
      " [  0.  15. 485.]]\n",
      "Epoch : 25 Train Loss : 0.009491 Train Acc : 0.996855\n",
      "Epoch : 25 Valid Loss : 0.052165 Valid Acc : 0.987367\n",
      "Adjusting learning rate of group 0 to 1.0000e-03.\n"
     ]
    },
    {
     "data": {
      "application/vnd.jupyter.widget-view+json": {
       "model_id": "24774bf942e04b599c46873eb1f44e4e",
       "version_major": 2,
       "version_minor": 0
      },
      "text/plain": [
       "  0%|          | 0/308 [00:00<?, ?it/s]"
      ]
     },
     "metadata": {},
     "output_type": "display_data"
    },
    {
     "data": {
      "application/vnd.jupyter.widget-view+json": {
       "model_id": "363631b4e29446a593e2dde97cadb754",
       "version_major": 2,
       "version_minor": 0
      },
      "text/plain": [
       "  0%|          | 0/47 [00:00<?, ?it/s]"
      ]
     },
     "metadata": {},
     "output_type": "display_data"
    },
    {
     "name": "stdout",
     "output_type": "stream",
     "text": [
      "[[498.   1.   1.]\n",
      " [  0. 498.   2.]\n",
      " [  0.   9. 491.]]\n",
      "Adjusting learning rate of group 0 to 5.0500e-04.\n",
      "Validation loss decreased (inf --> 0.034163).Saving model ...\n",
      "Validation Accuracy increased (0.000000 --> 0.991071).Saving model ...\n",
      "Epoch : 1 Train Loss : 0.026487 Train Acc : 0.991173\n",
      "Epoch : 1 Valid Loss : 0.034163 Valid Acc : 0.991071\n"
     ]
    },
    {
     "data": {
      "application/vnd.jupyter.widget-view+json": {
       "model_id": "6ff666206f934ed5a2cbc6a21bae7f78",
       "version_major": 2,
       "version_minor": 0
      },
      "text/plain": [
       "  0%|          | 0/308 [00:00<?, ?it/s]"
      ]
     },
     "metadata": {},
     "output_type": "display_data"
    },
    {
     "data": {
      "application/vnd.jupyter.widget-view+json": {
       "model_id": "58b36b3d09624b3a902c4a8a1056825d",
       "version_major": 2,
       "version_minor": 0
      },
      "text/plain": [
       "  0%|          | 0/47 [00:00<?, ?it/s]"
      ]
     },
     "metadata": {},
     "output_type": "display_data"
    },
    {
     "name": "stdout",
     "output_type": "stream",
     "text": [
      "[[499.   0.   1.]\n",
      " [  0. 498.   2.]\n",
      " [  0.   1. 499.]]\n",
      "Adjusting learning rate of group 0 to 1.0000e-05.\n",
      "Validation loss decreased (0.034163 --> 0.015293).Saving model ...\n",
      "Validation Accuracy increased (0.991071 --> 0.997340).Saving model ...\n",
      "Epoch : 2 Train Loss : 0.015294 Train Acc : 0.995637\n",
      "Epoch : 2 Valid Loss : 0.015293 Valid Acc : 0.997340\n"
     ]
    },
    {
     "data": {
      "application/vnd.jupyter.widget-view+json": {
       "model_id": "38b2236bd1a646b69fb7802d4fdb25a5",
       "version_major": 2,
       "version_minor": 0
      },
      "text/plain": [
       "  0%|          | 0/308 [00:00<?, ?it/s]"
      ]
     },
     "metadata": {},
     "output_type": "display_data"
    },
    {
     "data": {
      "application/vnd.jupyter.widget-view+json": {
       "model_id": "741366d0e8fa4ee6bf27b1f01b909c14",
       "version_major": 2,
       "version_minor": 0
      },
      "text/plain": [
       "  0%|          | 0/47 [00:00<?, ?it/s]"
      ]
     },
     "metadata": {},
     "output_type": "display_data"
    },
    {
     "name": "stdout",
     "output_type": "stream",
     "text": [
      "[[499.   0.   1.]\n",
      " [  0. 498.   2.]\n",
      " [  0.   1. 499.]]\n",
      "Adjusting learning rate of group 0 to 5.0500e-04.\n",
      "Validation Accuracy increased (0.997340 --> 0.997340).Saving model ...\n",
      "Epoch : 3 Train Loss : 0.010457 Train Acc : 0.996601\n",
      "Epoch : 3 Valid Loss : 0.018398 Valid Acc : 0.997340\n"
     ]
    },
    {
     "data": {
      "application/vnd.jupyter.widget-view+json": {
       "model_id": "6ded92aff58f4538b9bd78022be76fad",
       "version_major": 2,
       "version_minor": 0
      },
      "text/plain": [
       "  0%|          | 0/308 [00:00<?, ?it/s]"
      ]
     },
     "metadata": {},
     "output_type": "display_data"
    },
    {
     "data": {
      "application/vnd.jupyter.widget-view+json": {
       "model_id": "870a2b5242e94effae9ab2719178cc3b",
       "version_major": 2,
       "version_minor": 0
      },
      "text/plain": [
       "  0%|          | 0/47 [00:00<?, ?it/s]"
      ]
     },
     "metadata": {},
     "output_type": "display_data"
    },
    {
     "name": "stdout",
     "output_type": "stream",
     "text": [
      "[[498.   1.   1.]\n",
      " [  0. 500.   0.]\n",
      " [  0.   1. 499.]]\n",
      "Adjusting learning rate of group 0 to 1.0000e-03.\n",
      "Validation loss decreased (0.015293 --> 0.005373).Saving model ...\n",
      "Validation Accuracy increased (0.997340 --> 0.998005).Saving model ...\n",
      "Epoch : 4 Train Loss : 0.011148 Train Acc : 0.996804\n",
      "Epoch : 4 Valid Loss : 0.005373 Valid Acc : 0.998005\n"
     ]
    },
    {
     "data": {
      "application/vnd.jupyter.widget-view+json": {
       "model_id": "4f07439f99564281b874f85be04596b9",
       "version_major": 2,
       "version_minor": 0
      },
      "text/plain": [
       "  0%|          | 0/308 [00:00<?, ?it/s]"
      ]
     },
     "metadata": {},
     "output_type": "display_data"
    },
    {
     "data": {
      "application/vnd.jupyter.widget-view+json": {
       "model_id": "c92863c5085d46acb422a4e70d819b1f",
       "version_major": 2,
       "version_minor": 0
      },
      "text/plain": [
       "  0%|          | 0/47 [00:00<?, ?it/s]"
      ]
     },
     "metadata": {},
     "output_type": "display_data"
    },
    {
     "name": "stdout",
     "output_type": "stream",
     "text": [
      "[[499.   1.   0.]\n",
      " [  0. 498.   2.]\n",
      " [  2.  20. 478.]]\n",
      "Adjusting learning rate of group 0 to 5.0500e-04.\n",
      "Epoch : 5 Train Loss : 0.023921 Train Acc : 0.992757\n",
      "Epoch : 5 Valid Loss : 0.047366 Valid Acc : 0.983283\n"
     ]
    },
    {
     "data": {
      "application/vnd.jupyter.widget-view+json": {
       "model_id": "ac9dd9175d364c64bb090e6c3f20bf47",
       "version_major": 2,
       "version_minor": 0
      },
      "text/plain": [
       "  0%|          | 0/308 [00:00<?, ?it/s]"
      ]
     },
     "metadata": {},
     "output_type": "display_data"
    },
    {
     "data": {
      "application/vnd.jupyter.widget-view+json": {
       "model_id": "72699e1d73784f3caddd3e64e2c6deac",
       "version_major": 2,
       "version_minor": 0
      },
      "text/plain": [
       "  0%|          | 0/47 [00:00<?, ?it/s]"
      ]
     },
     "metadata": {},
     "output_type": "display_data"
    },
    {
     "name": "stdout",
     "output_type": "stream",
     "text": [
      "[[500.   0.   0.]\n",
      " [  0. 500.   0.]\n",
      " [  0.   9. 491.]]\n",
      "Adjusting learning rate of group 0 to 1.0000e-05.\n",
      "Epoch : 6 Train Loss : 0.019836 Train Acc : 0.994623\n",
      "Epoch : 6 Valid Loss : 0.019405 Valid Acc : 0.994016\n"
     ]
    },
    {
     "data": {
      "application/vnd.jupyter.widget-view+json": {
       "model_id": "81e5ffc1cc564a35a80764b982d90db3",
       "version_major": 2,
       "version_minor": 0
      },
      "text/plain": [
       "  0%|          | 0/308 [00:00<?, ?it/s]"
      ]
     },
     "metadata": {},
     "output_type": "display_data"
    },
    {
     "data": {
      "application/vnd.jupyter.widget-view+json": {
       "model_id": "26ae03cd3f1d4555b23f6c67df838f4f",
       "version_major": 2,
       "version_minor": 0
      },
      "text/plain": [
       "  0%|          | 0/47 [00:00<?, ?it/s]"
      ]
     },
     "metadata": {},
     "output_type": "display_data"
    },
    {
     "name": "stdout",
     "output_type": "stream",
     "text": [
      "[[500.   0.   0.]\n",
      " [  0. 500.   0.]\n",
      " [  0.   4. 496.]]\n",
      "Adjusting learning rate of group 0 to 5.0500e-04.\n",
      "Epoch : 7 Train Loss : 0.010592 Train Acc : 0.996398\n",
      "Epoch : 7 Valid Loss : 0.013841 Valid Acc : 0.997340\n"
     ]
    },
    {
     "data": {
      "application/vnd.jupyter.widget-view+json": {
       "model_id": "cde038cb2a2c4dde9ff66c89820f2939",
       "version_major": 2,
       "version_minor": 0
      },
      "text/plain": [
       "  0%|          | 0/308 [00:00<?, ?it/s]"
      ]
     },
     "metadata": {},
     "output_type": "display_data"
    },
    {
     "data": {
      "application/vnd.jupyter.widget-view+json": {
       "model_id": "dea084978d234dd59af569ee80d6b9c4",
       "version_major": 2,
       "version_minor": 0
      },
      "text/plain": [
       "  0%|          | 0/47 [00:00<?, ?it/s]"
      ]
     },
     "metadata": {},
     "output_type": "display_data"
    },
    {
     "name": "stdout",
     "output_type": "stream",
     "text": [
      "[[500.   0.   0.]\n",
      " [  1. 498.   1.]\n",
      " [  0.   3. 497.]]\n",
      "Adjusting learning rate of group 0 to 1.0000e-03.\n",
      "Epoch : 8 Train Loss : 0.013388 Train Acc : 0.996500\n",
      "Epoch : 8 Valid Loss : 0.006977 Valid Acc : 0.996676\n"
     ]
    },
    {
     "data": {
      "application/vnd.jupyter.widget-view+json": {
       "model_id": "fd2f14d0a4644658bc4340e6b353f4bd",
       "version_major": 2,
       "version_minor": 0
      },
      "text/plain": [
       "  0%|          | 0/308 [00:00<?, ?it/s]"
      ]
     },
     "metadata": {},
     "output_type": "display_data"
    },
    {
     "data": {
      "application/vnd.jupyter.widget-view+json": {
       "model_id": "69e21491907b474091485ab61f37a545",
       "version_major": 2,
       "version_minor": 0
      },
      "text/plain": [
       "  0%|          | 0/47 [00:00<?, ?it/s]"
      ]
     },
     "metadata": {},
     "output_type": "display_data"
    },
    {
     "name": "stdout",
     "output_type": "stream",
     "text": [
      "[[499.   0.   1.]\n",
      " [  6. 477.  17.]\n",
      " [  2.   2. 496.]]\n",
      "Adjusting learning rate of group 0 to 5.0500e-04.\n",
      "Epoch : 9 Train Loss : 0.021229 Train Acc : 0.993163\n",
      "Epoch : 9 Valid Loss : 0.048773 Valid Acc : 0.981383\n"
     ]
    },
    {
     "data": {
      "application/vnd.jupyter.widget-view+json": {
       "model_id": "09d4529f0fe0420cb88bcacaf4ed71f7",
       "version_major": 2,
       "version_minor": 0
      },
      "text/plain": [
       "  0%|          | 0/308 [00:00<?, ?it/s]"
      ]
     },
     "metadata": {},
     "output_type": "display_data"
    },
    {
     "data": {
      "application/vnd.jupyter.widget-view+json": {
       "model_id": "cbe89a3dceee489f85c5d337af2a7108",
       "version_major": 2,
       "version_minor": 0
      },
      "text/plain": [
       "  0%|          | 0/47 [00:00<?, ?it/s]"
      ]
     },
     "metadata": {},
     "output_type": "display_data"
    },
    {
     "name": "stdout",
     "output_type": "stream",
     "text": [
      "[[498.   0.   2.]\n",
      " [  0. 498.   2.]\n",
      " [  0.   8. 492.]]\n",
      "Adjusting learning rate of group 0 to 1.0000e-05.\n",
      "Epoch : 10 Train Loss : 0.013825 Train Acc : 0.995282\n",
      "Epoch : 10 Valid Loss : 0.043976 Valid Acc : 0.992021\n"
     ]
    },
    {
     "data": {
      "application/vnd.jupyter.widget-view+json": {
       "model_id": "5d905a54ffd54725b0758d36b648e532",
       "version_major": 2,
       "version_minor": 0
      },
      "text/plain": [
       "  0%|          | 0/308 [00:00<?, ?it/s]"
      ]
     },
     "metadata": {},
     "output_type": "display_data"
    },
    {
     "data": {
      "application/vnd.jupyter.widget-view+json": {
       "model_id": "67e72ebc4c75440082082b612c7456ab",
       "version_major": 2,
       "version_minor": 0
      },
      "text/plain": [
       "  0%|          | 0/47 [00:00<?, ?it/s]"
      ]
     },
     "metadata": {},
     "output_type": "display_data"
    },
    {
     "name": "stdout",
     "output_type": "stream",
     "text": [
      "[[496.   0.   4.]\n",
      " [  0. 499.   1.]\n",
      " [  0.   6. 494.]]\n",
      "Adjusting learning rate of group 0 to 5.0500e-04.\n",
      "Epoch : 11 Train Loss : 0.007494 Train Acc : 0.997565\n",
      "Epoch : 11 Valid Loss : 0.057273 Valid Acc : 0.992686\n"
     ]
    },
    {
     "data": {
      "application/vnd.jupyter.widget-view+json": {
       "model_id": "462cf010314f483c8575a037fc1ac771",
       "version_major": 2,
       "version_minor": 0
      },
      "text/plain": [
       "  0%|          | 0/308 [00:00<?, ?it/s]"
      ]
     },
     "metadata": {},
     "output_type": "display_data"
    },
    {
     "data": {
      "application/vnd.jupyter.widget-view+json": {
       "model_id": "c2868d55a2db43a0a0595ddb62734181",
       "version_major": 2,
       "version_minor": 0
      },
      "text/plain": [
       "  0%|          | 0/47 [00:00<?, ?it/s]"
      ]
     },
     "metadata": {},
     "output_type": "display_data"
    },
    {
     "name": "stdout",
     "output_type": "stream",
     "text": [
      "[[499.   0.   1.]\n",
      " [  0. 498.   2.]\n",
      " [  0.   3. 497.]]\n",
      "Adjusting learning rate of group 0 to 1.0000e-03.\n",
      "Epoch : 12 Train Loss : 0.011575 Train Acc : 0.996094\n",
      "Epoch : 12 Valid Loss : 0.019533 Valid Acc : 0.996011\n"
     ]
    },
    {
     "data": {
      "application/vnd.jupyter.widget-view+json": {
       "model_id": "a4fe473dde6c48baa6744f774ce5f363",
       "version_major": 2,
       "version_minor": 0
      },
      "text/plain": [
       "  0%|          | 0/308 [00:00<?, ?it/s]"
      ]
     },
     "metadata": {},
     "output_type": "display_data"
    },
    {
     "data": {
      "application/vnd.jupyter.widget-view+json": {
       "model_id": "d1aa9fe1f34644eca87cf97dfe4b3606",
       "version_major": 2,
       "version_minor": 0
      },
      "text/plain": [
       "  0%|          | 0/47 [00:00<?, ?it/s]"
      ]
     },
     "metadata": {},
     "output_type": "display_data"
    },
    {
     "name": "stdout",
     "output_type": "stream",
     "text": [
      "[[498.   0.   2.]\n",
      " [  3. 491.   6.]\n",
      " [  0.   8. 492.]]\n",
      "Adjusting learning rate of group 0 to 5.0500e-04.\n",
      "Epoch : 13 Train Loss : 0.020824 Train Acc : 0.993506\n",
      "Epoch : 13 Valid Loss : 0.055253 Valid Acc : 0.987367\n"
     ]
    },
    {
     "data": {
      "application/vnd.jupyter.widget-view+json": {
       "model_id": "c67668ff2a874dfebd3ae3775df8446d",
       "version_major": 2,
       "version_minor": 0
      },
      "text/plain": [
       "  0%|          | 0/308 [00:00<?, ?it/s]"
      ]
     },
     "metadata": {},
     "output_type": "display_data"
    },
    {
     "data": {
      "application/vnd.jupyter.widget-view+json": {
       "model_id": "5d6592c3de65463c91b300ad03ace93e",
       "version_major": 2,
       "version_minor": 0
      },
      "text/plain": [
       "  0%|          | 0/47 [00:00<?, ?it/s]"
      ]
     },
     "metadata": {},
     "output_type": "display_data"
    },
    {
     "name": "stdout",
     "output_type": "stream",
     "text": [
      "[[499.   0.   1.]\n",
      " [  0. 498.   2.]\n",
      " [  0.   6. 494.]]\n",
      "Adjusting learning rate of group 0 to 1.0000e-05.\n",
      "Epoch : 14 Train Loss : 0.015260 Train Acc : 0.995192\n",
      "Epoch : 14 Valid Loss : 0.016155 Valid Acc : 0.994016\n"
     ]
    },
    {
     "data": {
      "application/vnd.jupyter.widget-view+json": {
       "model_id": "f9555c9236a243f084da2dc800ff8d0f",
       "version_major": 2,
       "version_minor": 0
      },
      "text/plain": [
       "  0%|          | 0/308 [00:00<?, ?it/s]"
      ]
     },
     "metadata": {},
     "output_type": "display_data"
    },
    {
     "data": {
      "application/vnd.jupyter.widget-view+json": {
       "model_id": "86695b4e51f448d6b642566e34a1cf3f",
       "version_major": 2,
       "version_minor": 0
      },
      "text/plain": [
       "  0%|          | 0/47 [00:00<?, ?it/s]"
      ]
     },
     "metadata": {},
     "output_type": "display_data"
    },
    {
     "name": "stdout",
     "output_type": "stream",
     "text": [
      "[[500.   0.   0.]\n",
      " [  0. 498.   2.]\n",
      " [  0.   6. 494.]]\n",
      "Adjusting learning rate of group 0 to 5.0500e-04.\n",
      "Epoch : 15 Train Loss : 0.007593 Train Acc : 0.997311\n",
      "Epoch : 15 Valid Loss : 0.012764 Valid Acc : 0.994681\n"
     ]
    },
    {
     "data": {
      "application/vnd.jupyter.widget-view+json": {
       "model_id": "222279fe9dd84637bcbc88bece35d242",
       "version_major": 2,
       "version_minor": 0
      },
      "text/plain": [
       "  0%|          | 0/308 [00:00<?, ?it/s]"
      ]
     },
     "metadata": {},
     "output_type": "display_data"
    },
    {
     "data": {
      "application/vnd.jupyter.widget-view+json": {
       "model_id": "14009d02604f43589db2aafaf733e124",
       "version_major": 2,
       "version_minor": 0
      },
      "text/plain": [
       "  0%|          | 0/47 [00:00<?, ?it/s]"
      ]
     },
     "metadata": {},
     "output_type": "display_data"
    },
    {
     "name": "stdout",
     "output_type": "stream",
     "text": [
      "[[498.   0.   2.]\n",
      " [  1. 495.   4.]\n",
      " [  0.   1. 499.]]\n",
      "Adjusting learning rate of group 0 to 1.0000e-03.\n",
      "Epoch : 16 Train Loss : 0.006532 Train Acc : 0.997971\n",
      "Epoch : 16 Valid Loss : 0.096504 Valid Acc : 0.994681\n"
     ]
    },
    {
     "data": {
      "application/vnd.jupyter.widget-view+json": {
       "model_id": "8babab094a644d78be06712d38adbe7e",
       "version_major": 2,
       "version_minor": 0
      },
      "text/plain": [
       "  0%|          | 0/308 [00:00<?, ?it/s]"
      ]
     },
     "metadata": {},
     "output_type": "display_data"
    },
    {
     "data": {
      "application/vnd.jupyter.widget-view+json": {
       "model_id": "4b7e6e6ba7a34dab8a141cc1dbfe1994",
       "version_major": 2,
       "version_minor": 0
      },
      "text/plain": [
       "  0%|          | 0/47 [00:00<?, ?it/s]"
      ]
     },
     "metadata": {},
     "output_type": "display_data"
    },
    {
     "name": "stdout",
     "output_type": "stream",
     "text": [
      "[[499.   0.   1.]\n",
      " [  3. 485.  12.]\n",
      " [  1.   9. 490.]]\n",
      "Epoch : 17 Train Loss : 0.026057 Train Acc : 0.992086\n",
      "Epoch : 17 Valid Loss : 0.058925 Valid Acc : 0.982713\n"
     ]
    },
    {
     "data": {
      "application/vnd.jupyter.widget-view+json": {
       "model_id": "059510772077455c847a5777675ffdc5",
       "version_major": 2,
       "version_minor": 0
      },
      "text/plain": [
       "  0%|          | 0/308 [00:00<?, ?it/s]"
      ]
     },
     "metadata": {},
     "output_type": "display_data"
    },
    {
     "data": {
      "application/vnd.jupyter.widget-view+json": {
       "model_id": "27ae9b0bb07b490993656a20ecb78cc7",
       "version_major": 2,
       "version_minor": 0
      },
      "text/plain": [
       "  0%|          | 0/47 [00:00<?, ?it/s]"
      ]
     },
     "metadata": {},
     "output_type": "display_data"
    },
    {
     "name": "stdout",
     "output_type": "stream",
     "text": [
      "[[500.   0.   0.]\n",
      " [  3. 490.   7.]\n",
      " [  2.  10. 488.]]\n",
      "Epoch : 18 Train Loss : 0.027178 Train Acc : 0.990919\n",
      "Epoch : 18 Valid Loss : 0.045902 Valid Acc : 0.985277\n"
     ]
    },
    {
     "data": {
      "application/vnd.jupyter.widget-view+json": {
       "model_id": "3a3ec03abe0249c6ada290cc7ab62016",
       "version_major": 2,
       "version_minor": 0
      },
      "text/plain": [
       "  0%|          | 0/308 [00:00<?, ?it/s]"
      ]
     },
     "metadata": {},
     "output_type": "display_data"
    },
    {
     "data": {
      "application/vnd.jupyter.widget-view+json": {
       "model_id": "fb730b50b9604726b6e798e29e6ed7be",
       "version_major": 2,
       "version_minor": 0
      },
      "text/plain": [
       "  0%|          | 0/47 [00:00<?, ?it/s]"
      ]
     },
     "metadata": {},
     "output_type": "display_data"
    },
    {
     "name": "stdout",
     "output_type": "stream",
     "text": [
      "[[499.   1.   0.]\n",
      " [  1. 496.   3.]\n",
      " [  2.  23. 475.]]\n",
      "Epoch : 19 Train Loss : 0.022869 Train Acc : 0.992390\n",
      "Epoch : 19 Valid Loss : 0.057508 Valid Acc : 0.979863\n"
     ]
    },
    {
     "data": {
      "application/vnd.jupyter.widget-view+json": {
       "model_id": "d451b0beb91442179806f6492480120c",
       "version_major": 2,
       "version_minor": 0
      },
      "text/plain": [
       "  0%|          | 0/308 [00:00<?, ?it/s]"
      ]
     },
     "metadata": {},
     "output_type": "display_data"
    },
    {
     "data": {
      "application/vnd.jupyter.widget-view+json": {
       "model_id": "6fcf3bcef058422c8ad62b1f8d279fa3",
       "version_major": 2,
       "version_minor": 0
      },
      "text/plain": [
       "  0%|          | 0/47 [00:00<?, ?it/s]"
      ]
     },
     "metadata": {},
     "output_type": "display_data"
    },
    {
     "name": "stdout",
     "output_type": "stream",
     "text": [
      "[[498.   0.   2.]\n",
      " [  1. 490.   9.]\n",
      " [  0.  16. 484.]]\n",
      "Epoch : 20 Train Loss : 0.023019 Train Acc : 0.991782\n",
      "Epoch : 20 Valid Loss : 0.052044 Valid Acc : 0.981288\n"
     ]
    },
    {
     "data": {
      "application/vnd.jupyter.widget-view+json": {
       "model_id": "a43a14bf84d14e108d9895bbd21a42bd",
       "version_major": 2,
       "version_minor": 0
      },
      "text/plain": [
       "  0%|          | 0/308 [00:00<?, ?it/s]"
      ]
     },
     "metadata": {},
     "output_type": "display_data"
    },
    {
     "data": {
      "application/vnd.jupyter.widget-view+json": {
       "model_id": "c728c98c9a29490789dd39a07335cdd4",
       "version_major": 2,
       "version_minor": 0
      },
      "text/plain": [
       "  0%|          | 0/47 [00:00<?, ?it/s]"
      ]
     },
     "metadata": {},
     "output_type": "display_data"
    },
    {
     "name": "stdout",
     "output_type": "stream",
     "text": [
      "[[499.   0.   1.]\n",
      " [  1. 497.   2.]\n",
      " [  0.  17. 483.]]\n",
      "Epoch : 21 Train Loss : 0.018545 Train Acc : 0.993912\n",
      "Epoch : 21 Valid Loss : 0.041332 Valid Acc : 0.985942\n"
     ]
    },
    {
     "data": {
      "application/vnd.jupyter.widget-view+json": {
       "model_id": "b99040b591384ede84433a4a981ec5d3",
       "version_major": 2,
       "version_minor": 0
      },
      "text/plain": [
       "  0%|          | 0/308 [00:00<?, ?it/s]"
      ]
     },
     "metadata": {},
     "output_type": "display_data"
    },
    {
     "data": {
      "application/vnd.jupyter.widget-view+json": {
       "model_id": "0bc2d666b851474daaf4bc989929eb07",
       "version_major": 2,
       "version_minor": 0
      },
      "text/plain": [
       "  0%|          | 0/47 [00:00<?, ?it/s]"
      ]
     },
     "metadata": {},
     "output_type": "display_data"
    },
    {
     "name": "stdout",
     "output_type": "stream",
     "text": [
      "[[498.   2.   0.]\n",
      " [  1. 498.   1.]\n",
      " [  0.  30. 470.]]\n",
      "Epoch : 22 Train Loss : 0.016570 Train Acc : 0.994065\n",
      "Epoch : 22 Valid Loss : 0.066411 Valid Acc : 0.977204\n"
     ]
    },
    {
     "data": {
      "application/vnd.jupyter.widget-view+json": {
       "model_id": "c62637cbf35e4daa88915fb0f4ff883e",
       "version_major": 2,
       "version_minor": 0
      },
      "text/plain": [
       "  0%|          | 0/308 [00:00<?, ?it/s]"
      ]
     },
     "metadata": {},
     "output_type": "display_data"
    },
    {
     "data": {
      "application/vnd.jupyter.widget-view+json": {
       "model_id": "13658ab917f24fb1b0be0c9c58763282",
       "version_major": 2,
       "version_minor": 0
      },
      "text/plain": [
       "  0%|          | 0/47 [00:00<?, ?it/s]"
      ]
     },
     "metadata": {},
     "output_type": "display_data"
    },
    {
     "name": "stdout",
     "output_type": "stream",
     "text": [
      "[[496.   3.   1.]\n",
      " [  0. 497.   3.]\n",
      " [  0.  25. 475.]]\n",
      "Epoch : 23 Train Loss : 0.022048 Train Acc : 0.992999\n",
      "Epoch : 23 Valid Loss : 1.074353 Valid Acc : 0.978438\n"
     ]
    },
    {
     "data": {
      "application/vnd.jupyter.widget-view+json": {
       "model_id": "5e3ee78888de4eb89d1600bbf3def7e7",
       "version_major": 2,
       "version_minor": 0
      },
      "text/plain": [
       "  0%|          | 0/308 [00:00<?, ?it/s]"
      ]
     },
     "metadata": {},
     "output_type": "display_data"
    },
    {
     "data": {
      "application/vnd.jupyter.widget-view+json": {
       "model_id": "beb0004a7cf6485b84f8401b67941d39",
       "version_major": 2,
       "version_minor": 0
      },
      "text/plain": [
       "  0%|          | 0/47 [00:00<?, ?it/s]"
      ]
     },
     "metadata": {},
     "output_type": "display_data"
    },
    {
     "name": "stdout",
     "output_type": "stream",
     "text": [
      "[[498.   2.   0.]\n",
      " [  2. 493.   5.]\n",
      " [  0.  15. 485.]]\n",
      "Epoch : 24 Train Loss : 0.024833 Train Acc : 0.992137\n",
      "Epoch : 24 Valid Loss : 0.051544 Valid Acc : 0.983853\n"
     ]
    },
    {
     "data": {
      "application/vnd.jupyter.widget-view+json": {
       "model_id": "9bafbe5e8abe44e9b057b707e29ea405",
       "version_major": 2,
       "version_minor": 0
      },
      "text/plain": [
       "  0%|          | 0/308 [00:00<?, ?it/s]"
      ]
     },
     "metadata": {},
     "output_type": "display_data"
    },
    {
     "data": {
      "application/vnd.jupyter.widget-view+json": {
       "model_id": "662fbca2ce214860b75eecd90eefdc4e",
       "version_major": 2,
       "version_minor": 0
      },
      "text/plain": [
       "  0%|          | 0/47 [00:00<?, ?it/s]"
      ]
     },
     "metadata": {},
     "output_type": "display_data"
    },
    {
     "name": "stdout",
     "output_type": "stream",
     "text": [
      "[[498.   2.   0.]\n",
      " [  2. 496.   2.]\n",
      " [  0.  17. 483.]]\n",
      "Epoch : 25 Train Loss : 0.016672 Train Acc : 0.994584\n",
      "Epoch : 25 Valid Loss : 0.049863 Valid Acc : 0.984612\n"
     ]
    }
   ],
   "source": [
    "for fold, trainloader in enumerate(train_loader_list):\n",
    "\n",
    "    critertion = nn.CrossEntropyLoss()\n",
    "    optimizer = optim.Adam(model.parameters(),lr = 0.001)\n",
    "    schedular_1 = optim.lr_scheduler.CosineAnnealingLR(optimizer,T_max=2,eta_min=1e-5, verbose = True)\n",
    "    schedular_2 = optim.lr_scheduler.ReduceLROnPlateau(optimizer,factor = 0.1,patience = 2)\n",
    "    epochs = 25\n",
    "    valid_loss_min = np.Inf\n",
    "    best_acc = 0\n",
    "    best_AUC = 0\n",
    "\n",
    "\n",
    "    train_loss_hist = []\n",
    "    valid_loss_hist = []\n",
    "    train_acc_hist = []\n",
    "    valid_acc_hist = []\n",
    "\n",
    "    for i in range(epochs):\n",
    "\n",
    "        train_loss = 0.0\n",
    "        valid_loss = 0.0\n",
    "        train_acc = 0.0\n",
    "        valid_acc = 0.0 \n",
    "\n",
    "\n",
    "        model.train()\n",
    "\n",
    "        for images,labels in tqdm(trainloader):\n",
    "            images = images.to(device)\n",
    "            labels = labels.to(device)\n",
    "\n",
    "            ps = model(images)\n",
    "            loss = critertion(ps,labels)\n",
    "            optimizer.zero_grad()\n",
    "            loss.backward()\n",
    "            optimizer.step()\n",
    "\n",
    "            train_acc += accuracy(ps,labels)\n",
    "            train_loss +=loss.item()\n",
    "\n",
    "        avg_train_acc = train_acc / len(trainloader)\n",
    "        train_acc_hist.append(avg_train_acc)\n",
    "        avg_train_loss = train_loss / len(trainloader)\n",
    "        train_loss_hist.append(avg_train_loss)\n",
    "\n",
    "        model.eval()\n",
    "        with torch.no_grad():\n",
    "            confusion_matrix = np.zeros((3, 3))\n",
    "            for images,labels in tqdm(valid_loader_list[fold]):\n",
    "                images = images.to(device)\n",
    "                labels = labels.to(device)\n",
    "\n",
    "                ps = model(images)\n",
    "                _, preds = torch.max(ps, 1)\n",
    "                for t, p in zip(labels, preds.view(-1)):\n",
    "                    confusion_matrix[t.long(), p.long()] += 1\n",
    "\n",
    "\n",
    "                loss = critertion(ps,labels)\n",
    "\n",
    "                valid_acc += accuracy(ps,labels)\n",
    "                valid_loss += loss.item()\n",
    "\n",
    "            print(confusion_matrix)            \n",
    "            avg_valid_acc = valid_acc / len(valid_loader_list[fold])\n",
    "            valid_acc_hist.append(avg_valid_acc)\n",
    "            avg_valid_loss = valid_loss / len(valid_loader_list[fold])\n",
    "            valid_loss_hist.append(avg_valid_loss)\n",
    "\n",
    "            if i > 15:\n",
    "                schedular_2.step(avg_valid_loss)\n",
    "            else:\n",
    "                schedular_1.step()\n",
    "\n",
    "            if avg_valid_loss <= valid_loss_min:\n",
    "                print('Validation loss decreased ({:.6f} --> {:.6f}).Saving model ...'.format(valid_loss_min,avg_valid_loss))\n",
    "                torch.save({\n",
    "                    'epoch' : i,\n",
    "                    'model_state_dict' : model.state_dict(),\n",
    "                    'optimizer_state_dict' : optimizer.state_dict(),\n",
    "                    'valid_loss_min' : avg_valid_loss\n",
    "                },f'efficientNetb4-fold_{fold+1}.pt')\n",
    "\n",
    "                valid_loss_min = avg_valid_loss\n",
    "\n",
    "\n",
    "            if avg_valid_acc >= best_acc:\n",
    "                print('Validation Accuracy increased ({:.6f} --> {:.6f}).Saving model ...'.format(best_acc,avg_valid_acc))\n",
    "                torch.save({\n",
    "                    'epoch' : i,\n",
    "                    'model_state_dict' : model.state_dict(),\n",
    "                    'optimizer_state_dict' : optimizer.state_dict(),\n",
    "                    'valid_acc_max' : avg_valid_acc\n",
    "                },f'efficientNetb4_fold_{fold+1}_best_acc.pt')\n",
    "\n",
    "                best_acc = avg_valid_acc\n",
    "\n",
    "        print(\"Epoch : {} Train Loss : {:.6f} Train Acc : {:.6f}\".format(i+1,avg_train_loss,avg_train_acc))\n",
    "        print(\"Epoch : {} Valid Loss : {:.6f} Valid Acc : {:.6f}\".format(i+1,avg_valid_loss,avg_valid_acc))\n"
   ]
  },
  {
   "cell_type": "markdown",
   "id": "e93bf7c1",
   "metadata": {},
   "source": [
    "### Inference"
   ]
  },
  {
   "cell_type": "code",
   "execution_count": 11,
   "id": "4b44a057",
   "metadata": {
    "ExecuteTime": {
     "end_time": "2021-10-12T13:03:41.600122Z",
     "start_time": "2021-10-12T13:03:41.593214Z"
    }
   },
   "outputs": [],
   "source": [
    "import pandas as pd\n",
    "import seaborn as sns\n",
    "\n",
    "def calc_confusion_matrix(model, loader, device, nb_classes):\n",
    "    confusion_matrix = np.zeros((nb_classes, nb_classes))\n",
    "    with torch.no_grad():\n",
    "        for i, (inputs, classes) in tqdm(enumerate(loader)):\n",
    "            inputs = inputs.to(device)\n",
    "            classes = classes.to(device)\n",
    "            outputs = model(inputs)\n",
    "            _, preds = torch.max(outputs, 1)\n",
    "            for t, p in zip(classes, preds.view(-1)):\n",
    "                    confusion_matrix[t.long(), p.long()] += 1\n",
    "    return confusion_matrix.astype(int)\n",
    "\n",
    "\n",
    "def plot_confusion_matrix(confusion_matrix, validloader, path_save):\n",
    "    plt.figure(figsize=(15,10))\n",
    "\n",
    "    class_names = ['covid', 'normal', 'pneumonia']\n",
    "    df_cm = pd.DataFrame(confusion_matrix, index=class_names, columns=class_names).astype(int)\n",
    "    heatmap = sns.heatmap(df_cm, annot=True, fmt=\"d\")\n",
    "\n",
    "    heatmap.yaxis.set_ticklabels(heatmap.yaxis.get_ticklabels(), rotation=0, ha='right',fontsize=15)\n",
    "    heatmap.xaxis.set_ticklabels(heatmap.xaxis.get_ticklabels(), rotation=45, ha='right',fontsize=15)\n",
    "    plt.ylabel('True label')\n",
    "    plt.xlabel('Predicted label')\n",
    "    try:\n",
    "        plt.savefig(path_save)\n",
    "    except:\n",
    "        pass\n"
   ]
  },
  {
   "cell_type": "code",
   "execution_count": 15,
   "id": "2ff027ef",
   "metadata": {
    "ExecuteTime": {
     "end_time": "2021-10-12T13:06:56.917915Z",
     "start_time": "2021-10-12T13:06:51.059633Z"
    }
   },
   "outputs": [
    {
     "data": {
      "application/vnd.jupyter.widget-view+json": {
       "model_id": "847f4674498341eeb50ac35224923836",
       "version_major": 2,
       "version_minor": 0
      },
      "text/plain": [
       "0it [00:00, ?it/s]"
      ]
     },
     "metadata": {},
     "output_type": "display_data"
    },
    {
     "data": {
      "image/png": "[encoded data removed]",
      "text/plain": [
       "<Figure size 1080x720 with 2 Axes>"
      ]
     },
     "metadata": {
      "needs_background": "light"
     },
     "output_type": "display_data"
    }
   ],
   "source": [
    "path2weights=\"/media/brats/DRIVE1/akansh/DeepXrays/Notebooks/Chest-XR-Grand_challenge/Fold_setup/efficientNetb4_fold_5_best_acc-clahe.pt\"\n",
    "model.load_state_dict(torch.load(path2weights)['model_state_dict'])\n",
    "model.eval()\n",
    "# valid_fold_5 = covid_dataset(data_dir['valid'], label_loc = \"./fold_csv/val_fold_5.csv\", transforms = data_transforms['valid'], data_type = \"valid\")\n",
    "# validloader_fold_5 = DataLoader(valid_fold_5,batch_size = 32,shuffle = False)\n",
    "confusion_matrix = calc_confusion_matrix(model, validloader_fold_5,'cuda',3)\n",
    "plot_confusion_matrix(confusion_matrix, validloader_fold_5, None)"
   ]
  },
  {
   "cell_type": "code",
   "execution_count": null,
   "id": "3c6e5159",
   "metadata": {},
   "outputs": [],
   "source": []
  },
  {
   "cell_type": "code",
   "execution_count": null,
   "id": "cbcfb972",
   "metadata": {},
   "outputs": [],
   "source": []
  },
  {
   "cell_type": "markdown",
   "id": "59f5cb58",
   "metadata": {},
   "source": [
    "### Test data"
   ]
  },
  {
   "cell_type": "code",
   "execution_count": 17,
   "id": "10e79935",
   "metadata": {
    "ExecuteTime": {
     "end_time": "2021-10-12T13:10:02.523812Z",
     "start_time": "2021-10-12T13:10:02.396944Z"
    }
   },
   "outputs": [],
   "source": [
    "import pandas as pd\n",
    "import os\n",
    "from torch.utils.data import Dataset\n",
    "from PIL import Image\n",
    "import time\n",
    "from glob import glob\n",
    "\n",
    "class covid_dataset(Dataset):\n",
    "    def __init__(self, image_loc, label_loc, transform, data_type = 'train'):\n",
    "        filenames = []\n",
    "        for root, dirs, files in os.walk(image_loc):\n",
    "            for file in files:\n",
    "                if file.endswith('.jpg') == True or file.endswith('.png') == True :\n",
    "                    filenames.append(file)\n",
    "#         print(len(filenames))\n",
    "        if data_type == 'train' or data_type == 'valid':\n",
    "            self.full_filenames = glob(image_loc+'*/*.*')\n",
    "        else:\n",
    "            self.full_filenames = glob(image_loc+'*.*')\n",
    "#         print(len(self.full_filenames))\n",
    "            \n",
    "            \n",
    "        label_df = pd.read_csv(label_loc)\n",
    "        label_df.set_index(\"case\", inplace = True)\n",
    "        self.labels = [label_df.loc[filename].values[0] for filename in filenames]\n",
    "        \n",
    "        self.transform = transform\n",
    "        \n",
    "    def __len__(self):\n",
    "        return len(self.full_filenames)\n",
    "    \n",
    "    def __getitem__(self,idx):\n",
    "        image = Image.open(self.full_filenames[idx])\n",
    "        image = image.convert('RGB')        \n",
    "        image = self.transform(image)\n",
    "        return image, self.labels[idx]\n",
    "\n",
    "test_data = covid_dataset(image_loc = \"/media/brats/DRIVE1/akansh/DeepXrays/Data/processed/Chest_XR_covid_gamma/test/\",\n",
    "                         label_loc = \"/media/brats/DRIVE1/akansh/DeepXrays/Data/raw/submission.csv\",\n",
    "                         transform = data_transforms['valid'], data_type='test')\n",
    "\n",
    "valid_data = covid_dataset(image_loc = \"/media/brats/DRIVE1/akansh/DeepXrays/Data/raw/Chest XR covid/validation/\",\n",
    "                          label_loc = \"/media/brats/DRIVE1/akansh/DeepXrays/Data/processed/validation_labels.csv\",\n",
    "                          transform = data_transforms['valid'],\n",
    "                          data_type = 'valid')\n",
    "\n",
    "# train_data = covid_dataset(image_loc = \"/media/brats/DRIVE1/akansh/DeepXrays/Data/raw/Chest XR covid/train/\",\n",
    "#                           label_loc = \"/media/brats/DRIVE1/akansh/DeepXrays/Data/processed/train_labels.csv\",\n",
    "#                           transform = validate_transform,\n",
    "#                           data_type = 'train')\n",
    "\n",
    "\n",
    "\n",
    "def deploy_model(model, dataset, device, num_classes = 3, sanity_check = False):\n",
    "    len_data = len(dataset)\n",
    "    y_out=torch.zeros(len_data,num_classes)\n",
    "    y_gt=np.zeros((len_data),dtype=\"uint8\")\n",
    "    model=model.to(device)\n",
    "    elapsed_times=[]\n",
    "    with torch.no_grad():\n",
    "        for i in tqdm(range(len_data)):\n",
    "            x,y = dataset[i]\n",
    "#             y_gt[i] = y\n",
    "            start=time.time()\n",
    "            y_out[i]=F.softmax(model(x.unsqueeze(0).to(device)),dim = 1)\n",
    "            elapsed=time.time()-start\n",
    "            elapsed_times.append(elapsed)\n",
    "            if sanity_check is True:\n",
    "                break\n",
    "            inference_time=np.mean(elapsed_times)*1000\n",
    "    print(\"average inference time per image on %s: %.2f ms \"%(device,inference_time))\n",
    "    return y_out.numpy(),y_gt"
   ]
  },
  {
   "cell_type": "code",
   "execution_count": 154,
   "id": "40b828b4",
   "metadata": {
    "ExecuteTime": {
     "end_time": "2021-10-12T17:44:06.137241Z",
     "start_time": "2021-10-12T17:39:47.947509Z"
    }
   },
   "outputs": [
    {
     "data": {
      "application/vnd.jupyter.widget-view+json": {
       "model_id": "d0ccb701cc734fa2ad3da9a653b71c9b",
       "version_major": 2,
       "version_minor": 0
      },
      "text/plain": [
       "  0%|          | 0/1200 [00:00<?, ?it/s]"
      ]
     },
     "metadata": {},
     "output_type": "display_data"
    },
    {
     "name": "stdout",
     "output_type": "stream",
     "text": [
      "average inference time per image on cuda: 42.13 ms \n"
     ]
    },
    {
     "data": {
      "application/vnd.jupyter.widget-view+json": {
       "model_id": "bfe33356db77444f9390b3a4abb356b3",
       "version_major": 2,
       "version_minor": 0
      },
      "text/plain": [
       "  0%|          | 0/1200 [00:00<?, ?it/s]"
      ]
     },
     "metadata": {},
     "output_type": "display_data"
    },
    {
     "name": "stdout",
     "output_type": "stream",
     "text": [
      "average inference time per image on cuda: 41.49 ms \n"
     ]
    },
    {
     "data": {
      "application/vnd.jupyter.widget-view+json": {
       "model_id": "f21cabf4f6444b6eb8471367b9136c31",
       "version_major": 2,
       "version_minor": 0
      },
      "text/plain": [
       "  0%|          | 0/1200 [00:00<?, ?it/s]"
      ]
     },
     "metadata": {},
     "output_type": "display_data"
    },
    {
     "name": "stdout",
     "output_type": "stream",
     "text": [
      "average inference time per image on cuda: 41.25 ms \n"
     ]
    },
    {
     "data": {
      "application/vnd.jupyter.widget-view+json": {
       "model_id": "04f1cbf2a0704407b97b9955436dde9d",
       "version_major": 2,
       "version_minor": 0
      },
      "text/plain": [
       "  0%|          | 0/1200 [00:00<?, ?it/s]"
      ]
     },
     "metadata": {},
     "output_type": "display_data"
    },
    {
     "name": "stdout",
     "output_type": "stream",
     "text": [
      "average inference time per image on cuda: 37.26 ms \n"
     ]
    },
    {
     "data": {
      "application/vnd.jupyter.widget-view+json": {
       "model_id": "b18a36b8f41441d6833ecd9296ff163b",
       "version_major": 2,
       "version_minor": 0
      },
      "text/plain": [
       "  0%|          | 0/1200 [00:00<?, ?it/s]"
      ]
     },
     "metadata": {},
     "output_type": "display_data"
    },
    {
     "name": "stdout",
     "output_type": "stream",
     "text": [
      "average inference time per image on cuda: 37.69 ms \n"
     ]
    }
   ],
   "source": [
    "valid_data = [valid_fold_1,valid_fold_2,valid_fold_3,valid_fold_4,valid_fold_5]\n",
    "\n",
    "for i,j in enumerate(valid_data):\n",
    "    path2weights=f\"/media/brats/DRIVE1/akansh/DeepXrays/Notebooks/Chest-XR-Grand_challenge/Fold_setup/efficientNetb4_fold_{i+1}_best_acc-clahe.pt\"\n",
    "    model.load_state_dict(torch.load(path2weights)['model_state_dict'])\n",
    "\n",
    "    model.eval()\n",
    "    y_test_out,_= deploy_model(model,test_data, device,sanity_check=False)\n",
    "    y_test_pred=np.argmax(y_test_out,axis=1)\n",
    "    np.save(f\"./test_probab/test_fold_{i+1}_best_acc.npy\", y_test_out)"
   ]
  },
  {
   "cell_type": "code",
   "execution_count": 58,
   "id": "086926df",
   "metadata": {
    "ExecuteTime": {
     "end_time": "2021-10-12T13:42:37.425056Z",
     "start_time": "2021-10-12T13:42:37.409247Z"
    }
   },
   "outputs": [],
   "source": [
    "from torch.nn import functional as F\n",
    "from sklearn.metrics import accuracy_score\n",
    "from sklearn.metrics import confusion_matrix, ConfusionMatrixDisplay\n",
    "import matplotlib.pyplot as plt"
   ]
  },
  {
   "cell_type": "code",
   "execution_count": 59,
   "id": "41c107ca",
   "metadata": {
    "ExecuteTime": {
     "end_time": "2021-10-12T13:42:37.984887Z",
     "start_time": "2021-10-12T13:42:37.979455Z"
    }
   },
   "outputs": [],
   "source": [
    "def ensemble_model(array_list, weights, true_labels,en_type = 'val' ):\n",
    "    ensemble = np.sum(np.array(array_list)*np.array(weights).reshape(len(weights),1,1), axis = 0)\n",
    "    y_pred_ensemble  = F.softmax(torch.from_numpy(ensemble), dim = 1).numpy()\n",
    "    y_pred_ensemble = np.argmax(y_pred_ensemble, axis=1)\n",
    "    print(np.unique(y_pred_ensemble, return_counts=True))\n",
    "    \n",
    "    if en_type == 'val':\n",
    "        print(f\"Accuracy Score: {accuracy_score(true_labels,y_pred_ensemble)*100}\")\n",
    "    \n",
    "        cm = confusion_matrix(true_labels,y_pred_ensemble, labels = [0,1,2])\n",
    "        disp = ConfusionMatrixDisplay(confusion_matrix=cm,display_labels = [0,1,2])\n",
    "    \n",
    "        disp.plot()\n",
    "        plt.show()\n",
    "    elif en_type == 'test':\n",
    "        test_csv = pd.read_csv(\"/media/brats/DRIVE1/akansh/DeepXrays/Data/raw/submission.csv\")\n",
    "        test_csv[' class'] = y_pred_ensemble\n",
    "        name = input(\"Enter the name\")\n",
    "        test_csv.to_csv(str(name)+'.csv', index = False)\n",
    "    else:\n",
    "        pass"
   ]
  },
  {
   "cell_type": "code",
   "execution_count": 155,
   "id": "c298822d",
   "metadata": {
    "ExecuteTime": {
     "end_time": "2021-10-12T17:47:17.705546Z",
     "start_time": "2021-10-12T17:47:17.700544Z"
    }
   },
   "outputs": [],
   "source": [
    "fold_1 = np.load(\"./valid_probab/valid_fold_1_best_acc.npy\")\n",
    "fold_2 = np.load(\"./valid_probab/valid_fold_2_best_acc.npy\")\n",
    "fold_3 = np.load(\"./valid_probab/valid_fold_3_best_acc.npy\")\n",
    "fold_4 = np.load(\"./valid_probab/valid_fold_4_best_acc.npy\")\n",
    "fold_5 = np.load(\"./valid_probab/valid_fold_5_best_acc.npy\")\n",
    "\n",
    "valid = [fold_1,\n",
    "        fold_2,\n",
    "        fold_3,\n",
    "        fold_4,\n",
    "        fold_5]"
   ]
  },
  {
   "cell_type": "code",
   "execution_count": 156,
   "id": "62073a66",
   "metadata": {
    "ExecuteTime": {
     "end_time": "2021-10-12T17:47:21.981089Z",
     "start_time": "2021-10-12T17:47:20.780497Z"
    }
   },
   "outputs": [
    {
     "name": "stdout",
     "output_type": "stream",
     "text": [
      "(array([0, 1, 2]), array([499, 512, 489]))\n",
      "Accuracy Score: 96.86666666666667\n"
     ]
    },
    {
     "data": {
      "image/png": "[encoded data removed]",
      "text/plain": [
       "<Figure size 432x288 with 2 Axes>"
      ]
     },
     "metadata": {
      "needs_background": "light"
     },
     "output_type": "display_data"
    },
    {
     "name": "stdout",
     "output_type": "stream",
     "text": [
      "(array([0, 1, 2]), array([502, 507, 491]))\n",
      "Accuracy Score: 98.86666666666667\n"
     ]
    },
    {
     "data": {
      "image/png": "[encoded data removed]",
      "text/plain": [
       "<Figure size 432x288 with 2 Axes>"
      ]
     },
     "metadata": {
      "needs_background": "light"
     },
     "output_type": "display_data"
    },
    {
     "name": "stdout",
     "output_type": "stream",
     "text": [
      "(array([0, 1, 2]), array([501, 495, 504]))\n",
      "Accuracy Score: 98.6\n"
     ]
    },
    {
     "data": {
      "image/png": "[encoded data removed]",
      "text/plain": [
       "<Figure size 432x288 with 2 Axes>"
      ]
     },
     "metadata": {
      "needs_background": "light"
     },
     "output_type": "display_data"
    },
    {
     "name": "stdout",
     "output_type": "stream",
     "text": [
      "(array([0, 1, 2]), array([502, 510, 488]))\n",
      "Accuracy Score: 98.8\n"
     ]
    },
    {
     "data": {
      "image/png": "[encoded data removed]",
      "text/plain": [
       "<Figure size 432x288 with 2 Axes>"
      ]
     },
     "metadata": {
      "needs_background": "light"
     },
     "output_type": "display_data"
    },
    {
     "name": "stdout",
     "output_type": "stream",
     "text": [
      "(array([0, 1, 2]), array([498, 515, 487]))\n",
      "Accuracy Score: 97.86666666666667\n"
     ]
    },
    {
     "data": {
      "image/png": "[encoded data removed]",
      "text/plain": [
       "<Figure size 432x288 with 2 Axes>"
      ]
     },
     "metadata": {
      "needs_background": "light"
     },
     "output_type": "display_data"
    }
   ],
   "source": [
    "ensemble_model(valid[0], [1], valid_fold_1.labels)\n",
    "ensemble_model(valid[1], [1], valid_fold_2.labels)\n",
    "ensemble_model(valid[2], [1], valid_fold_3.labels)\n",
    "ensemble_model(valid[3], [1], valid_fold_4.labels)\n",
    "ensemble_model(valid[4], [1], valid_fold_5.labels)"
   ]
  },
  {
   "cell_type": "code",
   "execution_count": 157,
   "id": "f4534b9a",
   "metadata": {
    "ExecuteTime": {
     "end_time": "2021-10-12T17:49:03.017419Z",
     "start_time": "2021-10-12T17:49:03.011204Z"
    }
   },
   "outputs": [],
   "source": [
    "fold_1 = np.load(\"./test_probab/test_fold_1_best_acc.npy\")\n",
    "fold_2 = np.load(\"./test_probab/test_fold_2_best_acc.npy\")\n",
    "fold_3 = np.load(\"./test_probab/test_fold_3_best_acc.npy\")\n",
    "fold_4 = np.load(\"./test_probab/test_fold_4_best_acc.npy\")\n",
    "fold_5 = np.load(\"./test_probab/test_fold_5_best_acc.npy\")\n",
    "efficientNet_1422_test = np.load('/media/brats/DRIVE1/akansh/DeepXrays/Notebooks/Chest-XR-Grand_challenge/Test_probab/efficientNet_1422_Test.npy')\n",
    "efficient_Net_best_loss_test = np.load('/media/brats/DRIVE1/akansh/DeepXrays/Notebooks/Chest-XR-Grand_challenge/Test_probab/efficientNet_best_loss_Test.npy')\n",
    "\n",
    "test = [fold_1,\n",
    "        fold_2,\n",
    "        fold_3,\n",
    "        fold_4,\n",
    "        fold_5,\n",
    "       efficientNet_1422_test,\n",
    "efficient_Net_best_loss_test]"
   ]
  },
  {
   "cell_type": "code",
   "execution_count": 225,
   "id": "66cbca3b",
   "metadata": {
    "ExecuteTime": {
     "end_time": "2021-10-12T18:02:05.777593Z",
     "start_time": "2021-10-12T18:02:00.110968Z"
    }
   },
   "outputs": [
    {
     "name": "stdout",
     "output_type": "stream",
     "text": [
      "(array([0, 1, 2]), array([400, 416, 384]))\n",
      "Enter the namesol\n"
     ]
    }
   ],
   "source": [
    "ensemble_model(test, [1,1,1,1,0,.1,1], None, \"test\")"
   ]
  },
  {
   "cell_type": "code",
   "execution_count": null,
   "id": "5d4300b5",
   "metadata": {
    "ExecuteTime": {
     "end_time": "2021-10-12T17:57:51.377762Z",
     "start_time": "2021-10-12T17:57:51.374393Z"
    }
   },
   "outputs": [],
   "source": []
  },
  {
   "cell_type": "code",
   "execution_count": 116,
   "id": "2edcedec",
   "metadata": {
    "ExecuteTime": {
     "end_time": "2021-10-12T14:17:42.066736Z",
     "start_time": "2021-10-12T14:17:42.062163Z"
    }
   },
   "outputs": [
    {
     "name": "stdout",
     "output_type": "stream",
     "text": [
      "(array([0, 1, 2]), array([399, 416, 385]))\n"
     ]
    }
   ],
   "source": [
    "####ensemble_model(test,[0,0,0,0.2,0,.3,.5] , None, 'None') #Best 96.17"
   ]
  },
  {
   "cell_type": "code",
   "execution_count": null,
   "id": "2c520a4b",
   "metadata": {},
   "outputs": [],
   "source": []
  },
  {
   "cell_type": "code",
   "execution_count": 226,
   "id": "a973377e",
   "metadata": {
    "ExecuteTime": {
     "end_time": "2021-10-12T18:02:08.648927Z",
     "start_time": "2021-10-12T18:02:08.451134Z"
    }
   },
   "outputs": [],
   "source": [
    "from PIL import Image\n",
    "import matplotlib.pyplot as plt\n",
    "\n",
    "label = pd.read_csv(\"./sol.csv\")\n",
    "\n",
    "# covid_img = []\n",
    "# for i in os.listdir(\"/media/brats/DRIVE1/akansh/DeepXrays/Data/raw/Chest XR covid/test/\"):\n",
    "#     if plt.imread(\"/media/brats/DRIVE1/akansh/DeepXrays/Data/raw/Chest XR covid/test/\"+i).shape[0] == 512:\n",
    "#         covid_img.append(i)\n",
    "\n",
    "\n",
    "\n",
    "\n",
    "for i in covid_img:\n",
    "    if label[label['case'] == i][' class'].values[0] != 0:\n",
    "        print(i)"
   ]
  },
  {
   "cell_type": "code",
   "execution_count": 227,
   "id": "f494d21b",
   "metadata": {
    "ExecuteTime": {
     "end_time": "2021-10-12T18:02:10.709973Z",
     "start_time": "2021-10-12T18:02:10.706135Z"
    }
   },
   "outputs": [
    {
     "data": {
      "text/plain": [
       "(array([0, 1, 2]), array([400, 416, 384]))"
      ]
     },
     "execution_count": 227,
     "metadata": {},
     "output_type": "execute_result"
    }
   ],
   "source": [
    "np.unique(label[\" class\"].values, return_counts=True)"
   ]
  },
  {
   "cell_type": "code",
   "execution_count": 228,
   "id": "2952ebc7",
   "metadata": {
    "ExecuteTime": {
     "end_time": "2021-10-12T18:02:12.799103Z",
     "start_time": "2021-10-12T18:02:12.796050Z"
    }
   },
   "outputs": [
    {
     "data": {
      "text/plain": [
       "32"
      ]
     },
     "execution_count": 228,
     "metadata": {},
     "output_type": "execute_result"
    }
   ],
   "source": [
    "16+16"
   ]
  },
  {
   "cell_type": "code",
   "execution_count": null,
   "id": "06353e93",
   "metadata": {},
   "outputs": [],
   "source": []
  }
 ],
 "metadata": {
  "kernelspec": {
   "display_name": "Python 3",
   "language": "python",
   "name": "python3"
  },
  "language_info": {
   "codemirror_mode": {
    "name": "ipython",
    "version": 3
   },
   "file_extension": ".py",
   "mimetype": "text/x-python",
   "name": "python",
   "nbconvert_exporter": "python",
   "pygments_lexer": "ipython3",
   "version": "3.8.8"
  },
  "toc": {
   "base_numbering": 1,
   "nav_menu": {},
   "number_sections": true,
   "sideBar": true,
   "skip_h1_title": false,
   "title_cell": "Table of Contents",
   "title_sidebar": "Contents",
   "toc_cell": false,
   "toc_position": {},
   "toc_section_display": true,
   "toc_window_display": false
  },
  "varInspector": {
   "cols": {
    "lenName": 16,
    "lenType": 16,
    "lenVar": 40
   },
   "kernels_config": {
    "python": {
     "delete_cmd_postfix": "",
     "delete_cmd_prefix": "del ",
     "library": "var_list.py",
     "varRefreshCmd": "print(var_dic_list())"
    },
    "r": {
     "delete_cmd_postfix": ") ",
     "delete_cmd_prefix": "rm(",
     "library": "var_list.r",
     "varRefreshCmd": "cat(var_dic_list()) "
    }
   },
   "types_to_exclude": [
    "module",
    "function",
    "builtin_function_or_method",
    "instance",
    "_Feature"
   ],
   "window_display": false
  }
 },
 "nbformat": 4,
 "nbformat_minor": 5
}
